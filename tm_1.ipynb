{
 "cells": [
  {
   "cell_type": "markdown",
   "metadata": {
    "pycharm": {
     "name": "#%% md\n"
    }
   },
   "source": [
    "# Topic modelling "
   ]
  },
  {
   "cell_type": "markdown",
   "metadata": {},
   "source": [
    "# Data Preprocess"
   ]
  },
  {
   "cell_type": "code",
   "execution_count": 40,
   "metadata": {
    "pycharm": {
     "name": "#%%\n"
    }
   },
   "outputs": [],
   "source": [
    "#pip install pyldavis\n"
   ]
  },
  {
   "cell_type": "code",
   "execution_count": 1,
   "metadata": {
    "pycharm": {
     "name": "#%%\n"
    }
   },
   "outputs": [],
   "source": [
    "import numpy as np\n",
    "import pandas as pd \n",
    "\n",
    "#Gensim\n",
    "import gensim\n",
    "import gensim.corpora as corpora\n",
    "from gensim.utils import simple_preprocess\n",
    "from gensim.models import CoherenceModel\n",
    "\n",
    "#spacy\n",
    "import spacy\n",
    "from nltk.corpus import stopwords\n",
    "\n",
    "#vis\n",
    "import matplotlib.pyplot as plt\n",
    "import pyLDAvis\n",
    "import pyLDAvis.gensim_models\n",
    "\n",
    "import warnings\n",
    "warnings.filterwarnings(\"ignore\", category=DeprecationWarning)"
   ]
  },
  {
   "cell_type": "code",
   "execution_count": 4,
   "metadata": {
    "pycharm": {
     "name": "#%%\n"
    }
   },
   "outputs": [
    {
     "data": {
      "text/html": [
       "<div>\n",
       "<style scoped>\n",
       "    .dataframe tbody tr th:only-of-type {\n",
       "        vertical-align: middle;\n",
       "    }\n",
       "\n",
       "    .dataframe tbody tr th {\n",
       "        vertical-align: top;\n",
       "    }\n",
       "\n",
       "    .dataframe thead th {\n",
       "        text-align: right;\n",
       "    }\n",
       "</style>\n",
       "<table border=\"1\" class=\"dataframe\">\n",
       "  <thead>\n",
       "    <tr style=\"text-align: right;\">\n",
       "      <th></th>\n",
       "      <th>Participant</th>\n",
       "    </tr>\n",
       "  </thead>\n",
       "  <tbody>\n",
       "    <tr>\n",
       "      <th>0</th>\n",
       "      <td>Yes, thank you, Uli. The good thing is that I ...</td>\n",
       "    </tr>\n",
       "    <tr>\n",
       "      <th>1</th>\n",
       "      <td>Three quick questions. One is just a follow-up...</td>\n",
       "    </tr>\n",
       "    <tr>\n",
       "      <th>2</th>\n",
       "      <td>Well, good afternoon to everybody here in Lond...</td>\n",
       "    </tr>\n",
       "    <tr>\n",
       "      <th>3</th>\n",
       "      <td>Well, thank you very much. We will now begin w...</td>\n",
       "    </tr>\n",
       "  </tbody>\n",
       "</table>\n",
       "</div>"
      ],
      "text/plain": [
       "                                         Participant\n",
       "0  Yes, thank you, Uli. The good thing is that I ...\n",
       "1  Three quick questions. One is just a follow-up...\n",
       "2  Well, good afternoon to everybody here in Lond...\n",
       "3  Well, thank you very much. We will now begin w..."
      ]
     },
     "execution_count": 4,
     "metadata": {},
     "output_type": "execute_result"
    }
   ],
   "source": [
    "data = pd.read_csv('all_participants.csv')\n",
    "data = data.loc[:, ~data.columns.str.contains('^Unnamed')]\n",
    "\n",
    "data"
   ]
  },
  {
   "cell_type": "code",
   "execution_count": 5,
   "metadata": {},
   "outputs": [
    {
     "data": {
      "text/html": [
       "<div>\n",
       "<style scoped>\n",
       "    .dataframe tbody tr th:only-of-type {\n",
       "        vertical-align: middle;\n",
       "    }\n",
       "\n",
       "    .dataframe tbody tr th {\n",
       "        vertical-align: top;\n",
       "    }\n",
       "\n",
       "    .dataframe thead th {\n",
       "        text-align: right;\n",
       "    }\n",
       "</style>\n",
       "<table border=\"1\" class=\"dataframe\">\n",
       "  <thead>\n",
       "    <tr style=\"text-align: right;\">\n",
       "      <th></th>\n",
       "      <th>text</th>\n",
       "      <th>participants</th>\n",
       "    </tr>\n",
       "  </thead>\n",
       "  <tbody>\n",
       "    <tr>\n",
       "      <th>0</th>\n",
       "      <td>Good morning, ladies and gentlemen. I welcome ...</td>\n",
       "      <td>Operator</td>\n",
       "    </tr>\n",
       "    <tr>\n",
       "      <th>1</th>\n",
       "      <td>Well, good morning, everyone and welcome to ou...</td>\n",
       "      <td>Jean-Jacques Henchoz</td>\n",
       "    </tr>\n",
       "    <tr>\n",
       "      <th>2</th>\n",
       "      <td>Thank you very much, Clemens. On the next slid...</td>\n",
       "      <td>Jean-Jacques Henchoz</td>\n",
       "    </tr>\n",
       "    <tr>\n",
       "      <th>3</th>\n",
       "      <td>(Question And Answer)Ladies and gentlemen, we ...</td>\n",
       "      <td>Operator</td>\n",
       "    </tr>\n",
       "    <tr>\n",
       "      <th>4</th>\n",
       "      <td>Hi. Good morning, everyone. Could I just dig i...</td>\n",
       "      <td>Andrew Ritchie</td>\n",
       "    </tr>\n",
       "    <tr>\n",
       "      <th>...</th>\n",
       "      <td>...</td>\n",
       "      <td>...</td>\n",
       "    </tr>\n",
       "    <tr>\n",
       "      <th>60</th>\n",
       "      <td>Yes. Two quick questions. The first one would ...</td>\n",
       "      <td>Thomas Fossard</td>\n",
       "    </tr>\n",
       "    <tr>\n",
       "      <th>61</th>\n",
       "      <td>And on the NatCat, so as Jean-Jacques explaine...</td>\n",
       "      <td>Klaus Miller</td>\n",
       "    </tr>\n",
       "    <tr>\n",
       "      <th>62</th>\n",
       "      <td>Thank you. Thank you.</td>\n",
       "      <td>Thomas Fossard</td>\n",
       "    </tr>\n",
       "    <tr>\n",
       "      <th>63</th>\n",
       "      <td>And there are no further questions at this poi...</td>\n",
       "      <td>Operator</td>\n",
       "    </tr>\n",
       "    <tr>\n",
       "      <th>64</th>\n",
       "      <td>Well, thank you very much for joining, and tha...</td>\n",
       "      <td>Jean-Jacques Henchoz</td>\n",
       "    </tr>\n",
       "  </tbody>\n",
       "</table>\n",
       "<p>65 rows × 2 columns</p>\n",
       "</div>"
      ],
      "text/plain": [
       "                                                 text          participants\n",
       "0   Good morning, ladies and gentlemen. I welcome ...              Operator\n",
       "1   Well, good morning, everyone and welcome to ou...  Jean-Jacques Henchoz\n",
       "2   Thank you very much, Clemens. On the next slid...  Jean-Jacques Henchoz\n",
       "3   (Question And Answer)Ladies and gentlemen, we ...              Operator\n",
       "4   Hi. Good morning, everyone. Could I just dig i...        Andrew Ritchie\n",
       "..                                                ...                   ...\n",
       "60  Yes. Two quick questions. The first one would ...        Thomas Fossard\n",
       "61  And on the NatCat, so as Jean-Jacques explaine...          Klaus Miller\n",
       "62                              Thank you. Thank you.        Thomas Fossard\n",
       "63  And there are no further questions at this poi...              Operator\n",
       "64  Well, thank you very much for joining, and tha...  Jean-Jacques Henchoz\n",
       "\n",
       "[65 rows x 2 columns]"
      ]
     },
     "execution_count": 5,
     "metadata": {},
     "output_type": "execute_result"
    }
   ],
   "source": [
    "data_tim = pd.read_csv('/Users/matheusmaciel/CASS/MSc 2021-22 /ARP /data_collecting/paragraph_split_df.csv')\n",
    "data_tim"
   ]
  },
  {
   "cell_type": "code",
   "execution_count": 6,
   "metadata": {
    "pycharm": {
     "name": "#%%\n"
    }
   },
   "outputs": [
    {
     "data": {
      "text/plain": [
       "'morning lady gentleman today re information conference isbeing time call host today sir'"
      ]
     },
     "execution_count": 6,
     "metadata": {},
     "output_type": "execute_result"
    }
   ],
   "source": [
    "def lemmatization(texts, allowed_postags=[\"NOUN\"]):\n",
    "    nlp = spacy.load(\"en_core_web_sm\", disable=[\"parser\", \"ner\"])\n",
    "    texts_out = []\n",
    "\n",
    "    for row in range(len(data_tim)):\n",
    "        for text in texts:\n",
    "            doc = nlp(data_tim.loc[row,\"text\"])\n",
    "        \n",
    "        new_text = []\n",
    "        for token in doc:\n",
    "            if token.pos_ in allowed_postags:\n",
    "                new_text.append(token.lemma_)\n",
    "        final = \" \".join(new_text)\n",
    "        texts_out.append(final)\n",
    "    return (texts_out)\n",
    "\n",
    "lemmatized_texts = lemmatization(data_tim)\n",
    "lemmatized_texts[0]\n",
    "#lemmatized_texts"
   ]
  },
  {
   "cell_type": "code",
   "execution_count": 45,
   "metadata": {
    "pycharm": {
     "name": "#%%\n"
    }
   },
   "outputs": [
    {
     "name": "stdout",
     "output_type": "stream",
     "text": [
      "['morning', 'lady', 'gentleman', 'today', 're', 'information', 'conference', 'isbeing', 'time', 'call', 'host', 'today', 'sir']\n"
     ]
    }
   ],
   "source": [
    "def gen_words(texts):\n",
    "    final = []\n",
    "    for text in texts:\n",
    "        new = gensim.utils.simple_preprocess(text, deacc=True)\n",
    "        final.append(new)\n",
    "    return (final)\n",
    "\n",
    "data_words = gen_words(lemmatized_texts)\n",
    "\n",
    "print (data_words[0][0:20])"
   ]
  },
  {
   "cell_type": "code",
   "execution_count": 46,
   "metadata": {
    "pycharm": {
     "name": "#%%\n"
    }
   },
   "outputs": [
    {
     "name": "stdout",
     "output_type": "stream",
     "text": [
      "[(0, 1), (1, 1), (2, 1), (3, 1), (4, 1), (5, 1), (6, 1), (7, 1), (8, 1), (9, 1), (10, 1), (11, 2)]\n",
      "call\n"
     ]
    }
   ],
   "source": [
    "id2word = corpora.Dictionary(data_words)\n",
    "\n",
    "corpus = []\n",
    "for text in data_words:\n",
    "    new = id2word.doc2bow(text)\n",
    "    corpus.append(new)\n",
    "\n",
    "print (corpus[0][0:20])\n",
    "\n",
    "word = id2word[[0][:1][0]]\n",
    "print (word)"
   ]
  },
  {
   "cell_type": "markdown",
   "metadata": {},
   "source": [
    "### TF IDF "
   ]
  },
  {
   "cell_type": "code",
   "execution_count": 8,
   "metadata": {},
   "outputs": [],
   "source": [
    "from sklearn.feature_extraction.text import TfidfVectorizer\n",
    "from sklearn.cluster import KMeans\n",
    "from sklearn.metrics import adjusted_rand_score"
   ]
  },
  {
   "cell_type": "code",
   "execution_count": 9,
   "metadata": {},
   "outputs": [],
   "source": [
    "vectoriser = TfidfVectorizer(\n",
    "    lowercase=True,\n",
    "    max_features=100,\n",
    "    max_df=0.8, \n",
    "    min_df=5,\n",
    "    ngram_range=(1,3),\n",
    "    stop_words= \"english\"\n",
    ")\n",
    "\n",
    "vectors = vectoriser.fit_transform(lemmatized_texts)\n",
    "\n",
    "feature_names = vectoriser.get_feature_names()\n",
    "\n",
    "dense = vectors.todense()\n",
    "denselist = dense.tolist()\n"
   ]
  },
  {
   "cell_type": "code",
   "execution_count": 10,
   "metadata": {},
   "outputs": [
    {
     "name": "stdout",
     "output_type": "stream",
     "text": [
      "['information', 'morning', 'time', 'today']\n"
     ]
    }
   ],
   "source": [
    "all_keywords = []\n",
    "\n",
    "for description in denselist:\n",
    "    x=0\n",
    "    keywords = []\n",
    "    for word in description:\n",
    "        if word > 0:\n",
    "            keywords.append(feature_names[x])\n",
    "        x=x+1\n",
    "    all_keywords.append(keywords)\n",
    "\n",
    "print (all_keywords[0])\n"
   ]
  },
  {
   "cell_type": "code",
   "execution_count": 11,
   "metadata": {},
   "outputs": [],
   "source": [
    "true_k = 20\n",
    "\n",
    "model = KMeans(n_clusters=true_k, init=\"k-means++\", max_iter=100, n_init=1)\n",
    "\n",
    "model.fit(vectors)\n",
    "\n",
    "order_centroids = model.cluster_centers_.argsort()[:, ::-1]\n",
    "terms = vectoriser.get_feature_names()\n"
   ]
  },
  {
   "cell_type": "code",
   "execution_count": 13,
   "metadata": {},
   "outputs": [
    {
     "ename": "FileNotFoundError",
     "evalue": "[Errno 2] No such file or directory: 'data/trc_results.txt'",
     "output_type": "error",
     "traceback": [
      "\u001b[0;31m---------------------------------------------------------------------------\u001b[0m",
      "\u001b[0;31mFileNotFoundError\u001b[0m                         Traceback (most recent call last)",
      "\u001b[1;32m/Users/matheusmaciel/CASS/MSc 2021-22 /ARP /Topic Modelling/topic_modelling/tm_1.ipynb Cell 15'\u001b[0m in \u001b[0;36m<cell line: 1>\u001b[0;34m()\u001b[0m\n\u001b[0;32m----> <a href='vscode-notebook-cell:/Users/matheusmaciel/CASS/MSc%202021-22%20/ARP%20/Topic%20Modelling/topic_modelling/tm_1.ipynb#ch0000032?line=0'>1</a>\u001b[0m \u001b[39mwith\u001b[39;00m \u001b[39mopen\u001b[39;49m (\u001b[39m\"\u001b[39;49m\u001b[39mdata/trc_results.txt\u001b[39;49m\u001b[39m\"\u001b[39;49m, \u001b[39m\"\u001b[39;49m\u001b[39mw\u001b[39;49m\u001b[39m\"\u001b[39;49m, encoding\u001b[39m=\u001b[39;49m\u001b[39m\"\u001b[39;49m\u001b[39mutf-8\u001b[39;49m\u001b[39m\"\u001b[39;49m) \u001b[39mas\u001b[39;00m f:\n\u001b[1;32m      <a href='vscode-notebook-cell:/Users/matheusmaciel/CASS/MSc%202021-22%20/ARP%20/Topic%20Modelling/topic_modelling/tm_1.ipynb#ch0000032?line=1'>2</a>\u001b[0m     \u001b[39mfor\u001b[39;00m i \u001b[39min\u001b[39;00m \u001b[39mrange\u001b[39m(true_k):\n\u001b[1;32m      <a href='vscode-notebook-cell:/Users/matheusmaciel/CASS/MSc%202021-22%20/ARP%20/Topic%20Modelling/topic_modelling/tm_1.ipynb#ch0000032?line=2'>3</a>\u001b[0m         f\u001b[39m.\u001b[39mwrite(\u001b[39mf\u001b[39m\u001b[39m\"\u001b[39m\u001b[39mCluster \u001b[39m\u001b[39m{\u001b[39;00mi\u001b[39m}\u001b[39;00m\u001b[39m\"\u001b[39m)\n",
      "\u001b[0;31mFileNotFoundError\u001b[0m: [Errno 2] No such file or directory: 'data/trc_results.txt'"
     ]
    }
   ],
   "source": [
    "with open (\"data/trc_results.txt\", \"w\", encoding=\"utf-8\") as f:\n",
    "    for i in range(true_k):\n",
    "        f.write(f\"Cluster {i}\")\n",
    "        f.write(\"\\n\")\n",
    "        for ind in order_centroids[i, :10]:\n",
    "            f.write (' %s' % terms[ind],)\n",
    "            f.write(\"\\n\")\n",
    "        f.write(\"\\n\")\n",
    "        f.write(\"\\n\")\n"
   ]
  },
  {
   "cell_type": "markdown",
   "metadata": {
    "pycharm": {
     "name": "#%% md\n"
    }
   },
   "source": [
    "# LDA "
   ]
  },
  {
   "cell_type": "code",
   "execution_count": 47,
   "metadata": {
    "pycharm": {
     "name": "#%%\n"
    }
   },
   "outputs": [],
   "source": [
    "lda_model = gensim.models.ldamodel.LdaModel(corpus=corpus,\n",
    "                                           id2word=id2word,\n",
    "                                           num_topics=10,\n",
    "                                           random_state=100,\n",
    "                                           update_every=1,\n",
    "                                           chunksize=100,\n",
    "                                           passes=10,\n",
    "                                           alpha=\"auto\")"
   ]
  },
  {
   "cell_type": "markdown",
   "metadata": {},
   "source": [
    "## WiP - Coherence Values "
   ]
  },
  {
   "cell_type": "code",
   "execution_count": 48,
   "metadata": {},
   "outputs": [],
   "source": [
    "#LDA topic modeling\n",
    "def get_lda_topics(model, num_topics):\n",
    "    word_dict = {};\n",
    "    for i in range(num_topics):\n",
    "        words = model.show_topic(i, topn = 100);\n",
    "        word_dict['Topic # ' + '{:02d}'.format(i+1)] = [i[0] for i in words];\n",
    "    return pd.DataFrame(word_dict);\n"
   ]
  },
  {
   "cell_type": "code",
   "execution_count": 55,
   "metadata": {},
   "outputs": [
    {
     "name": "stderr",
     "output_type": "stream",
     "text": [
      "/Users/matheusmaciel/opt/anaconda3/envs/nlp_env/lib/python3.8/site-packages/gensim/topic_coherence/direct_confirmation_measure.py:202: RuntimeWarning: invalid value encountered in true_divide\n",
      "  numerator = (co_occur_count / num_docs) + EPSILON\n",
      "/Users/matheusmaciel/opt/anaconda3/envs/nlp_env/lib/python3.8/site-packages/gensim/topic_coherence/direct_confirmation_measure.py:203: RuntimeWarning: invalid value encountered in true_divide\n",
      "  denominator = (w_prime_count / num_docs) * (w_star_count / num_docs)\n",
      "/Users/matheusmaciel/opt/anaconda3/envs/nlp_env/lib/python3.8/site-packages/gensim/topic_coherence/direct_confirmation_measure.py:198: RuntimeWarning: invalid value encountered in true_divide\n",
      "  co_doc_prob = co_occur_count / num_docs\n"
     ]
    }
   ],
   "source": [
    "def compute_coherence_values(dictionary, corpus, texts, limit, start=2, step=3):\n",
    "    \"\"\"\n",
    "    Compute c_v coherence for various number of topics\n",
    "\n",
    "    Parameters:\n",
    "    ----------\n",
    "    dictionary : Gensim dictionary\n",
    "    corpus : Gensim corpus\n",
    "    texts : List of input texts\n",
    "    limit : Max num of topics\n",
    "\n",
    "    Returns:\n",
    "    -------\n",
    "    model_list : List of LDA topic models\n",
    "    coherence_values : Coherence values corresponding to the LDA model with respective number of topics\n",
    "    \"\"\"\n",
    "    coherence_values = []\n",
    "    model_list = []\n",
    "\n",
    "    for num_topics in range(start, limit, step):\n",
    "        model = gensim.models.ldamodel.LdaModel(corpus=corpus, id2word=id2word, num_topics=num_topics)\n",
    "        model_list.append(model)\n",
    "        coherencemodel = CoherenceModel(model=model, texts=texts, dictionary=dictionary, coherence='c_v')\n",
    "        coherence_values.append(coherencemodel.get_coherence())\n",
    "\n",
    "    return model_list, coherence_values\n",
    "\n",
    "# Can take a long time to run.\n",
    "model_list, coherence_values = compute_coherence_values(dictionary=id2word, corpus=corpus, texts=lemmatized_texts, start=2, limit=20, step=6)"
   ]
  },
  {
   "cell_type": "code",
   "execution_count": 56,
   "metadata": {},
   "outputs": [
    {
     "data": {
      "image/png": "[encoded data removed]",
      "text/plain": [
       "<Figure size 432x288 with 1 Axes>"
      ]
     },
     "metadata": {
      "needs_background": "light"
     },
     "output_type": "display_data"
    }
   ],
   "source": [
    "# Show graph\n",
    "limit=20; start=2; step=6;\n",
    "x = range(start, limit, step)\n",
    "plt.plot(x, coherence_values)\n",
    "plt.xlabel(\"Num Topics\")\n",
    "plt.ylabel(\"Coherence score\")\n",
    "plt.legend((\"coherence_values\"), loc='best')\n",
    "plt.show()"
   ]
  },
  {
   "cell_type": "markdown",
   "metadata": {},
   "source": [
    "## Results - table"
   ]
  },
  {
   "cell_type": "code",
   "execution_count": 51,
   "metadata": {},
   "outputs": [],
   "source": [
    "topic_df = get_lda_topics(lda_model, 10)"
   ]
  },
  {
   "cell_type": "code",
   "execution_count": 58,
   "metadata": {},
   "outputs": [
    {
     "data": {
      "text/html": [
       "<div>\n",
       "<style scoped>\n",
       "    .dataframe tbody tr th:only-of-type {\n",
       "        vertical-align: middle;\n",
       "    }\n",
       "\n",
       "    .dataframe tbody tr th {\n",
       "        vertical-align: top;\n",
       "    }\n",
       "\n",
       "    .dataframe thead th {\n",
       "        text-align: right;\n",
       "    }\n",
       "</style>\n",
       "<table border=\"1\" class=\"dataframe\">\n",
       "  <thead>\n",
       "    <tr style=\"text-align: right;\">\n",
       "      <th></th>\n",
       "      <th>Topic # 01</th>\n",
       "      <th>Topic # 02</th>\n",
       "      <th>Topic # 03</th>\n",
       "      <th>Topic # 04</th>\n",
       "      <th>Topic # 05</th>\n",
       "      <th>Topic # 06</th>\n",
       "      <th>Topic # 07</th>\n",
       "      <th>Topic # 08</th>\n",
       "      <th>Topic # 09</th>\n",
       "      <th>Topic # 10</th>\n",
       "    </tr>\n",
       "  </thead>\n",
       "  <tbody>\n",
       "    <tr>\n",
       "      <th>0</th>\n",
       "      <td>year</td>\n",
       "      <td>mortality</td>\n",
       "      <td>question</td>\n",
       "      <td>year</td>\n",
       "      <td>number</td>\n",
       "      <td>year</td>\n",
       "      <td>growth</td>\n",
       "      <td>year</td>\n",
       "      <td>longevity</td>\n",
       "      <td>loss</td>\n",
       "    </tr>\n",
       "    <tr>\n",
       "      <th>1</th>\n",
       "      <td>pension</td>\n",
       "      <td>result</td>\n",
       "      <td>year</td>\n",
       "      <td>life</td>\n",
       "      <td>view</td>\n",
       "      <td>growth</td>\n",
       "      <td>question</td>\n",
       "      <td>loss</td>\n",
       "      <td>life</td>\n",
       "      <td>year</td>\n",
       "    </tr>\n",
       "    <tr>\n",
       "      <th>2</th>\n",
       "      <td>business</td>\n",
       "      <td>side</td>\n",
       "      <td>business</td>\n",
       "      <td>cover</td>\n",
       "      <td>rate</td>\n",
       "      <td>business</td>\n",
       "      <td>line</td>\n",
       "      <td>growth</td>\n",
       "      <td>growth</td>\n",
       "      <td>premium</td>\n",
       "    </tr>\n",
       "    <tr>\n",
       "      <th>3</th>\n",
       "      <td>number</td>\n",
       "      <td>claim</td>\n",
       "      <td>number</td>\n",
       "      <td>number</td>\n",
       "      <td>increase</td>\n",
       "      <td>calculation</td>\n",
       "      <td>loss</td>\n",
       "      <td>quarter</td>\n",
       "      <td>claim</td>\n",
       "      <td>number</td>\n",
       "    </tr>\n",
       "    <tr>\n",
       "      <th>4</th>\n",
       "      <td>lot</td>\n",
       "      <td>year</td>\n",
       "      <td>effect</td>\n",
       "      <td>mortality</td>\n",
       "      <td>year</td>\n",
       "      <td>thank</td>\n",
       "      <td>year</td>\n",
       "      <td>effect</td>\n",
       "      <td>ratio</td>\n",
       "      <td>underwriting</td>\n",
       "    </tr>\n",
       "    <tr>\n",
       "      <th>...</th>\n",
       "      <td>...</td>\n",
       "      <td>...</td>\n",
       "      <td>...</td>\n",
       "      <td>...</td>\n",
       "      <td>...</td>\n",
       "      <td>...</td>\n",
       "      <td>...</td>\n",
       "      <td>...</td>\n",
       "      <td>...</td>\n",
       "      <td>...</td>\n",
       "    </tr>\n",
       "    <tr>\n",
       "      <th>95</th>\n",
       "      <td>client</td>\n",
       "      <td>quitedifficult</td>\n",
       "      <td>pandemic</td>\n",
       "      <td>way</td>\n",
       "      <td>income</td>\n",
       "      <td>target</td>\n",
       "      <td>accounting</td>\n",
       "      <td>flood</td>\n",
       "      <td>weeksand</td>\n",
       "      <td>income</td>\n",
       "    </tr>\n",
       "    <tr>\n",
       "      <th>96</th>\n",
       "      <td>gain</td>\n",
       "      <td>in</td>\n",
       "      <td>issuance</td>\n",
       "      <td>information</td>\n",
       "      <td>range</td>\n",
       "      <td>bond</td>\n",
       "      <td>view</td>\n",
       "      <td>highlight</td>\n",
       "      <td>retro</td>\n",
       "      <td>people</td>\n",
       "    </tr>\n",
       "    <tr>\n",
       "      <th>97</th>\n",
       "      <td>return</td>\n",
       "      <td>recalculation</td>\n",
       "      <td>high</td>\n",
       "      <td>thanif</td>\n",
       "      <td>term</td>\n",
       "      <td>date</td>\n",
       "      <td>target</td>\n",
       "      <td>depreciation</td>\n",
       "      <td>loss</td>\n",
       "      <td>equity</td>\n",
       "    </tr>\n",
       "    <tr>\n",
       "      <th>98</th>\n",
       "      <td>ratio</td>\n",
       "      <td>idea</td>\n",
       "      <td>volatility</td>\n",
       "      <td>difference</td>\n",
       "      <td>slide</td>\n",
       "      <td>cash</td>\n",
       "      <td>return</td>\n",
       "      <td>provision</td>\n",
       "      <td>income</td>\n",
       "      <td>expectation</td>\n",
       "    </tr>\n",
       "    <tr>\n",
       "      <th>99</th>\n",
       "      <td>re</td>\n",
       "      <td>outcome</td>\n",
       "      <td>mortality</td>\n",
       "      <td>group</td>\n",
       "      <td>development</td>\n",
       "      <td>currency</td>\n",
       "      <td>cover</td>\n",
       "      <td>term</td>\n",
       "      <td>month</td>\n",
       "      <td>portfolio</td>\n",
       "    </tr>\n",
       "  </tbody>\n",
       "</table>\n",
       "<p>100 rows × 10 columns</p>\n",
       "</div>"
      ],
      "text/plain": [
       "   Topic # 01      Topic # 02  Topic # 03   Topic # 04   Topic # 05  \\\n",
       "0        year       mortality    question         year       number   \n",
       "1     pension          result        year         life         view   \n",
       "2    business            side    business        cover         rate   \n",
       "3      number           claim      number       number     increase   \n",
       "4         lot            year      effect    mortality         year   \n",
       "..        ...             ...         ...          ...          ...   \n",
       "95     client  quitedifficult    pandemic          way       income   \n",
       "96       gain              in    issuance  information        range   \n",
       "97     return   recalculation        high       thanif         term   \n",
       "98      ratio            idea  volatility   difference        slide   \n",
       "99         re         outcome   mortality        group  development   \n",
       "\n",
       "     Topic # 06  Topic # 07    Topic # 08 Topic # 09    Topic # 10  \n",
       "0          year      growth          year  longevity          loss  \n",
       "1        growth    question          loss       life          year  \n",
       "2      business        line        growth     growth       premium  \n",
       "3   calculation        loss       quarter      claim        number  \n",
       "4         thank        year        effect      ratio  underwriting  \n",
       "..          ...         ...           ...        ...           ...  \n",
       "95       target  accounting         flood   weeksand        income  \n",
       "96         bond        view     highlight      retro        people  \n",
       "97         date      target  depreciation       loss        equity  \n",
       "98         cash      return     provision     income   expectation  \n",
       "99     currency       cover          term      month     portfolio  \n",
       "\n",
       "[100 rows x 10 columns]"
      ]
     },
     "execution_count": 58,
     "metadata": {},
     "output_type": "execute_result"
    }
   ],
   "source": [
    "topic_df"
   ]
  },
  {
   "cell_type": "markdown",
   "metadata": {
    "pycharm": {
     "name": "#%% md\n"
    }
   },
   "source": [
    "## Visualising data and topics"
   ]
  },
  {
   "cell_type": "code",
   "execution_count": 52,
   "metadata": {
    "pycharm": {
     "name": "#%%\n"
    }
   },
   "outputs": [
    {
     "name": "stderr",
     "output_type": "stream",
     "text": [
      "/Users/matheusmaciel/opt/anaconda3/envs/nlp_env/lib/python3.8/site-packages/pyLDAvis/_prepare.py:246: FutureWarning: In a future version of pandas all arguments of DataFrame.drop except for the argument 'labels' will be keyword-only.\n",
      "  default_term_info = default_term_info.sort_values(\n",
      "/Users/matheusmaciel/opt/anaconda3/envs/nlp_env/lib/python3.8/site-packages/past/builtins/misc.py:45: DeprecationWarning: the imp module is deprecated in favour of importlib; see the module's documentation for alternative uses\n",
      "  from imp import reload\n",
      "/Users/matheusmaciel/opt/anaconda3/envs/nlp_env/lib/python3.8/site-packages/past/builtins/misc.py:45: DeprecationWarning: the imp module is deprecated in favour of importlib; see the module's documentation for alternative uses\n",
      "  from imp import reload\n",
      "/Users/matheusmaciel/opt/anaconda3/envs/nlp_env/lib/python3.8/site-packages/past/builtins/misc.py:45: DeprecationWarning: the imp module is deprecated in favour of importlib; see the module's documentation for alternative uses\n",
      "  from imp import reload\n",
      "/Users/matheusmaciel/opt/anaconda3/envs/nlp_env/lib/python3.8/site-packages/past/builtins/misc.py:45: DeprecationWarning: the imp module is deprecated in favour of importlib; see the module's documentation for alternative uses\n",
      "  from imp import reload\n",
      "/Users/matheusmaciel/opt/anaconda3/envs/nlp_env/lib/python3.8/site-packages/past/builtins/misc.py:45: DeprecationWarning: the imp module is deprecated in favour of importlib; see the module's documentation for alternative uses\n",
      "  from imp import reload\n",
      "/Users/matheusmaciel/opt/anaconda3/envs/nlp_env/lib/python3.8/site-packages/past/builtins/misc.py:45: DeprecationWarning: the imp module is deprecated in favour of importlib; see the module's documentation for alternative uses\n",
      "  from imp import reload\n",
      "/Users/matheusmaciel/opt/anaconda3/envs/nlp_env/lib/python3.8/site-packages/past/builtins/misc.py:45: DeprecationWarning: the imp module is deprecated in favour of importlib; see the module's documentation for alternative uses\n",
      "  from imp import reload\n",
      "/Users/matheusmaciel/opt/anaconda3/envs/nlp_env/lib/python3.8/site-packages/past/builtins/misc.py:45: DeprecationWarning: the imp module is deprecated in favour of importlib; see the module's documentation for alternative uses\n",
      "  from imp import reload\n"
     ]
    },
    {
     "data": {
      "text/html": [
       "\n",
       "<link rel=\"stylesheet\" type=\"text/css\" href=\"https://cdn.jsdelivr.net/gh/bmabey/pyLDAvis@3.3.1/pyLDAvis/js/ldavis.v1.0.0.css\">\n",
       "\n",
       "\n",
       "<div id=\"ldavis_el191306317160704750906389\"></div>\n",
       "<script type=\"text/javascript\">\n",
       "\n",
       "var ldavis_el191306317160704750906389_data = {\"mdsDat\": {\"x\": [0.15639396763055097, 0.07721914037966983, -0.1860031841315265, -0.09783857857079677, 0.08724152439405027, -0.020810867680059946, -0.02931197967385182, -0.13686560202983838, -0.007784950057592159, 0.15776052973939453], \"y\": [0.07691918388227476, 0.1821035756280298, 0.04093261978532618, 0.15421832771437716, -0.10947342820996933, 0.0815670656979154, -0.21698527413244606, -0.1129107354505669, -0.04108330605271085, -0.055288028862230276], \"topics\": [1, 2, 3, 4, 5, 6, 7, 8, 9, 10], \"cluster\": [1, 1, 1, 1, 1, 1, 1, 1, 1, 1], \"Freq\": [40.73803211108655, 9.630690198925073, 8.863274347025197, 8.145028112086864, 6.941360727149223, 6.04969892485472, 5.945456899684109, 5.443894147424994, 4.742897114746708, 3.499667417016567]}, \"tinfo\": {\"Term\": [\"loss\", \"growth\", \"year\", \"question\", \"mortality\", \"life\", \"number\", \"portfolio\", \"quarter\", \"cover\", \"business\", \"claim\", \"result\", \"line\", \"effect\", \"impact\", \"increase\", \"longevity\", \"guidance\", \"premium\", \"health\", \"rate\", \"calculation\", \"assumption\", \"underwriting\", \"side\", \"ratio\", \"cash\", \"flow\", \"profitability\", \"slide\", \"dividend\", \"group\", \"change\", \"gain\", \"management\", \"currency\", \"value\", \"development\", \"target\", \"remark\", \"reinsurance\", \"volatility\", \"expectation\", \"impairment\", \"return\", \"pandemic\", \"catastrophe\", \"ourguidance\", \"improvement\", \"metric\", \"look\", \"capitalization\", \"interest\", \"expense\", \"solvency\", \"riot\", \"highlight\", \"depreciation\", \"ninemonth\", \"date\", \"top\", \"capital\", \"income\", \"loss\", \"month\", \"covid\", \"impact\", \"budget\", \"equity\", \"effect\", \"investment\", \"growth\", \"year\", \"health\", \"market\", \"quarter\", \"mortality\", \"portfolio\", \"life\", \"business\", \"result\", \"guidance\", \"increase\", \"line\", \"premium\", \"thesetreatie\", \"morbidity\", \"block\", \"deposit\", \"population\", \"treaty\", \"thing\", \"yourexpectation\", \"certainty\", \"riskpremium\", \"ownportfolio\", \"havelongevity\", \"source\", \"bottomline\", \"especiallywhen\", \"tounderstand\", \"statement\", \"ormost\", \"transaction\", \"presentation\", \"isdeposit\", \"margin\", \"other\", \"correlation\", \"area\", \"andnobody\", \"unknown\", \"covidclaim\", \"addback\", \"someupdate\", \"cover\", \"focus\", \"way\", \"result\", \"claim\", \"accounting\", \"mortality\", \"side\", \"release\", \"longevity\", \"client\", \"datum\", \"portfolio\", \"question\", \"line\", \"course\", \"retro\", \"lot\", \"eur\", \"information\", \"year\", \"bit\", \"rate\", \"life\", \"loss\", \"growth\", \"business\", \"number\", \"time\", \"payout\", \"example\", \"message\", \"contract\", \"factthat\", \"outflow\", \"plane\", \"budgeting\", \"thelongevity\", \"trajectory\", \"theroe\", \"seeyou\", \"bothbusiness\", \"ground\", \"road\", \"asme\", \"state\", \"thekey\", \"scheme\", \"instance\", \"calculate\", \"check\", \"andinsolvency\", \"torecollect\", \"weare\", \"fullyear\", \"pointof\", \"rather\", \"weeksago\", \"apremium\", \"recovery\", \"question\", \"flow\", \"cash\", \"growth\", \"line\", \"quarter\", \"number\", \"side\", \"loss\", \"year\", \"budget\", \"bond\", \"basis\", \"time\", \"course\", \"guidance\", \"premium\", \"income\", \"ratio\", \"business\", \"increase\", \"effect\", \"investment\", \"outlook\", \"profit\", \"amount\", \"share\", \"digit\", \"ladie\", \"subsidiary\", \"leader\", \"ourmarket\", \"right\", \"ratioalready\", \"support\", \"surprise\", \"frominflation\", \"anotherlarge\", \"rebound\", \"core\", \"fromthe\", \"walk\", \"amortization\", \"thescr\", \"ebitnumber\", \"thecontribution\", \"healthand\", \"bit\", \"answer\", \"inflation\", \"perspective\", \"session\", \"color\", \"gentleman\", \"cat\", \"effect\", \"question\", \"couple\", \"market\", \"equity\", \"business\", \"number\", \"increase\", \"year\", \"guidance\", \"book\", \"bond\", \"contribution\", \"life\", \"investment\", \"health\", \"income\", \"profitability\", \"growth\", \"course\", \"line\", \"side\", \"picture\", \"detail\", \"trigger\", \"and\", \"one\", \"iguess\", \"isbeing\", \"lady\", \"sir\", \"host\", \"thinking\", \"goingforward\", \"welook\", \"clarification\", \"factoring\", \"normalmortality\", \"kick\", \"theimplication\", \"potential\", \"secondone\", \"thesecond\", \"hospital\", \"thatha\", \"thirdquarter\", \"car\", \"accident\", \"yourquestion\", \"weeksand\", \"coverage\", \"benefit\", \"clarity\", \"planning\", \"longevity\", \"book\", \"fact\", \"claim\", \"today\", \"life\", \"ratio\", \"side\", \"contribution\", \"growth\", \"quarter\", \"question\", \"time\", \"profitability\", \"budget\", \"health\", \"year\", \"number\", \"business\", \"effect\", \"increase\", \"mortality\", \"investment\", \"fund\", \"impact\", \"result\", \"cedent\", \"up\", \"thank\", \"volumeversus\", \"andnatcat\", \"degree\", \"nature\", \"catbudget\", \"gapbetween\", \"growthor\", \"farstronger\", \"opposite\", \"sven\", \"wasanother\", \"declined\", \"beensignificant\", \"thatincrease\", \"decline\", \"assetallocation\", \"relative\", \"split\", \"contributor\", \"follow\", \"calculation\", \"pad\", \"flood\", \"color\", \"cleanup\", \"information\", \"capacity\", \"morning\", \"point\", \"figure\", \"business\", \"growth\", \"month\", \"year\", \"digit\", \"life\", \"number\", \"course\", \"ratio\", \"health\", \"question\", \"bit\", \"effect\", \"line\", \"mortality\", \"investment\", \"budget\", \"longevity\", \"wholeaccount\", \"stimulus\", \"spillover\", \"howhigh\", \"everyelement\", \"remainder\", \"thatchange\", \"bottom\", \"tochange\", \"structure\", \"downassumption\", \"buta\", \"construction\", \"gap\", \"ourtransaction\", \"protection\", \"thebulk\", \"package\", \"positiverunoff\", \"thedifference\", \"wenow\", \"higherthan\", \"thatfreeze\", \"tail\", \"andcapacity\", \"winter\", \"insolvency\", \"trade\", \"thenet\", \"ofinsolvencie\", \"reporting\", \"underwriting\", \"difference\", \"storm\", \"account\", \"credit\", \"loss\", \"premium\", \"period\", \"year\", \"number\", \"ratio\", \"quarter\", \"assumption\", \"impact\", \"business\", \"basis\", \"lot\", \"reason\", \"end\", \"information\", \"term\", \"today\", \"figure\", \"cover\", \"pension\", \"die\", \"system\", \"ofgross\", \"writing\", \"fronting\", \"set\", \"pricing\", \"ayear\", \"theforefront\", \"plan\", \"age\", \"thanif\", \"work\", \"topay\", \"fixedlag\", \"delay\", \"assomebody\", \"monthlyaccount\", \"thisyear\", \"aswe\", \"inaudible\", \"gbp\", \"outset\", \"norm\", \"counterpartie\", \"thatand\", \"ourprofit\", \"admin\", \"pensioninsurer\", \"update\", \"lag\", \"people\", \"lot\", \"difference\", \"year\", \"fund\", \"treaty\", \"number\", \"business\", \"time\", \"reinsurance\", \"portfolio\", \"impact\", \"side\", \"profit\", \"way\", \"retro\", \"longevity\", \"life\", \"profitability\", \"activity\", \"situation\", \"net\", \"date\", \"claim\", \"question\", \"appetite\", \"view\", \"hurdle\", \"pricingpoint\", \"wespeak\", \"status\", \"thebasis\", \"andcredit\", \"dip\", \"growththat\", \"reserving\", \"usualexercise\", \"reasonwhy\", \"scrincrease\", \"inq\", \"model\", \"cetera\", \"et\", \"risk\", \"fund\", \"case\", \"round\", \"planning\", \"perspective\", \"exercise\", \"newbusiness\", \"reallocation\", \"decrease\", \"reflection\", \"rate\", \"profitability\", \"increase\", \"number\", \"point\", \"portfolio\", \"ratio\", \"year\", \"investment\", \"quarter\", \"business\", \"loss\", \"side\", \"time\", \"life\", \"result\", \"health\", \"level\", \"segment\", \"couple\", \"statistic\", \"buffer\", \"someexpectation\", \"quantification\", \"apology\", \"straight\", \"millionversus\", \"booking\", \"death\", \"elthe\", \"belowthe\", \"total\", \"saidthat\", \"rest\", \"recuperation\", \"agent\", \"ofthat\", \"half\", \"clarity\", \"benefit\", \"cover\", \"forthe\", \"one\", \"thing\", \"andhealth\", \"country\", \"coverage\", \"calculation\", \"assumption\", \"retro\", \"life\", \"mortality\", \"year\", \"number\", \"guidance\", \"claim\", \"impact\", \"health\", \"question\", \"quarter\", \"premium\", \"outlook\", \"digit\"], \"Freq\": [43.0, 45.0, 63.0, 27.0, 21.0, 25.0, 25.0, 17.0, 23.0, 8.0, 28.0, 12.0, 14.0, 18.0, 19.0, 14.0, 15.0, 11.0, 11.0, 11.0, 19.0, 8.0, 7.0, 8.0, 6.0, 18.0, 14.0, 8.0, 8.0, 11.0, 8.486427383185896, 5.737828929308441, 5.699424909638679, 4.795288864377258, 4.749998571988958, 3.839081223294542, 3.8066446356109824, 3.8037892553539696, 6.669902262329366, 6.668306154014984, 2.9200256993579776, 9.409455383457614, 2.8901813497498705, 6.52983656806525, 2.8655753988708565, 8.490627592542932, 5.704397290315375, 1.9761726196479026, 1.9751060310513324, 1.9743288269577077, 1.9726171445840748, 1.9712901099348539, 1.9701656444376945, 1.9687190814068223, 1.9645670428863014, 1.9605803669388921, 1.9602433508252135, 1.9598155650382507, 1.9591435099720937, 1.9571411849020244, 3.814527397574444, 3.8446018168494893, 3.8355252090049325, 9.272924853419541, 29.13559986800927, 10.212169889339547, 3.807514946022946, 10.359671866619724, 10.437878298153606, 6.406667333934599, 11.879696142145386, 10.111299438709148, 24.43836238187471, 30.874552686851413, 11.254128809096294, 8.230727955351057, 12.231777505202208, 11.32131346564843, 9.43194397443309, 11.189121905735265, 11.835723358084161, 7.549178920594286, 6.647558183863436, 7.4395816399098464, 7.461715779804696, 5.710807246926579, 2.3382569050046427, 1.5839246797559796, 1.583528314756169, 1.5830070233949256, 1.5819664802865032, 3.869073433885471, 1.582464995957363, 0.8328209086191969, 0.8328206536674388, 0.8302042537426592, 0.8301887016854196, 0.8301914211708386, 0.8298503807025195, 0.8298994164239798, 0.8298163021508633, 0.8297755948534986, 0.8296854269150767, 0.8297155962064432, 0.8296311221906173, 0.8295930493947521, 0.8295728232219488, 0.8295711235435619, 0.8294383786615498, 0.8295203031597954, 0.8294190023279399, 0.8292292332360494, 0.8291602262935438, 0.8290813612163944, 0.8290389542406428, 0.8289276253063049, 3.8505081868017133, 1.5941438260890064, 2.3387185376545077, 5.383979443354945, 4.59705282561756, 2.3853789585691874, 6.164270516670112, 4.631073588208516, 2.36368851283555, 3.1373656276440136, 1.6112638366404357, 1.6088581118517047, 3.8817513349728983, 3.8461991621554006, 3.1167543077181796, 2.349603617979498, 1.5867417267143256, 1.583503499451721, 1.606997983825149, 1.5840482463747028, 3.903098615640233, 1.590021766065246, 1.5927883325755028, 2.3667928054412717, 1.6459945548935744, 1.631635671881564, 1.6153048220051438, 1.6024204099937158, 1.591543318157144, 1.5528137429531639, 1.5527993519403802, 1.5526143022868701, 2.2751681268387727, 0.813651672892703, 0.8136515946806769, 0.813651281832573, 0.8136471365951952, 0.8136471365951952, 0.8133427353900126, 0.8133412493615186, 0.8132229145661843, 0.8132144676673766, 0.8132021883792949, 0.8132016408951129, 0.8131525237427865, 0.8131430600876408, 0.8130770491376988, 0.8130943339954443, 0.8130870602770265, 0.8130752502611008, 0.8129734182032521, 0.8129638763360804, 0.8129497199593748, 0.8082365850607351, 0.8069076845270104, 0.80679631060199, 0.8060758996305263, 0.8060282685066937, 0.8056941467316322, 2.2915621496081235, 10.033250805982842, 3.773023217667756, 3.773958007802479, 10.373382393122116, 5.150668614475201, 4.352227068914324, 4.3211778331376, 2.961397001612312, 4.498511088162932, 4.461344107712678, 2.271824406303325, 1.5553722147475963, 1.54669490331127, 1.532178594862069, 1.558736896106012, 1.560695325236991, 1.5446221281982824, 1.5601106121306332, 1.556313261844399, 1.5598711269070287, 1.3266214352871502, 0.8221741245175542, 0.82102284349487, 0.8165654619212425, 0.815580225029751, 3.417094706738295, 2.905047231801074, 3.6070361772365485, 0.780958295919589, 0.7796235953833373, 0.7796016019334668, 0.7794204794051225, 0.7794545476902158, 0.7794082608218612, 0.7793596021108734, 0.7793600333549885, 0.779316549573382, 0.7792476223889844, 0.7791798451888936, 0.7791436925572439, 0.7791066774373641, 0.7789818322660409, 0.7788985302778064, 0.7788821430014323, 0.7787892817686463, 0.7787589509325505, 0.7784110088056795, 3.9629525827880236, 1.4922069868686294, 1.8065132227457208, 0.7789876540615949, 0.7809585115416465, 0.7792885187059002, 0.7809584396676273, 0.7791730890310903, 4.414163012926917, 5.7450180016562555, 1.4879910006513188, 3.1428967610307135, 2.394988942218797, 5.384235150013852, 4.432206841695088, 3.0372433903102296, 5.568925504670503, 2.219537130240053, 1.7751320197336027, 1.7003621963164053, 1.6901465982217074, 3.0388053564951423, 2.427947492455933, 2.2906688345541815, 1.647579066611789, 1.5470871129569657, 2.3009446630769554, 1.5075612898389252, 1.5988356880294436, 1.543770126971612, 0.9794016722731296, 0.9195941509255969, 1.4531911589575222, 1.4530876421994001, 1.45266328474362, 0.7617490742542025, 0.7617487067390849, 0.7617485842340457, 0.7617484617290066, 0.761748400476487, 0.7617481554664085, 0.7609166525128555, 0.7605500561830568, 0.7604927238247124, 0.7604797995430771, 0.760456768595708, 0.7604297562345649, 0.7604212421343407, 0.7601509347653513, 0.7599292006444038, 0.7597290274103552, 0.7594736044036283, 0.7593937923705911, 0.7593621248179586, 0.7593242707608465, 0.7590712978549037, 0.7589576131785284, 0.7587570724293621, 1.454272143423401, 0.7617493805168005, 0.7617452765979874, 0.7634654923583989, 3.5322331220463496, 2.149713772646441, 1.4520864085140388, 2.83535340616817, 1.4544404653472582, 2.846358278849361, 2.1570920061472285, 2.1490363197796785, 1.4564069162364568, 2.843201078979163, 2.1529991127876396, 2.1548707447764994, 1.4554920486037297, 1.4580629393563287, 1.455342714960948, 1.4585267434347304, 1.4845590642642017, 0.7759253573901386, 0.7709934882696056, 0.7703337373810073, 0.7698970069162682, 0.7694137857891536, 0.7691877027393146, 0.7687673879498279, 0.768736087912313, 0.7672437927773285, 1.3731426109376332, 2.015060077417002, 2.661858892494234, 0.71925298012887, 0.7192529267446249, 0.7192529267446249, 0.7192528199761349, 0.7192528199761349, 0.7192526598233997, 0.7192526598233997, 0.7192509515275585, 0.7192506312220882, 0.7192502575323729, 0.7167826775739419, 0.716493014660361, 0.7164061051094378, 0.7164157142735448, 0.7163217046180314, 0.716218085798411, 0.7161672639971339, 1.3731432515485738, 1.3675926780549035, 1.3673508474248774, 3.332318032046648, 0.71925308689736, 1.374376000535011, 0.719292964928404, 0.7191670848786025, 2.0270307469875353, 0.7170170877939075, 2.0255485868082768, 2.024292562291002, 1.3687894460601846, 3.340379266584496, 3.342424096706464, 2.0254798279006665, 3.682888098477221, 1.3685370453496408, 2.0275406732961465, 2.018770923058143, 1.3678363237492608, 1.3735883693837077, 1.3766615936021047, 1.4460048451583483, 1.0471855642192056, 0.9356571213168462, 0.8001637968213583, 0.7230081346933932, 0.7229571527393811, 0.7220499408791908, 0.720782171828008, 1.3914798065617984, 1.388398153569331, 0.7298952141444478, 0.7298951616800637, 0.7294404003988028, 0.7291824330222498, 0.7290613452237784, 0.728854058442253, 0.7288511729011283, 0.7288378469475704, 0.7288085718212501, 0.7287244189491755, 0.728020976487345, 0.727780584679461, 0.7277833652918176, 0.7277324748392539, 0.7277534605928884, 0.7276922346566596, 0.7277126957664533, 0.7276869357538668, 0.7276516272233767, 0.7276144824394435, 0.727656716268633, 0.7275992677680584, 0.7274992181876057, 0.7273502718011844, 0.7272549440152993, 0.7272810188141903, 0.7271213172290313, 0.7271135000358024, 1.3895251934682753, 2.714348160618148, 2.0507994065893707, 1.3894727290841888, 2.0559318923557757, 1.3894372631605463, 6.038549037297854, 2.7249071425593785, 1.3893930881491456, 4.055649666165721, 2.7204258447282537, 2.052592219522371, 2.0654071699793173, 1.3899791153193908, 1.3944968234330712, 0.7382268206592897, 0.734307049131042, 0.7329114965143435, 0.7315240234127943, 0.7307132912855071, 0.7302242707614377, 0.7300796789188956, 0.7300412749897444, 0.7299504591408907, 0.7296705091874057, 3.280106710558805, 1.3523501939210054, 1.3507044925886975, 0.7108330155374634, 0.710828595999762, 0.7108278273845097, 0.7088669937987153, 0.7085671858118237, 0.7085781385791704, 0.7084104363387861, 0.7083793074210636, 0.7083032625495287, 0.7081255202724098, 0.7081262408492089, 0.7080542792462025, 0.7080722936661807, 0.7080697476281571, 0.7080405402485657, 0.7079155441931432, 0.7079340870361074, 0.7079225578073214, 0.707893014158557, 0.7078403159753139, 0.7077967931366465, 0.707731652994005, 0.7076790989261217, 0.7077235344954015, 0.7076697794661863, 0.7076524375845539, 0.7076286585501825, 1.3511013862896588, 1.9953743866222493, 1.9972561489139524, 1.998118535227152, 1.3542257112137828, 4.585066682092931, 1.351602619511134, 1.3600218388321768, 1.9995942765117716, 2.0103270277425564, 1.353626191316906, 1.3583068660502458, 1.373070235664648, 0.7169905844783013, 0.7164466450718642, 0.7136631049352757, 0.712613512769662, 0.7121967311490448, 0.7121664669234813, 0.7119191649660197, 0.7117486764953453, 0.7115668509496981, 0.7115166988044785, 0.7115014706147903, 0.7113821430968542, 0.7112777555378869, 0.7111639524420774, 1.2868312118849299, 2.504817312067213, 0.6740448461110465, 0.6740443857318056, 0.6716789153387688, 0.6715529806900197, 0.6713584913870164, 0.6713460192948505, 0.6712587983550057, 0.6712413876491634, 0.6711289714090372, 0.6711319010951163, 0.6710904669634242, 0.671052213633761, 0.6708869793388919, 1.2818359297091924, 1.2815360972653114, 1.2805461981917943, 1.287602305260986, 1.8907105786300744, 0.6709268649222279, 0.6740445531424386, 0.6716386530815084, 0.6712351097504221, 0.6710161784949864, 0.6715179500150437, 0.6715584215355954, 0.671351418287768, 0.671526069430749, 2.4416651663537454, 1.9006673260336633, 2.0893722568420823, 2.6744585244420667, 1.2875962784781945, 1.902612972411545, 1.2836162580868884, 1.963789672654439, 1.2857319099626825, 1.4203973580491356, 1.2875209436932997, 1.319040599166679, 0.739994172387656, 0.694497445009463, 0.6768182125116301, 0.6767896689986866, 0.6747826247711158, 0.6746655210332627, 0.6740484872923165, 0.6735415678952914, 1.6581458187959786, 0.5889742374962929, 0.5889740522039946, 0.5889738669116964, 0.5889734345630003, 0.5889733110348015, 0.5889733110348015, 0.5889733110348015, 0.588973249270702, 0.5885009392023953, 0.5884628307530498, 0.5884248458319031, 0.5882566621891675, 0.5882075597301243, 0.5880749522086577, 1.123435727896042, 0.5889742992603924, 0.5883303467597821, 0.5889738669116964, 0.5889736816193981, 2.1942533842095164, 0.5897620385844651, 0.5889739904398952, 0.5886567082611465, 0.5891789854858884, 0.5887937627977716, 0.5889742992603924, 1.1238853705398595, 1.125250233608964, 0.5889892461724533, 2.20132166774777, 1.6613518696689573, 2.7514777246320343, 1.6657723262648398, 1.1262992350736067, 1.126880188192803, 1.127558234476296, 1.1281925517773959, 0.5960299829223631, 0.5928676610317778, 0.5901569582361917, 0.5899352868833536, 0.5891943647466453], \"Total\": [43.0, 45.0, 63.0, 27.0, 21.0, 25.0, 25.0, 17.0, 23.0, 8.0, 28.0, 12.0, 14.0, 18.0, 19.0, 14.0, 15.0, 11.0, 11.0, 11.0, 19.0, 8.0, 7.0, 8.0, 6.0, 18.0, 14.0, 8.0, 8.0, 11.0, 9.176924306268283, 6.3619805083206495, 6.352156119473507, 5.417270062438865, 5.40558591272092, 4.468730389536916, 4.460844881355465, 4.460119672177461, 7.9968200427376175, 7.996633819915679, 3.5298352151806958, 11.40884715989882, 3.5221070303162794, 7.979108326616693, 3.5163609360199666, 10.579834540018282, 7.110525867350403, 2.5846577308290573, 2.58439486744153, 2.584078667587168, 2.5836619925153017, 2.5832771997604356, 2.583076230484825, 2.5827337431470143, 2.581496824316832, 2.5805720757520705, 2.5805538817735343, 2.580320061549713, 2.5803727824059086, 2.579697430055957, 5.108517248217128, 5.1623337816010375, 5.160444891460643, 12.982613791619999, 43.0895988522812, 14.457933390492855, 5.153510269654728, 14.800334687787954, 15.338361008451223, 9.36829673293046, 19.1907386027221, 16.44381681748441, 45.2530559420343, 63.33135182316138, 19.25953646921944, 13.401377992940573, 23.19021235539951, 21.023807529033252, 17.037758753825237, 25.22383842913233, 28.603564162165686, 14.83738786704978, 11.978821233846729, 15.671635429326255, 18.477669621059302, 11.77959632367808, 2.966653651794665, 2.20986913912824, 2.2097816714486385, 2.209561973216972, 2.2098353223581784, 6.710435612664941, 2.7454255422930642, 1.452816429990393, 1.4528162463796344, 1.4527281549658013, 1.452712183908871, 1.45271838284589, 1.4526894042833727, 1.4528075958903852, 1.4527150085827, 1.4527027445222327, 1.4526272764594896, 1.4527319854932954, 1.4526673183327394, 1.452625006500686, 1.4526031430074153, 1.4527405004878704, 1.4526227497913644, 1.452807913824563, 1.4527239632726192, 1.4526022649667896, 1.452578732073033, 1.452598891078081, 1.4526098237453053, 1.4526062697099602, 8.23179744037942, 3.150761640567417, 5.060412148309018, 14.83738786704978, 12.322598654706175, 5.485738916867136, 21.023807529033252, 18.58246735622663, 6.934345002371873, 11.304594496006477, 4.089360346189129, 4.088947244759434, 17.037758753825237, 27.049294248229675, 18.477669621059302, 11.59245757416195, 5.477436845075998, 5.5038484192860455, 5.773263742614197, 6.173326323627723, 63.33135182316138, 7.788079727572749, 8.199644783588402, 25.22383842913233, 43.0895988522812, 45.2530559420343, 28.603564162165686, 25.919975769786994, 10.461010842880691, 2.175085475399772, 2.175085268718784, 2.1750126497755997, 3.5765286433443157, 1.4353902780933459, 1.435390197040952, 1.4353899142171105, 1.4353861031969752, 1.4353861172240272, 1.4353512571402827, 1.4353510501356073, 1.4353359373326022, 1.4353347675661539, 1.435333314805401, 1.4353724631145683, 1.4353703928192931, 1.4353699763063121, 1.4353173804442492, 1.4353678605155566, 1.4353675495927474, 1.4353673382466676, 1.435362971850959, 1.4353627286850192, 1.4353620441947845, 1.4349873403463327, 1.4347828030989953, 1.434802174733912, 1.4345435184179613, 1.4346235801356744, 1.4346173002970186, 4.519770830727006, 27.049294248229675, 8.775535202139837, 8.778338360984566, 45.2530559420343, 18.477669621059302, 23.19021235539951, 25.919975769786994, 18.58246735622663, 43.0895988522812, 63.33135182316138, 15.338361008451223, 7.300973271711269, 8.065275120866707, 10.461010842880691, 11.59245757416195, 11.978821233846729, 11.77959632367808, 12.982613791619999, 14.182094510314997, 28.603564162165686, 15.671635429326255, 19.1907386027221, 16.44381681748441, 5.74550939822023, 6.613330501990976, 4.922574270532066, 4.274501756522485, 6.089269270504062, 1.4056690205701876, 1.4055643000912865, 1.4055626531697205, 1.405548221125804, 1.4056678693740596, 1.4056591497440045, 1.4056544911422268, 1.4056724213425338, 1.4056631242595499, 1.405655994207483, 1.4056578312103023, 1.4056581528749463, 1.4056614789348312, 1.405653594065509, 1.4056615759514561, 1.4056497094463065, 1.405664375318532, 1.4056596641755001, 1.4056442829809284, 7.788079727572749, 3.0597873482694533, 4.589957553086619, 2.018332255445982, 2.0518843258344726, 2.0595204736262143, 2.098165841194594, 2.097884697518913, 19.1907386027221, 27.049294248229675, 4.823679703710256, 13.401377992940573, 9.36829673293046, 28.603564162165686, 25.919975769786994, 15.671635429326255, 63.33135182316138, 11.978821233846729, 7.668916947809915, 7.300973271711269, 7.2095954075907125, 25.22383842913233, 16.44381681748441, 19.25953646921944, 12.982613791619999, 11.442596130214058, 45.2530559420343, 11.59245757416195, 18.477669621059302, 18.58246735622663, 3.9194006331572147, 3.2470054632869543, 2.0806073964561205, 2.0805967750481167, 2.61597691953182, 1.3882066747585096, 1.3882063390253156, 1.3882062570679106, 1.3882061442249762, 1.388206075851028, 1.3882058532399766, 1.3881110043711544, 1.3880687033639987, 1.3880620663294032, 1.3880604566688353, 1.3880577870397168, 1.388054845188664, 1.388053650072056, 1.3880223318449805, 1.3879965857484997, 1.3881204744347768, 1.388109614218164, 1.3881054119161818, 1.388104731829732, 1.3881030060591113, 1.3880919381724566, 1.3880870272224524, 1.3880787849631995, 3.279773773447845, 1.9236364624742577, 1.9236329164619643, 2.001057658352119, 11.304594496006477, 7.668916947809915, 4.639776906874934, 12.322598654706175, 5.185164504026289, 25.22383842913233, 14.182094510314997, 18.58246735622663, 7.2095954075907125, 45.2530559420343, 23.19021235539951, 27.049294248229675, 10.461010842880691, 11.442596130214058, 15.338361008451223, 19.25953646921944, 63.33135182316138, 25.919975769786994, 28.603564162165686, 19.1907386027221, 15.671635429326255, 21.023807529033252, 16.44381681748441, 5.460713373097616, 14.800334687787954, 14.83738786704978, 2.0034638445386626, 3.4157765139116814, 4.946090043366785, 1.3495741609782606, 1.3495741075940155, 1.3495741075940155, 1.3495740068303321, 1.3495740084820904, 1.3495738406727904, 1.3495738483293551, 1.3495723623265758, 1.34957207168773, 1.3495717482493197, 1.3498712653845129, 1.3498834053108804, 1.3498735558856543, 1.3499331152824767, 1.349929740068524, 1.3499441437837165, 1.3499232055655872, 2.667098405806886, 2.714130176960101, 2.762922214616675, 7.117112093731669, 1.9954383600910242, 3.888228285420522, 2.0595204736262143, 2.1065407011298296, 6.173326323627723, 2.290843417689269, 7.2551511055867115, 7.47608717553666, 5.493713539743176, 28.603564162165686, 45.2530559420343, 14.457933390492855, 63.33135182316138, 6.089269270504062, 25.22383842913233, 25.919975769786994, 11.59245757416195, 14.182094510314997, 19.25953646921944, 27.049294248229675, 7.788079727572749, 19.1907386027221, 18.477669621059302, 21.023807529033252, 16.44381681748441, 15.338361008451223, 11.304594496006477, 2.0230426905630714, 2.0238564305277436, 1.359248970447469, 1.3592489328754773, 1.3593022868367866, 1.3593319490740914, 1.3593455068772096, 1.359369003228013, 1.3593694024326644, 1.359370894218514, 1.3593744153757283, 1.359383776189989, 1.3597046664713368, 1.3596541964394264, 1.359719576157862, 1.3596707847733482, 1.3597839666279405, 1.3596834294634728, 1.3597394170604793, 1.3598097634860524, 1.3597693462917586, 1.3597043377306903, 1.359810396440495, 1.3597507356979432, 1.3597827122440926, 1.3598776675993727, 1.3597846708057573, 1.3598748062591002, 1.3598256357589973, 1.3598600202573954, 2.7805030004421036, 6.183741773907189, 4.63392254176607, 2.9671516305456356, 6.376175057354888, 3.706608146377004, 43.0895988522812, 11.77959632367808, 4.649048217867056, 63.33135182316138, 25.919975769786994, 14.182094510314997, 23.19021235539951, 8.509335597549596, 14.800334687787954, 28.603564162165686, 8.065275120866707, 5.5038484192860455, 5.5792881584905, 5.511942723318786, 6.173326323627723, 6.048749788050605, 5.185164504026289, 5.493713539743176, 8.23179744037942, 3.9251244087934385, 1.9875682914439303, 1.9872914645752213, 1.3419254114708015, 1.341925102446591, 1.3419251275647308, 1.3416903837334426, 1.3416719885765016, 1.3417093737259729, 1.341637966041036, 1.3416290043619619, 1.341615687667102, 1.3415909393371437, 1.341671212189, 1.3415576504567055, 1.341627548273987, 1.341623090271378, 1.34163538498059, 1.3415467033641213, 1.341622322653865, 1.34162284009566, 1.341579011730537, 1.3415600686407236, 1.3415461431308677, 1.341512885789915, 1.3414909738529295, 1.3415950127025489, 1.3415212024800254, 1.341519993239857, 1.341578072012981, 2.679904324360915, 4.271318492019523, 5.215346219802165, 5.5038484192860455, 4.63392254176607, 63.33135182316138, 5.460713373097616, 6.710435612664941, 25.919975769786994, 28.603564162165686, 10.461010842880691, 11.40884715989882, 17.037758753825237, 14.800334687787954, 18.58246735622663, 6.613330501990976, 5.060412148309018, 5.477436845075998, 11.304594496006477, 25.22383842913233, 11.442596130214058, 2.9495235797766446, 2.9495607571515503, 2.9494959723716208, 5.108517248217128, 12.322598654706175, 27.049294248229675, 1.9212626954092464, 3.802419556607037, 1.3084762886733547, 1.3084758517591064, 1.3085351137609296, 1.30858931983879, 1.308601429308664, 1.308595536879367, 1.3086381979770527, 1.3086174948474758, 1.3086049302140035, 1.308624572754709, 1.3086166380651447, 1.3086849249821781, 1.3087051688091458, 2.5757778817579844, 2.6611694893844127, 2.6613384437813896, 3.332428621944121, 5.460713373097616, 1.9543958140143711, 1.9725937589199058, 2.001057658352119, 2.018332255445982, 2.065487971563894, 2.2509412027290363, 2.2511021286946313, 2.2519540119392816, 2.252817526380668, 8.199644783588402, 11.442596130214058, 15.671635429326255, 25.919975769786994, 7.47608717553666, 17.037758753825237, 14.182094510314997, 63.33135182316138, 16.44381681748441, 23.19021235539951, 28.603564162165686, 43.0895988522812, 18.58246735622663, 10.461010842880691, 25.22383842913233, 14.83738786704978, 19.25953646921944, 3.8577954256656626, 2.7580202124450253, 4.823679703710256, 2.9572072504383455, 1.2311397744784611, 1.2311396181989507, 1.2311394592433431, 1.2311391044897904, 1.2311390106075335, 1.2311390133956959, 1.2311390209814277, 1.2311389861025108, 1.2315024587760304, 1.2315316524445867, 1.2315605360125201, 1.2316893386810361, 1.23172662325555, 1.2318283834259665, 2.4212021192586706, 1.8953441834748044, 1.8955637059827461, 1.9236329164619643, 1.9236364624742577, 8.23179744037942, 2.49815123895612, 2.61597691953182, 2.7454255422930642, 2.8237679742883937, 2.8680850767716466, 3.279773773447845, 7.117112093731669, 8.509335597549596, 5.477436845075998, 25.22383842913233, 21.023807529033252, 63.33135182316138, 25.919975769786994, 11.978821233846729, 12.322598654706175, 14.800334687787954, 19.25953646921944, 27.049294248229675, 23.19021235539951, 11.77959632367808, 5.74550939822023, 6.089269270504062], \"Category\": [\"Default\", \"Default\", \"Default\", \"Default\", \"Default\", \"Default\", \"Default\", \"Default\", \"Default\", \"Default\", \"Default\", \"Default\", \"Default\", \"Default\", \"Default\", \"Default\", \"Default\", \"Default\", \"Default\", \"Default\", \"Default\", \"Default\", \"Default\", \"Default\", \"Default\", \"Default\", \"Default\", \"Default\", \"Default\", \"Default\", \"Topic1\", \"Topic1\", \"Topic1\", \"Topic1\", \"Topic1\", \"Topic1\", \"Topic1\", \"Topic1\", \"Topic1\", \"Topic1\", \"Topic1\", \"Topic1\", \"Topic1\", \"Topic1\", \"Topic1\", \"Topic1\", \"Topic1\", \"Topic1\", \"Topic1\", \"Topic1\", \"Topic1\", \"Topic1\", \"Topic1\", \"Topic1\", \"Topic1\", \"Topic1\", \"Topic1\", \"Topic1\", \"Topic1\", \"Topic1\", \"Topic1\", \"Topic1\", \"Topic1\", \"Topic1\", \"Topic1\", \"Topic1\", \"Topic1\", \"Topic1\", \"Topic1\", \"Topic1\", \"Topic1\", \"Topic1\", \"Topic1\", \"Topic1\", \"Topic1\", \"Topic1\", \"Topic1\", \"Topic1\", \"Topic1\", \"Topic1\", \"Topic1\", \"Topic1\", \"Topic1\", \"Topic1\", \"Topic1\", \"Topic1\", \"Topic2\", \"Topic2\", \"Topic2\", \"Topic2\", \"Topic2\", \"Topic2\", \"Topic2\", \"Topic2\", \"Topic2\", \"Topic2\", \"Topic2\", \"Topic2\", \"Topic2\", \"Topic2\", \"Topic2\", \"Topic2\", \"Topic2\", \"Topic2\", \"Topic2\", \"Topic2\", \"Topic2\", \"Topic2\", \"Topic2\", \"Topic2\", \"Topic2\", \"Topic2\", \"Topic2\", \"Topic2\", \"Topic2\", \"Topic2\", \"Topic2\", \"Topic2\", \"Topic2\", \"Topic2\", \"Topic2\", \"Topic2\", \"Topic2\", \"Topic2\", \"Topic2\", \"Topic2\", \"Topic2\", \"Topic2\", \"Topic2\", \"Topic2\", \"Topic2\", \"Topic2\", \"Topic2\", \"Topic2\", \"Topic2\", \"Topic2\", \"Topic2\", \"Topic2\", \"Topic2\", \"Topic2\", \"Topic2\", \"Topic2\", \"Topic2\", \"Topic2\", \"Topic2\", \"Topic3\", \"Topic3\", \"Topic3\", \"Topic3\", \"Topic3\", \"Topic3\", \"Topic3\", \"Topic3\", \"Topic3\", \"Topic3\", \"Topic3\", \"Topic3\", \"Topic3\", \"Topic3\", \"Topic3\", \"Topic3\", \"Topic3\", \"Topic3\", \"Topic3\", \"Topic3\", \"Topic3\", \"Topic3\", \"Topic3\", \"Topic3\", \"Topic3\", \"Topic3\", \"Topic3\", \"Topic3\", \"Topic3\", \"Topic3\", \"Topic3\", \"Topic3\", \"Topic3\", \"Topic3\", \"Topic3\", \"Topic3\", \"Topic3\", \"Topic3\", \"Topic3\", \"Topic3\", \"Topic3\", \"Topic3\", \"Topic3\", \"Topic3\", \"Topic3\", \"Topic3\", \"Topic3\", \"Topic3\", \"Topic3\", \"Topic3\", \"Topic3\", \"Topic3\", \"Topic3\", \"Topic3\", \"Topic3\", \"Topic3\", \"Topic4\", \"Topic4\", \"Topic4\", \"Topic4\", \"Topic4\", \"Topic4\", \"Topic4\", \"Topic4\", \"Topic4\", \"Topic4\", \"Topic4\", \"Topic4\", \"Topic4\", \"Topic4\", \"Topic4\", \"Topic4\", \"Topic4\", \"Topic4\", \"Topic4\", \"Topic4\", \"Topic4\", \"Topic4\", \"Topic4\", \"Topic4\", \"Topic4\", \"Topic4\", \"Topic4\", \"Topic4\", \"Topic4\", \"Topic4\", \"Topic4\", \"Topic4\", \"Topic4\", \"Topic4\", \"Topic4\", \"Topic4\", \"Topic4\", \"Topic4\", \"Topic4\", \"Topic4\", \"Topic4\", \"Topic4\", \"Topic4\", \"Topic4\", \"Topic4\", \"Topic4\", \"Topic4\", \"Topic4\", \"Topic4\", \"Topic4\", \"Topic4\", \"Topic4\", \"Topic4\", \"Topic4\", \"Topic5\", \"Topic5\", \"Topic5\", \"Topic5\", \"Topic5\", \"Topic5\", \"Topic5\", \"Topic5\", \"Topic5\", \"Topic5\", \"Topic5\", \"Topic5\", \"Topic5\", \"Topic5\", \"Topic5\", \"Topic5\", \"Topic5\", \"Topic5\", \"Topic5\", \"Topic5\", \"Topic5\", \"Topic5\", \"Topic5\", \"Topic5\", \"Topic5\", \"Topic5\", \"Topic5\", \"Topic5\", \"Topic5\", \"Topic5\", \"Topic5\", \"Topic5\", \"Topic5\", \"Topic5\", \"Topic5\", \"Topic5\", \"Topic5\", \"Topic5\", \"Topic5\", \"Topic5\", \"Topic5\", \"Topic5\", \"Topic5\", \"Topic5\", \"Topic5\", \"Topic5\", \"Topic5\", \"Topic5\", \"Topic5\", \"Topic5\", \"Topic5\", \"Topic5\", \"Topic5\", \"Topic5\", \"Topic5\", \"Topic5\", \"Topic6\", \"Topic6\", \"Topic6\", \"Topic6\", \"Topic6\", \"Topic6\", \"Topic6\", \"Topic6\", \"Topic6\", \"Topic6\", \"Topic6\", \"Topic6\", \"Topic6\", \"Topic6\", \"Topic6\", \"Topic6\", \"Topic6\", \"Topic6\", \"Topic6\", \"Topic6\", \"Topic6\", \"Topic6\", \"Topic6\", \"Topic6\", \"Topic6\", \"Topic6\", \"Topic6\", \"Topic6\", \"Topic6\", \"Topic6\", \"Topic6\", \"Topic6\", \"Topic6\", \"Topic6\", \"Topic6\", \"Topic6\", \"Topic6\", \"Topic6\", \"Topic6\", \"Topic6\", \"Topic6\", \"Topic6\", \"Topic6\", \"Topic6\", \"Topic6\", \"Topic6\", \"Topic6\", \"Topic6\", \"Topic6\", \"Topic6\", \"Topic6\", \"Topic7\", \"Topic7\", \"Topic7\", \"Topic7\", \"Topic7\", \"Topic7\", \"Topic7\", \"Topic7\", \"Topic7\", \"Topic7\", \"Topic7\", \"Topic7\", \"Topic7\", \"Topic7\", \"Topic7\", \"Topic7\", \"Topic7\", \"Topic7\", \"Topic7\", \"Topic7\", \"Topic7\", \"Topic7\", \"Topic7\", \"Topic7\", \"Topic7\", \"Topic7\", \"Topic7\", \"Topic7\", \"Topic7\", \"Topic7\", \"Topic7\", \"Topic7\", \"Topic7\", \"Topic7\", \"Topic7\", \"Topic7\", \"Topic7\", \"Topic7\", \"Topic7\", \"Topic7\", \"Topic7\", \"Topic7\", \"Topic7\", \"Topic7\", \"Topic7\", \"Topic7\", \"Topic7\", \"Topic7\", \"Topic7\", \"Topic7\", \"Topic7\", \"Topic7\", \"Topic7\", \"Topic7\", \"Topic7\", \"Topic8\", \"Topic8\", \"Topic8\", \"Topic8\", \"Topic8\", \"Topic8\", \"Topic8\", \"Topic8\", \"Topic8\", \"Topic8\", \"Topic8\", \"Topic8\", \"Topic8\", \"Topic8\", \"Topic8\", \"Topic8\", \"Topic8\", \"Topic8\", \"Topic8\", \"Topic8\", \"Topic8\", \"Topic8\", \"Topic8\", \"Topic8\", \"Topic8\", \"Topic8\", \"Topic8\", \"Topic8\", \"Topic8\", \"Topic8\", \"Topic8\", \"Topic8\", \"Topic8\", \"Topic8\", \"Topic8\", \"Topic8\", \"Topic8\", \"Topic8\", \"Topic8\", \"Topic8\", \"Topic8\", \"Topic8\", \"Topic8\", \"Topic8\", \"Topic8\", \"Topic8\", \"Topic8\", \"Topic8\", \"Topic8\", \"Topic8\", \"Topic8\", \"Topic8\", \"Topic8\", \"Topic8\", \"Topic8\", \"Topic8\", \"Topic8\", \"Topic9\", \"Topic9\", \"Topic9\", \"Topic9\", \"Topic9\", \"Topic9\", \"Topic9\", \"Topic9\", \"Topic9\", \"Topic9\", \"Topic9\", \"Topic9\", \"Topic9\", \"Topic9\", \"Topic9\", \"Topic9\", \"Topic9\", \"Topic9\", \"Topic9\", \"Topic9\", \"Topic9\", \"Topic9\", \"Topic9\", \"Topic9\", \"Topic9\", \"Topic9\", \"Topic9\", \"Topic9\", \"Topic9\", \"Topic9\", \"Topic9\", \"Topic9\", \"Topic9\", \"Topic9\", \"Topic9\", \"Topic9\", \"Topic9\", \"Topic9\", \"Topic9\", \"Topic9\", \"Topic9\", \"Topic9\", \"Topic9\", \"Topic9\", \"Topic9\", \"Topic9\", \"Topic9\", \"Topic9\", \"Topic9\", \"Topic10\", \"Topic10\", \"Topic10\", \"Topic10\", \"Topic10\", \"Topic10\", \"Topic10\", \"Topic10\", \"Topic10\", \"Topic10\", \"Topic10\", \"Topic10\", \"Topic10\", \"Topic10\", \"Topic10\", \"Topic10\", \"Topic10\", \"Topic10\", \"Topic10\", \"Topic10\", \"Topic10\", \"Topic10\", \"Topic10\", \"Topic10\", \"Topic10\", \"Topic10\", \"Topic10\", \"Topic10\", \"Topic10\", \"Topic10\", \"Topic10\", \"Topic10\", \"Topic10\", \"Topic10\", \"Topic10\", \"Topic10\", \"Topic10\", \"Topic10\", \"Topic10\", \"Topic10\", \"Topic10\", \"Topic10\", \"Topic10\"], \"logprob\": [30.0, 29.0, 28.0, 27.0, 26.0, 25.0, 24.0, 23.0, 22.0, 21.0, 20.0, 19.0, 18.0, 17.0, 16.0, 15.0, 14.0, 13.0, 12.0, 11.0, 10.0, 9.0, 8.0, 7.0, 6.0, 5.0, 4.0, 3.0, 2.0, 1.0, -4.5105, -4.9019, -4.9086, -5.0813, -5.0908, -5.3037, -5.3122, -5.313, -4.7514, -4.7516, -5.5774, -4.4073, -5.5876, -4.7726, -5.5962, -4.51, -4.9077, -5.9678, -5.9683, -5.9687, -5.9696, -5.9703, -5.9708, -5.9716, -5.9737, -5.9757, -5.9759, -5.9761, -5.9765, -5.9775, -5.3101, -5.3023, -5.3047, -4.4219, -3.277, -4.3254, -5.312, -4.311, -4.3035, -4.7916, -4.1741, -4.3353, -3.4528, -3.219, -4.2282, -4.5411, -4.1449, -4.2223, -4.4049, -4.234, -4.1778, -4.6275, -4.7547, -4.6422, -4.6392, -4.9066, -4.3574, -4.7469, -4.7471, -4.7474, -4.7481, -3.8537, -4.7478, -5.3897, -5.3897, -5.3928, -5.3929, -5.3929, -5.3933, -5.3932, -5.3933, -5.3934, -5.3935, -5.3934, -5.3935, -5.3936, -5.3936, -5.3936, -5.3938, -5.3937, -5.3938, -5.394, -5.3941, -5.3942, -5.3942, -5.3944, -3.8586, -4.7404, -4.3572, -3.5233, -3.6813, -4.3374, -3.388, -3.674, -4.3465, -4.0634, -4.7297, -4.7312, -3.8505, -3.8597, -4.07, -4.3525, -4.7451, -4.7471, -4.7324, -4.7468, -3.845, -4.743, -4.7413, -4.3452, -4.7084, -4.7172, -4.7272, -4.7352, -4.7421, -4.6837, -4.6837, -4.6838, -4.3017, -5.3299, -5.3299, -5.3299, -5.3299, -5.3299, -5.3303, -5.3303, -5.3305, -5.3305, -5.3305, -5.3305, -5.3306, -5.3306, -5.3306, -5.3306, -5.3306, -5.3307, -5.3308, -5.3308, -5.3308, -5.3366, -5.3383, -5.3384, -5.3393, -5.3394, -5.3398, -4.2945, -2.8178, -3.7958, -3.7956, -2.7845, -3.4846, -3.653, -3.6602, -4.0381, -3.62, -3.6283, -4.3031, -4.682, -4.6876, -4.697, -4.6798, -4.6786, -4.6889, -4.679, -4.6814, -4.6791, -4.8411, -5.3195, -5.3209, -5.3264, -5.3276, -3.8104, -3.9728, -3.7563, -5.2864, -5.2882, -5.2882, -5.2884, -5.2884, -5.2884, -5.2885, -5.2885, -5.2885, -5.2886, -5.2887, -5.2888, -5.2888, -5.289, -5.2891, -5.2891, -5.2892, -5.2893, -5.2897, -3.6622, -4.639, -4.4478, -5.289, -5.2864, -5.2886, -5.2864, -5.2887, -3.5544, -3.2909, -4.6418, -3.8941, -4.1658, -3.3557, -3.5503, -3.9283, -3.322, -4.2419, -4.4653, -4.5084, -4.5144, -3.9277, -4.1522, -4.2104, -4.5399, -4.6028, -4.2059, -4.6287, -4.5699, -4.605, -5.06, -5.123, -4.5055, -4.5056, -4.5059, -5.1514, -5.1514, -5.1514, -5.1514, -5.1514, -5.1514, -5.1525, -5.153, -5.1531, -5.1531, -5.1531, -5.1532, -5.1532, -5.1535, -5.1538, -5.1541, -5.1544, -5.1545, -5.1546, -5.1546, -5.155, -5.1551, -5.1554, -4.5048, -5.1514, -5.1514, -5.1492, -3.6174, -4.114, -4.5063, -3.8371, -4.5047, -3.8333, -4.1105, -4.1143, -4.5033, -3.8344, -4.1124, -4.1116, -4.504, -4.5022, -4.5041, -4.5019, -4.4842, -5.133, -5.1394, -5.1402, -5.1408, -5.1414, -5.1417, -5.1423, -5.1423, -5.1443, -4.4247, -4.0412, -3.7628, -5.0714, -5.0714, -5.0714, -5.0714, -5.0714, -5.0714, -5.0714, -5.0714, -5.0714, -5.0714, -5.0748, -5.0752, -5.0753, -5.0753, -5.0754, -5.0756, -5.0757, -4.4247, -4.4288, -4.4289, -3.5381, -5.0714, -4.4238, -5.0713, -5.0715, -4.0352, -5.0745, -4.036, -4.0366, -4.4279, -3.5357, -3.5351, -4.036, -3.4381, -4.4281, -4.035, -4.0393, -4.4286, -4.4244, -4.4222, -4.373, -4.6957, -4.8083, -4.9648, -5.0661, -5.0662, -5.0675, -5.0692, -4.3941, -4.3963, -5.0393, -5.0393, -5.0399, -5.0403, -5.0404, -5.0407, -5.0407, -5.0407, -5.0408, -5.0409, -5.0419, -5.0422, -5.0422, -5.0423, -5.0422, -5.0423, -5.0423, -5.0423, -5.0424, -5.0424, -5.0424, -5.0424, -5.0426, -5.0428, -5.0429, -5.0429, -5.0431, -5.0431, -4.3955, -3.7259, -4.0062, -4.3955, -4.0037, -4.3955, -2.9263, -3.722, -4.3956, -3.3243, -3.7236, -4.0053, -3.9991, -4.3951, -4.3919, -5.0279, -5.0333, -5.0352, -5.0371, -5.0382, -5.0388, -5.039, -5.0391, -5.0392, -5.0396, -3.4484, -4.3345, -4.3357, -4.9776, -4.9776, -4.9776, -4.9804, -4.9808, -4.9808, -4.981, -4.9811, -4.9812, -4.9814, -4.9814, -4.9815, -4.9815, -4.9815, -4.9816, -4.9817, -4.9817, -4.9817, -4.9818, -4.9818, -4.9819, -4.982, -4.9821, -4.982, -4.9821, -4.9821, -4.9821, -4.3354, -3.9455, -3.9445, -3.9441, -4.3331, -3.1135, -4.335, -4.3288, -3.9434, -3.938, -4.3335, -4.3301, -4.3192, -4.969, -4.9698, -4.9736, -4.9751, -4.9757, -4.9757, -4.9761, -4.9763, -4.9766, -4.9767, -4.9767, -4.9768, -4.977, -4.9772, -4.2463, -3.5802, -4.8929, -4.8929, -4.8964, -4.8966, -4.8969, -4.8969, -4.8971, -4.8971, -4.8972, -4.8972, -4.8973, -4.8974, -4.8976, -4.2502, -4.2504, -4.2512, -4.2457, -3.8615, -4.8975, -4.8929, -4.8965, -4.8971, -4.8974, -4.8967, -4.8966, -4.8969, -4.8967, -3.6058, -3.8562, -3.7616, -3.5147, -4.2457, -3.8552, -4.2488, -3.8236, -4.2471, -4.1475, -4.2457, -4.2215, -4.7996, -4.863, -4.8888, -4.8888, -4.8918, -4.892, -4.8929, -4.8937, -3.6888, -4.7238, -4.7238, -4.7238, -4.7238, -4.7238, -4.7238, -4.7238, -4.7238, -4.7246, -4.7247, -4.7248, -4.7251, -4.7251, -4.7254, -4.0781, -4.7238, -4.7249, -4.7238, -4.7238, -3.4086, -4.7225, -4.7238, -4.7244, -4.7235, -4.7242, -4.7238, -4.0777, -4.0765, -4.7238, -3.4054, -3.6868, -3.1823, -3.6842, -4.0755, -4.075, -4.0744, -4.0739, -4.7119, -4.7173, -4.7218, -4.7222, -4.7235], \"loglift\": [30.0, 29.0, 28.0, 27.0, 26.0, 25.0, 24.0, 23.0, 22.0, 21.0, 20.0, 19.0, 18.0, 17.0, 16.0, 15.0, 14.0, 13.0, 12.0, 11.0, 10.0, 9.0, 8.0, 7.0, 6.0, 5.0, 4.0, 3.0, 2.0, 1.0, 0.8198, 0.7947, 0.7896, 0.7761, 0.7687, 0.7461, 0.7394, 0.7388, 0.7166, 0.7164, 0.7083, 0.7053, 0.7003, 0.6976, 0.6934, 0.678, 0.6777, 0.6296, 0.6291, 0.6289, 0.6282, 0.6276, 0.6271, 0.6265, 0.6249, 0.6232, 0.6231, 0.6229, 0.6226, 0.6218, 0.6059, 0.6033, 0.6013, 0.5615, 0.5067, 0.5503, 0.5953, 0.5413, 0.5131, 0.518, 0.4184, 0.4117, 0.2819, 0.1796, 0.3607, 0.4105, 0.2583, 0.279, 0.3067, 0.0852, 0.0156, 0.2223, 0.3091, 0.153, -0.0088, 0.174, 2.1022, 2.0072, 2.007, 2.0067, 2.006, 1.7896, 1.7893, 1.7838, 1.7838, 1.7807, 1.7807, 1.7807, 1.7803, 1.7803, 1.7802, 1.7802, 1.7801, 1.7801, 1.78, 1.78, 1.78, 1.7799, 1.7798, 1.7798, 1.7797, 1.7796, 1.7795, 1.7794, 1.7794, 1.7792, 1.5804, 1.6589, 1.5684, 1.3265, 1.3542, 1.5074, 1.1133, 0.9508, 1.264, 1.0584, 1.4088, 1.4075, 0.8611, 0.3896, 0.5604, 0.7441, 1.1013, 1.0944, 1.0613, 0.98, -0.4464, 0.7514, 0.7016, -0.026, -0.9247, -0.9825, -0.5338, -0.4433, 0.4573, 2.0863, 2.0862, 2.0862, 1.9709, 1.8556, 1.8556, 1.8556, 1.8556, 1.8556, 1.8552, 1.8552, 1.8551, 1.8551, 1.8551, 1.8551, 1.855, 1.855, 1.8549, 1.8549, 1.8549, 1.8549, 1.8548, 1.8548, 1.8548, 1.8492, 1.8477, 1.8475, 1.8468, 1.8467, 1.8463, 1.744, 1.4315, 1.5792, 1.5791, 0.9502, 1.1458, 0.7502, 0.6318, 0.5867, 0.1637, -0.2297, 0.5135, 0.877, 0.7718, 0.5023, 0.4168, 0.3852, 0.3917, 0.3044, 0.2136, -0.4857, -0.046, -0.727, -0.5739, 0.4722, 0.3303, 2.1427, 2.1215, 1.9841, 1.92, 1.9184, 1.9184, 1.9181, 1.9181, 1.918, 1.918, 1.918, 1.9179, 1.9178, 1.9177, 1.9177, 1.9176, 1.9175, 1.9174, 1.9174, 1.9172, 1.9172, 1.9168, 1.8322, 1.7897, 1.5753, 1.5557, 1.5418, 1.5359, 1.5195, 1.5173, 1.0382, 0.9584, 1.3317, 1.0575, 1.1438, 0.8377, 0.7416, 0.8669, 0.0766, 0.8219, 1.0445, 1.0506, 1.0572, 0.3914, 0.5949, 0.3786, 0.4435, 0.5068, -0.4712, 0.4679, 0.0605, 0.0198, 1.121, 1.2462, 2.3088, 2.3087, 2.0794, 2.0675, 2.0675, 2.0675, 2.0675, 2.0675, 2.0675, 2.0665, 2.066, 2.066, 2.066, 2.0659, 2.0659, 2.0659, 2.0656, 2.0653, 2.0649, 2.0646, 2.0645, 2.0645, 2.0644, 2.0641, 2.0639, 2.0637, 1.8544, 1.7413, 1.7413, 1.7041, 1.5044, 1.3958, 1.506, 1.1984, 1.3965, 0.4859, 0.7845, 0.5105, 1.0682, -0.0997, 0.2908, 0.1377, 0.6954, 0.6074, 0.3126, 0.0871, -1.0856, -0.841, -0.9459, -0.5477, -0.3457, -0.6401, -0.3947, 0.7071, -0.29, -0.2944, 2.4274, 2.2774, 2.1856, 2.1758, 2.1758, 2.1758, 2.1758, 2.1758, 2.1758, 2.1758, 2.1758, 2.1758, 2.1758, 2.1722, 2.1718, 2.1716, 2.1716, 2.1715, 2.1713, 2.1713, 2.1413, 2.1197, 2.1017, 2.0463, 1.7848, 1.7652, 1.7532, 1.7305, 1.6915, 1.6436, 1.5293, 1.4987, 1.4155, 0.6577, 0.1996, 0.8397, -0.0395, 1.3124, 0.2842, 0.2526, 0.668, 0.4706, 0.1668, -0.1237, 0.7987, -0.2158, -0.3343, -0.5648, -0.3192, -0.2509, 0.0525, 2.4483, 2.4457, 2.2008, 2.2008, 2.2001, 2.1997, 2.1995, 2.1992, 2.1992, 2.1992, 2.1992, 2.1991, 2.1978, 2.1976, 2.1975, 2.1975, 2.1974, 2.1974, 2.1974, 2.1973, 2.1973, 2.1973, 2.1973, 2.1972, 2.1971, 2.1968, 2.1967, 2.1967, 2.1965, 2.1965, 2.1289, 1.9992, 2.0074, 2.0639, 1.6907, 1.8413, 0.8574, 1.3586, 1.6147, 0.0743, 0.5683, 0.8897, 0.4041, 1.0107, 0.4604, -0.8345, 0.4261, 0.8064, 0.7909, 0.8019, 0.6879, 0.7081, 0.8621, 0.8042, 0.3994, 2.7312, 2.5256, 2.5245, 2.2753, 2.2752, 2.2752, 2.2727, 2.2722, 2.2722, 2.2721, 2.272, 2.2719, 2.2717, 2.2716, 2.2716, 2.2716, 2.2716, 2.2715, 2.2714, 2.2714, 2.2714, 2.2714, 2.2713, 2.2713, 2.2712, 2.2711, 2.2711, 2.2711, 2.2711, 2.271, 2.2258, 2.1496, 1.9508, 1.8974, 1.6805, 0.2851, 1.5144, 1.3145, 0.3486, 0.2554, 0.8658, 0.7825, 0.3923, -0.1167, -0.345, 0.6842, 0.9504, 0.8706, 0.146, -0.6569, 0.1333, 1.4887, 1.4887, 1.4887, 0.9392, 0.0585, -0.7278, 2.6477, 2.6311, 2.3852, 2.3852, 2.3816, 2.3814, 2.3811, 2.3811, 2.3809, 2.3809, 2.3808, 2.3808, 2.3807, 2.3806, 2.3803, 2.3507, 2.3178, 2.317, 2.0976, 1.9879, 1.9793, 1.9747, 1.9568, 1.9476, 1.9242, 1.839, 1.8389, 1.8383, 1.8381, 1.8371, 1.2534, 1.0335, 0.7773, 1.2896, 0.8563, 0.6462, -0.425, 0.4999, 0.2557, -0.0523, -0.4379, -0.1748, 0.3363, -0.5696, -0.039, -0.3028, 1.3049, 1.6396, 1.0798, 2.774, 2.6152, 2.6152, 2.6152, 2.6152, 2.6152, 2.6152, 2.6152, 2.6152, 2.6141, 2.614, 2.6139, 2.6135, 2.6134, 2.6131, 2.5846, 2.1837, 2.1825, 2.1689, 2.1689, 2.0303, 1.9089, 1.8615, 1.8127, 1.7854, 1.7692, 1.6354, 1.5068, 1.3293, 1.1225, 0.9138, 0.8145, 0.2163, 0.6078, 0.9883, 0.9605, 0.7779, 0.5151, -0.4626, -0.314, 0.3588, 1.0763, 1.017]}, \"token.table\": {\"Topic\": [5, 1, 2, 5, 6, 7, 8, 1, 2, 8, 1, 7, 8, 2, 8, 8, 6, 10, 4, 4, 5, 5, 7, 9, 1, 6, 10, 3, 6, 2, 4, 1, 4, 10, 9, 3, 2, 3, 6, 8, 1, 5, 7, 10, 8, 8, 1, 2, 3, 5, 7, 6, 10, 5, 10, 2, 4, 5, 6, 2, 1, 3, 4, 1, 3, 4, 5, 10, 3, 7, 2, 1, 3, 5, 6, 3, 10, 1, 2, 3, 4, 5, 6, 7, 8, 9, 7, 3, 2, 4, 6, 9, 10, 1, 6, 1, 5, 1, 5, 8, 9, 1, 3, 9, 4, 5, 1, 6, 6, 2, 3, 9, 1, 3, 1, 2, 4, 5, 8, 10, 5, 5, 10, 2, 6, 1, 2, 4, 6, 7, 3, 7, 1, 4, 5, 4, 6, 4, 2, 8, 1, 5, 10, 2, 4, 5, 8, 9, 1, 2, 3, 4, 6, 8, 1, 2, 7, 10, 5, 7, 10, 1, 5, 2, 1, 3, 7, 1, 1, 8, 1, 2, 10, 6, 6, 1, 9, 6, 8, 2, 1, 1, 4, 1, 5, 8, 6, 7, 8, 4, 6, 10, 9, 1, 7, 4, 1, 3, 4, 5, 6, 10, 1, 4, 6, 7, 1, 4, 2, 3, 9, 1, 2, 3, 7, 3, 2, 9, 1, 4, 1, 1, 4, 5, 5, 3, 6, 1, 6, 7, 8, 1, 6, 1, 3, 9, 1, 2, 2, 6, 6, 9, 10, 4, 4, 8, 3, 1, 5, 8, 9, 1, 7, 6, 8, 4, 5, 5, 3, 1, 1, 2, 3, 4, 5, 6, 6, 9, 1, 3, 4, 10, 7, 10, 2, 1, 2, 4, 5, 6, 9, 10, 4, 7, 1, 5, 5, 7, 9, 5, 1, 5, 7, 8, 10, 1, 1, 8, 1, 3, 4, 1, 3, 4, 5, 6, 9, 1, 4, 5, 2, 5, 6, 7, 8, 9, 7, 3, 1, 1, 3, 4, 5, 6, 9, 5, 2, 5, 4, 5, 1, 5, 8, 4, 1, 7, 9, 1, 2, 4, 5, 6, 8, 9, 10, 1, 2, 3, 4, 6, 1, 2, 5, 6, 8, 1, 1, 2, 3, 7, 9, 2, 5, 7, 8, 1, 2, 1, 2, 4, 5, 3, 1, 10, 6, 9, 1, 2, 4, 6, 8, 2, 1, 3, 4, 5, 6, 9, 1, 2, 5, 6, 10, 6, 1, 7, 8, 1, 9, 1, 8, 5, 1, 2, 3, 4, 5, 6, 7, 8, 9, 10, 8, 7, 7, 10, 5, 10, 6, 2, 2, 1, 4, 8, 7, 3, 1, 3, 10, 8, 2, 7, 6, 8, 1, 2, 3, 8, 8, 1, 5, 8, 1, 3, 7, 4, 9, 1, 4, 5, 8, 3, 5, 9, 1, 2, 6, 9, 3, 2, 1, 2, 8, 9, 7, 5, 1, 2, 3, 7, 10, 2, 8, 9, 1, 2, 3, 8, 1, 2, 4, 5, 8, 9, 7, 10, 1, 3, 5, 7, 9, 10, 1, 2, 3, 4, 5, 6, 8, 10, 1, 2, 5, 9, 3, 1, 3, 4, 5, 6, 7, 9, 4, 1, 9, 1, 3, 6, 7, 9, 4, 1, 3, 7, 10, 1, 9, 1, 8, 6, 1, 2, 3, 5, 6, 7, 1, 2, 7, 9, 10, 1, 2, 5, 9, 2, 3, 5, 6, 8, 10, 1, 4, 5, 4, 1, 2, 6, 9, 2, 3, 7, 9, 10, 3, 9, 5, 3, 3, 4, 9, 4, 8, 8, 3, 4, 1, 2, 3, 4, 5, 8, 9, 5, 1, 7, 8, 1, 1, 10, 2, 2, 7, 6, 7, 3, 2, 6, 10, 9, 7, 1, 7, 10, 7, 4, 4, 4, 6, 8, 7, 1, 5, 1, 2, 4, 5, 7, 8, 8, 1, 5, 6, 8, 7, 7, 5, 6, 9, 7, 4, 7, 8, 5, 3, 3, 7, 3, 4, 5, 2, 2, 10, 5, 5, 8, 1, 2, 3, 5, 6, 8, 9, 7, 1, 2, 3, 5, 7, 1, 5, 8, 3, 10, 2, 7, 3, 2, 1, 2, 8, 5, 1, 7, 2, 2, 6, 5, 8, 9, 1, 6, 9, 1, 6, 4, 6, 2, 3, 4, 8, 3, 3, 5, 5, 7, 9, 7, 7, 8, 8, 1, 2, 3, 4, 5, 6, 7, 8, 9, 10, 2, 5], \"Freq\": [0.7204133764486715, 0.15683383705823833, 0.15683383705823833, 0.15683383705823833, 0.15683383705823833, 0.31366767411647667, 0.15683383705823833, 0.36458169634186394, 0.36458169634186394, 0.18229084817093197, 0.33903780490397906, 0.33903780490397906, 0.33903780490397906, 0.6884161071014042, 0.7454231059090933, 0.7453699365567736, 0.41301797650259053, 0.41301797650259053, 0.711408789361782, 0.6094372243317598, 0.20314574144391995, 0.48063133231419797, 0.7354116146613368, 0.7641780609956224, 0.3541367453365236, 0.3541367453365236, 0.3541367453365236, 0.6966880078571717, 0.7409745003057099, 0.688419689351691, 0.7114116143073865, 0.32682009766645304, 0.32682009766645304, 0.8122558989095069, 0.5204910303986259, 0.6970500075476318, 0.6883620187191332, 0.6966842879041435, 0.7407713901385068, 0.745358993356058, 0.5875899407986486, 0.11751798815972972, 0.11751798815972972, 0.11751798815972972, 0.7453659628578612, 0.7453178904332804, 0.4959533233591855, 0.12398833083979638, 0.24797666167959276, 0.12398833083979638, 0.12398833083979638, 0.7408101267262016, 0.8119969941617033, 0.5198487445563182, 0.5198487445563182, 0.2568027126018296, 0.5136054252036591, 0.1284013563009148, 0.1284013563009148, 0.9050667881994358, 0.5478721604828507, 0.27393608024142535, 0.27393608024142535, 0.39118952785852484, 0.13039650928617494, 0.2607930185723499, 0.2607930185723499, 0.8122559540049583, 0.6967015797267033, 0.7356354291037674, 0.688322392331056, 0.6519601406232478, 0.13039202812464956, 0.06519601406232478, 0.06519601406232478, 0.696676662657345, 0.8122554568782596, 0.41952813754142426, 0.06992135625690404, 0.06992135625690404, 0.1748033906422601, 0.03496067812845202, 0.10488203438535607, 0.03496067812845202, 0.06992135625690404, 0.03496067812845202, 0.735627434662159, 0.6966857705021502, 0.14050642828581283, 0.14050642828581283, 0.4215192848574385, 0.14050642828581283, 0.14050642828581283, 0.4365204501880278, 0.4365204501880278, 0.7751269675641892, 0.1937817418910473, 0.7742706066497365, 0.7204076323118457, 0.5116670803474442, 0.5116670803474442, 0.4556671018490298, 0.4556671018490298, 0.11391677546225745, 0.4766706202598557, 0.4766706202598557, 0.7737968459593596, 0.7409745547224434, 0.4991355360497009, 0.6883182938599178, 0.3757746374250376, 0.3757746374250376, 0.922974107321685, 0.6966878898307229, 0.16230342771377787, 0.40575856928444465, 0.08115171385688894, 0.2434551415706668, 0.08115171385688894, 0.08115171385688894, 0.7204288801324309, 0.5198497028420822, 0.5198497028420822, 0.47471192911851, 0.47471192911851, 0.48907404353930267, 0.48907404353930267, 0.48554991941366427, 0.48554991941366427, 0.7354538265983663, 0.5592014490704187, 0.27960072453520934, 0.5548161545637568, 0.2774080772818784, 0.1387040386409392, 0.36844216555597453, 0.36844216555597453, 0.7114105217934623, 0.6883222416977811, 0.7454392310429605, 0.34866469202706246, 0.34866469202706246, 0.34866469202706246, 0.20731061376874269, 0.20731061376874269, 0.20731061376874269, 0.20731061376874269, 0.20731061376874269, 0.3450519421279116, 0.1725259710639558, 0.1725259710639558, 0.1725259710639558, 0.0862629855319779, 0.0862629855319779, 0.12148015147878906, 0.48592060591515623, 0.12148015147878906, 0.24296030295757812, 0.3048990781302441, 0.3048990781302441, 0.3048990781302441, 0.7761699871936008, 0.1940424967984002, 0.6884212883143715, 0.269788432040609, 0.269788432040609, 0.269788432040609, 0.8966911216120491, 0.7830060672489654, 0.19575151681224134, 0.4891234541025893, 0.4891234541025893, 0.812255977016664, 0.7407792941499599, 0.7408047214045855, 0.4440588016887809, 0.4440588016887809, 0.7409745003057099, 0.7453658238676588, 0.9051567795983274, 0.7750818074182382, 0.615952151178518, 0.307976075589259, 0.8753479461323018, 0.12504970659032885, 0.503127366392789, 0.2157998954421198, 0.4315997908842396, 0.2157998954421198, 0.6568932695053713, 0.16422331737634283, 0.16422331737634283, 0.7641531490872279, 0.9431025436423098, 0.7356325002803602, 0.7114073725980243, 0.6253016232683127, 0.05210846860569272, 0.2084338744227709, 0.05210846860569272, 0.05210846860569272, 0.8120162431456963, 0.5442727093857891, 0.18142423646192968, 0.18142423646192968, 0.18142423646192968, 0.640457937130602, 0.21348597904353397, 0.6883662618558759, 0.3757507814673657, 0.3757507814673657, 0.5196367485961358, 0.3464244990640906, 0.1732122495320453, 0.7356715350836981, 0.9195041816351796, 0.48414709442381565, 0.48414709442381565, 0.8772910096544766, 0.12532728709349666, 0.7747443193269394, 0.4310552080718631, 0.21552760403593155, 0.21552760403593155, 0.7204297155758403, 0.6966746363423316, 0.7409754585341867, 0.5460787094734915, 0.1820262364911638, 0.1820262364911638, 0.7453633471424367, 0.5143730905665419, 0.25718654528327095, 0.4558126550531796, 0.4558126550531796, 0.1139531637632949, 0.31738357707690995, 0.6347671541538199, 0.3619356327549521, 0.3619356327549521, 0.40029602067561815, 0.40029602067561815, 0.40029602067561815, 0.7114080057601014, 0.7114088384621385, 0.745198058713423, 0.6969696025350279, 0.18312625689649503, 0.18312625689649503, 0.18312625689649503, 0.36625251379299006, 0.9249691117171114, 0.7354811264649016, 0.7409746468570252, 0.7454008384531047, 0.476606748792864, 0.476606748792864, 0.7204034813145384, 0.6967022848874497, 0.9445611674445598, 0.5303509232778039, 0.04419591027315032, 0.22097955136575162, 0.04419591027315032, 0.06629386540972548, 0.06629386540972548, 0.7409746426532386, 0.7641652384576699, 0.584364676903364, 0.166961336258104, 0.166961336258104, 0.083480668129052, 0.5275475558240628, 0.5275475558240628, 0.6883646629713529, 0.5711456253155511, 0.051922329574141016, 0.10384465914828203, 0.051922329574141016, 0.051922329574141016, 0.051922329574141016, 0.051922329574141016, 0.7114175414844752, 0.7354540044117038, 0.7750976438166439, 0.7204042027784946, 0.7203541443851976, 0.7357004120536701, 0.7642477044913711, 0.7203538336061945, 0.6756603962646328, 0.06756603962646328, 0.06756603962646328, 0.06756603962646328, 0.06756603962646328, 0.8531547399669343, 0.7739702452121785, 0.7453903133965062, 0.6932348250095299, 0.1540521833354511, 0.1540521833354511, 0.4466668479858161, 0.06380954971225944, 0.19142864913677832, 0.06380954971225944, 0.06380954971225944, 0.12761909942451888, 0.43573387702791616, 0.43573387702791616, 0.21786693851395808, 0.3239744499404189, 0.16198722497020945, 0.3239744499404189, 0.16198722497020945, 0.16198722497020945, 0.7641140448080819, 0.7354105554134814, 0.6966856679208939, 0.7743732799816353, 0.6081313183547011, 0.06081313183547011, 0.12162626367094022, 0.06081313183547011, 0.06081313183547011, 0.06081313183547011, 0.7203540078214293, 0.688419273229464, 0.7204326280523017, 0.7114050216418412, 0.7203540503499405, 0.2341197458977567, 0.2341197458977567, 0.4682394917955134, 0.7114588579490742, 0.5184308080968031, 0.25921540404840154, 0.25921540404840154, 0.4360954035962871, 0.07929007338114312, 0.11893511007171467, 0.11893511007171467, 0.07929007338114312, 0.03964503669057156, 0.03964503669057156, 0.07929007338114312, 0.3788356510077432, 0.16235813614617564, 0.27059689357695943, 0.10823875743078376, 0.05411937871539188, 0.2653788246062074, 0.2653788246062074, 0.3538384328082765, 0.08845960820206912, 0.08845960820206912, 0.7742103713010254, 0.6730162445795134, 0.04641491341927678, 0.09282982683855356, 0.13924474025783035, 0.02320745670963839, 0.3633821006028793, 0.18169105030143964, 0.18169105030143964, 0.3633821006028793, 0.8951088231605108, 0.6883541827767398, 0.5969535374805599, 0.07461919218506999, 0.22385757655520994, 0.07461919218506999, 0.9195348818805003, 0.7740950657608727, 0.8122559590097188, 0.38823223348648905, 0.38823223348648905, 0.6916617838740168, 0.06916617838740168, 0.06916617838740168, 0.13833235677480335, 0.7454082645742829, 0.9050309652222076, 0.2756662088622706, 0.1378331044311353, 0.1378331044311353, 0.1378331044311353, 0.2756662088622706, 0.1378331044311353, 0.5232163576844645, 0.28539074055516245, 0.04756512342586041, 0.04756512342586041, 0.09513024685172082, 0.7409745556293302, 0.33904097831193963, 0.33904097831193963, 0.33904097831193963, 0.44425860559467395, 0.44425860559467395, 0.775284720098596, 0.7454270552244274, 0.7204311011666741, 0.15432113191488803, 0.07716056595744401, 0.15432113191488803, 0.15432113191488803, 0.03858028297872201, 0.07716056595744401, 0.11574084893616601, 0.07716056595744401, 0.11574084893616601, 0.07716056595744401, 0.7451979010546956, 0.7353698065266447, 0.5276086574242485, 0.5276086574242485, 0.38226636960503824, 0.38226636960503824, 0.7409756181079187, 0.6883582174728782, 0.6884099812863503, 0.7738755502095302, 0.7114661631452449, 0.7454224339886194, 0.7354457621516961, 0.696674675681563, 0.6961958849530502, 0.17404897123826255, 0.17404897123826255, 0.7454085758587657, 0.688367600324835, 0.7354653137124699, 0.5011430169932104, 0.5011430169932104, 0.8438194462592935, 0.14063657437654892, 0.9195040942620464, 0.7643069843287295, 0.7453908355102602, 0.3834836491595119, 0.19174182457975594, 0.3834836491595119, 0.43019558117587847, 0.21509779058793924, 0.21509779058793924, 0.4954585635252776, 0.4954585635252776, 0.5102821036156566, 0.2551410518078283, 0.2551410518078283, 0.7453625381895868, 0.6966748129517264, 0.4997357251682118, 0.4997357251682118, 0.4012794299425287, 0.1337598099808429, 0.2675196199616858, 0.1337598099808429, 0.6969601925683259, 0.905044814771873, 0.5282384925176478, 0.23477266334117677, 0.05869316583529419, 0.11738633167058839, 0.7354350307515733, 0.7204495036263464, 0.5093553153378817, 0.08489255255631362, 0.16978510511262723, 0.25467765766894085, 0.08489255255631362, 0.6884089118147284, 0.7453386584160473, 0.7642479596819509, 0.604838968624928, 0.151209742156232, 0.151209742156232, 0.151209742156232, 0.43696377492495353, 0.0873927549849907, 0.1747855099699814, 0.0873927549849907, 0.0873927549849907, 0.1747855099699814, 0.7354721534056466, 0.8122556648574962, 0.517459685840521, 0.17248656194684034, 0.08624328097342017, 0.08624328097342017, 0.043121640486710085, 0.043121640486710085, 0.07393908253746384, 0.14787816507492768, 0.36969541268731926, 0.22181724761239155, 0.07393908253746384, 0.03696954126873192, 0.03696954126873192, 0.03696954126873192, 0.3658695076650763, 0.24391300511005087, 0.12195650255502544, 0.24391300511005087, 0.6970858584358715, 0.35255723309158415, 0.14102289323663364, 0.07051144661831682, 0.14102289323663364, 0.07051144661831682, 0.14102289323663364, 0.07051144661831682, 0.7114100172734746, 0.4442268465979728, 0.4442268465979728, 0.5377030034619439, 0.17923433448731463, 0.17923433448731463, 0.17923433448731463, 0.7641657387747646, 0.7114106845895619, 0.22125015569409962, 0.44250031138819923, 0.22125015569409962, 0.811801394946588, 0.4438885920807711, 0.4438885920807711, 0.7888614751220682, 0.08765127501356312, 0.7407828800016981, 0.2884194540819509, 0.2884194540819509, 0.14420972704097546, 0.14420972704097546, 0.14420972704097546, 0.7356554818572092, 0.8498980312446192, 0.3596471573096662, 0.3596471573096662, 0.7641725756271333, 0.8118684626276257, 0.5391784640048435, 0.33698654000302714, 0.06739730800060544, 0.06739730800060544, 0.36513428754508087, 0.18256714377254044, 0.18256714377254044, 0.18256714377254044, 0.18256714377254044, 0.18256714377254044, 0.7561554927669195, 0.09451943659586494, 0.09451943659586494, 0.7114056042593457, 0.775027413349518, 0.3000814461306017, 0.3000814461306017, 0.3000814461306017, 0.6883600325234566, 0.6966832830484516, 0.506946752456294, 0.506946752456294, 0.8118930387680855, 0.6966855170080366, 0.7641258647597077, 0.7204628673209118, 0.6967010119306137, 0.36257892363794003, 0.36257892363794003, 0.36257892363794003, 0.4873569077015655, 0.4873569077015655, 0.7453284394998487, 0.23394539456536534, 0.701836183696096, 0.32288500148983257, 0.2690708345748605, 0.16144250074491628, 0.10762833382994418, 0.10762833382994418, 0.05381416691497209, 0.05381416691497209, 0.7203541089052675, 0.33903353154376786, 0.33903353154376786, 0.33903353154376786, 0.8717517692213733, 0.7750219491223197, 0.8122555599850749, 0.6884177914223574, 0.6883783946185735, 0.7357003917176387, 0.37493929651143365, 0.37493929651143365, 0.69668449006669, 0.6884078360674288, 0.33815688766885393, 0.6763137753377079, 0.7641816915662997, 0.49410619494350133, 0.337023558117287, 0.337023558117287, 0.8122559608492361, 0.7356344057777461, 0.7114580243216575, 0.7114123750192736, 0.7114033005249666, 0.74097579569016, 0.5031974513178658, 0.7354289089512516, 0.8753683309302529, 0.12505261870432186, 0.33064683944292583, 0.16532341972146292, 0.16532341972146292, 0.16532341972146292, 0.16532341972146292, 0.16532341972146292, 0.7453836863970491, 0.20217990194923824, 0.20217990194923824, 0.6065397058477147, 0.7453814232549734, 0.7356481445966412, 0.7353966425154919, 0.7204063837050894, 0.7407774419925595, 0.764174620020323, 0.7354109362532413, 0.7114097569176229, 0.7353969848226178, 0.7453575594248005, 0.720433248346048, 0.696710019417787, 0.6966766558491979, 0.7353884010591124, 0.6966936763696402, 0.7114147950799959, 0.7203985665633136, 0.6741602609357881, 0.7284845169501623, 0.3642422584750811, 0.7203542599003376, 0.7204067366601717, 0.7453662503333267, 0.2867791693420975, 0.19118611289473167, 0.19118611289473167, 0.09559305644736583, 0.09559305644736583, 0.09559305644736583, 0.09559305644736583, 0.7356352130704475, 0.1928579120727025, 0.1928579120727025, 0.1928579120727025, 0.1928579120727025, 0.1928579120727025, 0.774843349776474, 0.1937108374441185, 0.7454021820527584, 0.6966883400912166, 0.8119779505421193, 0.6883720732068154, 0.7353618108058895, 0.6966935758932951, 0.6883888605325847, 0.14902162210045647, 0.5960864884018259, 0.14902162210045647, 0.48062887871267346, 0.48514315598667923, 0.48514315598667923, 0.6884308422806522, 0.29275920011957085, 0.5855184002391417, 0.3731476496790508, 0.3731476496790508, 0.7641611053466301, 0.8968369223257125, 0.26299044203641664, 0.7889713261092499, 0.8517628721040329, 0.7409744709954538, 0.7114128290368786, 0.7408113837545452, 0.3952247250588705, 0.19761236252943526, 0.19761236252943526, 0.19761236252943526, 0.6968702593283165, 0.6970469563210641, 0.7204202029688912, 0.7204254354099979, 0.7354188434436404, 0.7642133477991641, 0.49430494208783654, 0.735360263519384, 0.745339089722625, 0.7451980726620324, 0.48948899885416247, 0.06315987081989194, 0.06315987081989194, 0.0947398062298379, 0.015789967704972985, 0.06315987081989194, 0.06315987081989194, 0.07894983852486491, 0.03157993540994597, 0.04736990311491895, 0.6883182068684429, 0.7204159252183125], \"Term\": [\"accident\", \"account\", \"account\", \"account\", \"account\", \"account\", \"account\", \"accounting\", \"accounting\", \"accounting\", \"activity\", \"activity\", \"activity\", \"addback\", \"admin\", \"age\", \"agent\", \"agent\", \"amortization\", \"amount\", \"amount\", \"and\", \"andcapacity\", \"andcredit\", \"andhealth\", \"andhealth\", \"andhealth\", \"andinsolvency\", \"andnatcat\", \"andnobody\", \"anotherlarge\", \"answer\", \"answer\", \"apology\", \"appetite\", \"apremium\", \"area\", \"asme\", \"assetallocation\", \"assomebody\", \"assumption\", \"assumption\", \"assumption\", \"assumption\", \"aswe\", \"ayear\", \"basis\", \"basis\", \"basis\", \"basis\", \"basis\", \"beensignificant\", \"belowthe\", \"benefit\", \"benefit\", \"bit\", \"bit\", \"bit\", \"bit\", \"block\", \"bond\", \"bond\", \"bond\", \"book\", \"book\", \"book\", \"book\", \"booking\", \"bothbusiness\", \"bottom\", \"bottomline\", \"budget\", \"budget\", \"budget\", \"budget\", \"budgeting\", \"buffer\", \"business\", \"business\", \"business\", \"business\", \"business\", \"business\", \"business\", \"business\", \"business\", \"buta\", \"calculate\", \"calculation\", \"calculation\", \"calculation\", \"calculation\", \"calculation\", \"capacity\", \"capacity\", \"capital\", \"capital\", \"capitalization\", \"car\", \"case\", \"case\", \"cash\", \"cash\", \"cash\", \"cat\", \"cat\", \"catastrophe\", \"catbudget\", \"cedent\", \"certainty\", \"cetera\", \"cetera\", \"change\", \"check\", \"claim\", \"claim\", \"claim\", \"claim\", \"claim\", \"claim\", \"clarification\", \"clarity\", \"clarity\", \"cleanup\", \"cleanup\", \"client\", \"client\", \"color\", \"color\", \"construction\", \"contract\", \"contract\", \"contribution\", \"contribution\", \"contribution\", \"contributor\", \"contributor\", \"core\", \"correlation\", \"counterpartie\", \"country\", \"country\", \"country\", \"couple\", \"couple\", \"couple\", \"couple\", \"couple\", \"course\", \"course\", \"course\", \"course\", \"course\", \"course\", \"cover\", \"cover\", \"cover\", \"cover\", \"coverage\", \"coverage\", \"coverage\", \"covid\", \"covid\", \"covidclaim\", \"credit\", \"credit\", \"credit\", \"currency\", \"date\", \"date\", \"datum\", \"datum\", \"death\", \"decline\", \"declined\", \"decrease\", \"decrease\", \"degree\", \"delay\", \"deposit\", \"depreciation\", \"detail\", \"detail\", \"development\", \"development\", \"die\", \"difference\", \"difference\", \"difference\", \"digit\", \"digit\", \"digit\", \"dip\", \"dividend\", \"downassumption\", \"ebitnumber\", \"effect\", \"effect\", \"effect\", \"effect\", \"effect\", \"elthe\", \"end\", \"end\", \"end\", \"end\", \"equity\", \"equity\", \"especiallywhen\", \"et\", \"et\", \"eur\", \"eur\", \"eur\", \"everyelement\", \"example\", \"exercise\", \"exercise\", \"expectation\", \"expectation\", \"expense\", \"fact\", \"fact\", \"fact\", \"factoring\", \"factthat\", \"farstronger\", \"figure\", \"figure\", \"figure\", \"fixedlag\", \"flood\", \"flood\", \"flow\", \"flow\", \"flow\", \"focus\", \"focus\", \"follow\", \"follow\", \"forthe\", \"forthe\", \"forthe\", \"frominflation\", \"fromthe\", \"fronting\", \"fullyear\", \"fund\", \"fund\", \"fund\", \"fund\", \"gain\", \"gap\", \"gapbetween\", \"gbp\", \"gentleman\", \"gentleman\", \"goingforward\", \"ground\", \"group\", \"growth\", \"growth\", \"growth\", \"growth\", \"growth\", \"growth\", \"growthor\", \"growththat\", \"guidance\", \"guidance\", \"guidance\", \"guidance\", \"half\", \"half\", \"havelongevity\", \"health\", \"health\", \"health\", \"health\", \"health\", \"health\", \"health\", \"healthand\", \"higherthan\", \"highlight\", \"hospital\", \"host\", \"howhigh\", \"hurdle\", \"iguess\", \"impact\", \"impact\", \"impact\", \"impact\", \"impact\", \"impairment\", \"improvement\", \"inaudible\", \"income\", \"income\", \"income\", \"increase\", \"increase\", \"increase\", \"increase\", \"increase\", \"increase\", \"inflation\", \"inflation\", \"inflation\", \"information\", \"information\", \"information\", \"information\", \"information\", \"inq\", \"insolvency\", \"instance\", \"interest\", \"investment\", \"investment\", \"investment\", \"investment\", \"investment\", \"investment\", \"isbeing\", \"isdeposit\", \"kick\", \"ladie\", \"lady\", \"lag\", \"lag\", \"lag\", \"leader\", \"level\", \"level\", \"level\", \"life\", \"life\", \"life\", \"life\", \"life\", \"life\", \"life\", \"life\", \"line\", \"line\", \"line\", \"line\", \"line\", \"longevity\", \"longevity\", \"longevity\", \"longevity\", \"longevity\", \"look\", \"loss\", \"loss\", \"loss\", \"loss\", \"loss\", \"lot\", \"lot\", \"lot\", \"lot\", \"management\", \"margin\", \"market\", \"market\", \"market\", \"market\", \"message\", \"metric\", \"millionversus\", \"model\", \"model\", \"month\", \"month\", \"month\", \"month\", \"monthlyaccount\", \"morbidity\", \"morning\", \"morning\", \"morning\", \"morning\", \"morning\", \"morning\", \"mortality\", \"mortality\", \"mortality\", \"mortality\", \"mortality\", \"nature\", \"net\", \"net\", \"net\", \"newbusiness\", \"newbusiness\", \"ninemonth\", \"norm\", \"normalmortality\", \"number\", \"number\", \"number\", \"number\", \"number\", \"number\", \"number\", \"number\", \"number\", \"number\", \"ofgross\", \"ofinsolvencie\", \"ofthat\", \"ofthat\", \"one\", \"one\", \"opposite\", \"ormost\", \"other\", \"ourguidance\", \"ourmarket\", \"ourprofit\", \"ourtransaction\", \"outflow\", \"outlook\", \"outlook\", \"outlook\", \"outset\", \"ownportfolio\", \"package\", \"pad\", \"pad\", \"pandemic\", \"pandemic\", \"payout\", \"pension\", \"pensioninsurer\", \"people\", \"people\", \"people\", \"period\", \"period\", \"period\", \"perspective\", \"perspective\", \"picture\", \"picture\", \"picture\", \"plan\", \"plane\", \"planning\", \"planning\", \"point\", \"point\", \"point\", \"point\", \"pointof\", \"population\", \"portfolio\", \"portfolio\", \"portfolio\", \"portfolio\", \"positiverunoff\", \"potential\", \"premium\", \"premium\", \"premium\", \"premium\", \"premium\", \"presentation\", \"pricing\", \"pricingpoint\", \"profit\", \"profit\", \"profit\", \"profit\", \"profitability\", \"profitability\", \"profitability\", \"profitability\", \"profitability\", \"profitability\", \"protection\", \"quantification\", \"quarter\", \"quarter\", \"quarter\", \"quarter\", \"quarter\", \"quarter\", \"question\", \"question\", \"question\", \"question\", \"question\", \"question\", \"question\", \"question\", \"rate\", \"rate\", \"rate\", \"rate\", \"rather\", \"ratio\", \"ratio\", \"ratio\", \"ratio\", \"ratio\", \"ratio\", \"ratio\", \"ratioalready\", \"reallocation\", \"reallocation\", \"reason\", \"reason\", \"reason\", \"reason\", \"reasonwhy\", \"rebound\", \"recovery\", \"recovery\", \"recovery\", \"recuperation\", \"reflection\", \"reflection\", \"reinsurance\", \"reinsurance\", \"relative\", \"release\", \"release\", \"release\", \"release\", \"release\", \"remainder\", \"remark\", \"reporting\", \"reporting\", \"reserving\", \"rest\", \"result\", \"result\", \"result\", \"result\", \"retro\", \"retro\", \"retro\", \"retro\", \"retro\", \"retro\", \"return\", \"return\", \"return\", \"right\", \"riot\", \"risk\", \"risk\", \"risk\", \"riskpremium\", \"road\", \"round\", \"round\", \"saidthat\", \"scheme\", \"scrincrease\", \"secondone\", \"seeyou\", \"segment\", \"segment\", \"segment\", \"session\", \"session\", \"set\", \"share\", \"share\", \"side\", \"side\", \"side\", \"side\", \"side\", \"side\", \"side\", \"sir\", \"situation\", \"situation\", \"situation\", \"slide\", \"solvency\", \"someexpectation\", \"someupdate\", \"source\", \"spillover\", \"split\", \"split\", \"state\", \"statement\", \"statistic\", \"statistic\", \"status\", \"stimulus\", \"storm\", \"storm\", \"straight\", \"structure\", \"subsidiary\", \"support\", \"surprise\", \"sven\", \"system\", \"tail\", \"target\", \"target\", \"term\", \"term\", \"term\", \"term\", \"term\", \"term\", \"thanif\", \"thank\", \"thank\", \"thank\", \"thatand\", \"thatchange\", \"thatfreeze\", \"thatha\", \"thatincrease\", \"thebasis\", \"thebulk\", \"thecontribution\", \"thedifference\", \"theforefront\", \"theimplication\", \"thekey\", \"thelongevity\", \"thenet\", \"theroe\", \"thescr\", \"thesecond\", \"thesetreatie\", \"thing\", \"thing\", \"thinking\", \"thirdquarter\", \"thisyear\", \"time\", \"time\", \"time\", \"time\", \"time\", \"time\", \"time\", \"tochange\", \"today\", \"today\", \"today\", \"today\", \"today\", \"top\", \"top\", \"topay\", \"torecollect\", \"total\", \"tounderstand\", \"trade\", \"trajectory\", \"transaction\", \"treaty\", \"treaty\", \"treaty\", \"trigger\", \"underwriting\", \"underwriting\", \"unknown\", \"up\", \"up\", \"update\", \"update\", \"usualexercise\", \"value\", \"view\", \"view\", \"volatility\", \"volumeversus\", \"walk\", \"wasanother\", \"way\", \"way\", \"way\", \"way\", \"weare\", \"weeksago\", \"weeksand\", \"welook\", \"wenow\", \"wespeak\", \"wholeaccount\", \"winter\", \"work\", \"writing\", \"year\", \"year\", \"year\", \"year\", \"year\", \"year\", \"year\", \"year\", \"year\", \"year\", \"yourexpectation\", \"yourquestion\"]}, \"R\": 30, \"lambda.step\": 0.01, \"plot.opts\": {\"xlab\": \"PC1\", \"ylab\": \"PC2\"}, \"topic.order\": [8, 2, 7, 3, 9, 6, 10, 1, 5, 4]};\n",
       "\n",
       "function LDAvis_load_lib(url, callback){\n",
       "  var s = document.createElement('script');\n",
       "  s.src = url;\n",
       "  s.async = true;\n",
       "  s.onreadystatechange = s.onload = callback;\n",
       "  s.onerror = function(){console.warn(\"failed to load library \" + url);};\n",
       "  document.getElementsByTagName(\"head\")[0].appendChild(s);\n",
       "}\n",
       "\n",
       "if(typeof(LDAvis) !== \"undefined\"){\n",
       "   // already loaded: just create the visualization\n",
       "   !function(LDAvis){\n",
       "       new LDAvis(\"#\" + \"ldavis_el191306317160704750906389\", ldavis_el191306317160704750906389_data);\n",
       "   }(LDAvis);\n",
       "}else if(typeof define === \"function\" && define.amd){\n",
       "   // require.js is available: use it to load d3/LDAvis\n",
       "   require.config({paths: {d3: \"https://d3js.org/d3.v5\"}});\n",
       "   require([\"d3\"], function(d3){\n",
       "      window.d3 = d3;\n",
       "      LDAvis_load_lib(\"https://cdn.jsdelivr.net/gh/bmabey/pyLDAvis@3.3.1/pyLDAvis/js/ldavis.v3.0.0.js\", function(){\n",
       "        new LDAvis(\"#\" + \"ldavis_el191306317160704750906389\", ldavis_el191306317160704750906389_data);\n",
       "      });\n",
       "    });\n",
       "}else{\n",
       "    // require.js not available: dynamically load d3 & LDAvis\n",
       "    LDAvis_load_lib(\"https://d3js.org/d3.v5.js\", function(){\n",
       "         LDAvis_load_lib(\"https://cdn.jsdelivr.net/gh/bmabey/pyLDAvis@3.3.1/pyLDAvis/js/ldavis.v3.0.0.js\", function(){\n",
       "                 new LDAvis(\"#\" + \"ldavis_el191306317160704750906389\", ldavis_el191306317160704750906389_data);\n",
       "            })\n",
       "         });\n",
       "}\n",
       "</script>"
      ],
      "text/plain": [
       "PreparedData(topic_coordinates=              x         y  topics  cluster       Freq\n",
       "topic                                                \n",
       "7      0.156394  0.076919       1        1  40.738032\n",
       "1      0.077219  0.182104       2        1   9.630690\n",
       "6     -0.186003  0.040933       3        1   8.863274\n",
       "2     -0.097839  0.154218       4        1   8.145028\n",
       "8      0.087242 -0.109473       5        1   6.941361\n",
       "5     -0.020811  0.081567       6        1   6.049699\n",
       "9     -0.029312 -0.216985       7        1   5.945457\n",
       "0     -0.136866 -0.112911       8        1   5.443894\n",
       "4     -0.007785 -0.041083       9        1   4.742897\n",
       "3      0.157761 -0.055288      10        1   3.499667, topic_info=          Term       Freq      Total Category  logprob  loglift\n",
       "121       loss  43.000000  43.000000  Default  30.0000  30.0000\n",
       "91      growth  45.000000  45.000000  Default  29.0000  29.0000\n",
       "235       year  63.000000  63.000000  Default  28.0000  28.0000\n",
       "271   question  27.000000  27.000000  Default  27.0000  27.0000\n",
       "136  mortality  21.000000  21.000000  Default  26.0000  26.0000\n",
       "..         ...        ...        ...      ...      ...      ...\n",
       "271   question   0.596030  27.049294  Topic10  -4.7119  -0.4626\n",
       "172    quarter   0.592868  23.190212  Topic10  -4.7173  -0.3140\n",
       "166    premium   0.590157  11.779596  Topic10  -4.7218   0.3588\n",
       "151    outlook   0.589935   5.745509  Topic10  -4.7222   1.0763\n",
       "58       digit   0.589194   6.089269  Topic10  -4.7235   1.0170\n",
       "\n",
       "[566 rows x 6 columns], token_table=      Topic      Freq             Term\n",
       "term                                  \n",
       "532       5  0.720413         accident\n",
       "13        1  0.156834          account\n",
       "13        2  0.156834          account\n",
       "13        5  0.156834          account\n",
       "13        6  0.156834          account\n",
       "...     ...       ...              ...\n",
       "235       8  0.078950             year\n",
       "235       9  0.031580             year\n",
       "235      10  0.047370             year\n",
       "441       2  0.688318  yourexpectation\n",
       "539       5  0.720416     yourquestion\n",
       "\n",
       "[713 rows x 3 columns], R=30, lambda_step=0.01, plot_opts={'xlab': 'PC1', 'ylab': 'PC2'}, topic_order=[8, 2, 7, 3, 9, 6, 10, 1, 5, 4])"
      ]
     },
     "execution_count": 52,
     "metadata": {},
     "output_type": "execute_result"
    }
   ],
   "source": [
    "pyLDAvis.enable_notebook()\n",
    "vis = pyLDAvis.gensim_models.prepare(lda_model, corpus, id2word, mds=\"mmds\", R=30)\n",
    "vis"
   ]
  },
  {
   "cell_type": "markdown",
   "metadata": {
    "pycharm": {
     "name": "#%% md\n"
    }
   },
   "source": [
    "Initial attempt at LDA topic modelling using 4 sample texts from earnings calls \n",
    "\n",
    "**ToDo**\n",
    "- clean text to better categorise topics \n",
    "\n",
    "source: https://github.com/wjbmattingly/topic_modeling_textbook/blob/main/03_03_lda_model_demo.ipynb"
   ]
  }
 ],
 "metadata": {
  "interpreter": {
   "hash": "f58268aa8342540d55d27eb204047a9081022c1a084adc0113a3cd587c254134"
  },
  "kernelspec": {
   "display_name": "Python 3.8.13 ('nlp_env')",
   "language": "python",
   "name": "python3"
  },
  "language_info": {
   "codemirror_mode": {
    "name": "ipython",
    "version": 3
   },
   "file_extension": ".py",
   "mimetype": "text/x-python",
   "name": "python",
   "nbconvert_exporter": "python",
   "pygments_lexer": "ipython3",
   "version": "3.8.13"
  },
  "orig_nbformat": 4
 },
 "nbformat": 4,
 "nbformat_minor": 2
}
