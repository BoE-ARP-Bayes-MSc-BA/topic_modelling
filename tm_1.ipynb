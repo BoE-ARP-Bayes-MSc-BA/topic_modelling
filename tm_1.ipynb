{
 "cells": [
  {
   "cell_type": "markdown",
   "metadata": {},
   "source": [
    "# Topic modelling "
   ]
  },
  {
   "cell_type": "markdown",
   "metadata": {},
   "source": [
    "## LDA "
   ]
  },
  {
   "cell_type": "code",
   "execution_count": 1,
   "metadata": {},
   "outputs": [],
   "source": [
    "#pip install pyldavis\n"
   ]
  },
  {
   "cell_type": "code",
   "execution_count": 2,
   "metadata": {},
   "outputs": [],
   "source": [
    "import numpy as np\n",
    "import pandas as pd \n",
    "\n",
    "#Gensim\n",
    "import gensim\n",
    "import gensim.corpora as corpora\n",
    "from gensim.utils import simple_preprocess\n",
    "from gensim.models import CoherenceModel\n",
    "\n",
    "#spacy\n",
    "import spacy\n",
    "from nltk.corpus import stopwords\n",
    "\n",
    "#vis\n",
    "import pyLDAvis\n",
    "import pyLDAvis.gensim_models\n",
    "\n",
    "import warnings\n",
    "warnings.filterwarnings(\"ignore\", category=DeprecationWarning)"
   ]
  },
  {
   "cell_type": "code",
   "execution_count": 3,
   "metadata": {},
   "outputs": [
    {
     "data": {
      "text/html": [
       "<div>\n",
       "<style scoped>\n",
       "    .dataframe tbody tr th:only-of-type {\n",
       "        vertical-align: middle;\n",
       "    }\n",
       "\n",
       "    .dataframe tbody tr th {\n",
       "        vertical-align: top;\n",
       "    }\n",
       "\n",
       "    .dataframe thead th {\n",
       "        text-align: right;\n",
       "    }\n",
       "</style>\n",
       "<table border=\"1\" class=\"dataframe\">\n",
       "  <thead>\n",
       "    <tr style=\"text-align: right;\">\n",
       "      <th></th>\n",
       "      <th>Participant</th>\n",
       "    </tr>\n",
       "  </thead>\n",
       "  <tbody>\n",
       "    <tr>\n",
       "      <th>0</th>\n",
       "      <td>Yes, thank you, Uli. The good thing is that I ...</td>\n",
       "    </tr>\n",
       "    <tr>\n",
       "      <th>1</th>\n",
       "      <td>Three quick questions. One is just a follow-up...</td>\n",
       "    </tr>\n",
       "    <tr>\n",
       "      <th>2</th>\n",
       "      <td>Well, good afternoon to everybody here in Lond...</td>\n",
       "    </tr>\n",
       "    <tr>\n",
       "      <th>3</th>\n",
       "      <td>Well, thank you very much. We will now begin w...</td>\n",
       "    </tr>\n",
       "  </tbody>\n",
       "</table>\n",
       "</div>"
      ],
      "text/plain": [
       "                                         Participant\n",
       "0  Yes, thank you, Uli. The good thing is that I ...\n",
       "1  Three quick questions. One is just a follow-up...\n",
       "2  Well, good afternoon to everybody here in Lond...\n",
       "3  Well, thank you very much. We will now begin w..."
      ]
     },
     "execution_count": 3,
     "metadata": {},
     "output_type": "execute_result"
    }
   ],
   "source": [
    "data = pd.read_csv('all_participants.csv')\n",
    "data = data.loc[:, ~data.columns.str.contains('^Unnamed')]\n",
    "\n",
    "data"
   ]
  },
  {
   "cell_type": "code",
   "execution_count": 4,
   "metadata": {},
   "outputs": [
    {
     "data": {
      "text/plain": [
       "\"thank good thing be have interface surrounding again somy read glass break minute meeting be kind of enough toget quality product drugstore corner be online again thank thank think mention already part major part keyfigure result think start get detailed p&l look key metric remarkable development key metric whichwere only drive also market whomsoever first strong cash flow nearly reach mark again westarte little bit slow year think mention previous occasion wasone mobility contract come contract again little bit later whichwa cash negative first quarter turnaround have already willturnaround get money back second half year cash flow think support positive message quality theresult even little bit more depressed overall growth cash flow stay verypositive right hand side asset own management % cantell development dollar yield especially yield thegovernment bond today be approach so increase be reallyremarkable again be only drive very good result also yield andespecially currency exchange rate same go capital position next slide equity increase nearly 1.7billion % policyholder surplus why be little bit different?because pay back issue subordinated bond issue new subordinate bond whichthen again be reason why policyholder surplus decrease subordinatedbond here decrease little bit remember be call date come up tonow indicate last be already early refinancing be anannouncement call now have call subordinatedbond first call date expect green part bar godown other side slide see increase shareholder equity demonstrate very clearly where increase strong increase be come first course result dividend pay last year be demonstrate increase come valuation reserve onour invest asset as well currency exchange rate be more billioneuros be even high have produce profit now want distinguish component increase theincrease asset currency exchange rate think be also reflect theearning side high dollar dollar earning so earn alsohigher euro value amount when look valuation reserve middle be increase be really increase capitalbase also have impact future roi overall number capital drive valuation reserve assetportfolio be nearly modify duration year expect equal lose year run becapital component disappear future be only year think lead directly capital management action have alreadymentione here see point view impressive picture look thelast year year ago come here mention be intention todecrease volatility earning decrease volatility dividend payment look picture here see be rather successful coursehelpe market also catastrophe component business even ifin be second high natural catastrophe burden history ofreinsurance manage provide good dividend bonus do represent be kind of give toour shareholder start potential capital management action dividend yieldtoday few day ago % go back beginning year % goback year have invest re share year ago thedividend yield even be other perspective capital development roe have provide provide think chart demonstrate clearly achievement average capitalposition have be increase remarkably year still manage keep very very high level right hand side see average achievement left hand side lastfive year margin hurdle have show here old hurdle basis point as well new hurdle basis point have even increase overthe last year have bear mind have get be more challenging thefuture high capital position also high volatile capital component have try explain position be volatile future so be go be more challenging future be why also look atmanage capital position as well income position up there think then lead directly peer comparison always do think weare still number year horizon year bermudian company arein front so think be very surprising very low cap industry have be see so regard be still happy be stillcommitte stay most profitable reinsurer industry also future so let then have brief look p&l more detail group level think be notnecessary repeat growth turnover premium first component need explanation be other income expense line here havebeen long dollar other non - euro currency already course theyear so far majority swing inthe other expense line be base currency result be managemy portfolio very highly match basis so hand be little bit oneoff other hand think where be doubt stay little bit long theforeign currency see euro weaken especially dollar iswhy line have improve so remarkably moreover think other component here be fee income contract thelife side be deposit account where risk component be so low isno reinsurance treatment justify fee income be reflect line hasbeen increase as well moreover have be rather successful manage loccost also be mainly side where be possible decrease thecost majority need backup business tax rate be back normal remember last year have special effecton non - life side where defer taxis equalization reservescould be calculate little bit more realistically base decision german taxman have produce extraordinary effect course be notrepeate year be still little bit low side base very positive result inbermuda where tax rate be where cat business be write mainly thecontribution low tax environment have be little bit proportional samegoe business write so be why overall tax rate little bit low expect normalize tax ratio bearound % group level brief look side see slight growth % currency adjustedbasis be nice follow guidance number have beennegative have be problem at all be positively influence lowrisk low margin chinese surplus relief contract sometimes write sometimesthe margin be sufficient so again be nice see grow havebeen negative number be concern at all burden net retention have increase slightly so pay little bit less ourrepossession make feel here net premium income be grow littlebit more gross major loss think have already mention large loss budget be budget be unused regard be third very large low large loss number row course also impact competition onthe market perhaps also be mention let discuss little bit reserve policy look annual result run offtriangle see positive run off think be really fully line be try explain occasion approximately positive run off be expect quarter little bit more theyear so be extraordinary unusual effect run result refer mypresentation same place few month ago where be try explain theimpact be there confidence level as well run result nothingextraordinary here regard combine ratio fourth quarter be whenwe read first comment seem be little bit disappointing already mention stick reserve policy have most likely add andwe're wait final result reserve study most likely have edit tothe reserve redundancy always present occasion theinvestors have bear mind also volume reserve have increasedbase currency exchange rate so percentage wise have keep keptthe overall confidence level flat absolute term have increase thereserve number remember be base last study then also explain little bit why fourth quarter effect hadexpecte combine ratio have take place extent think be let look mtcr achievement year market side margin be get little bit narrow still even back verypositive cat result still have make overall result business wouldhave be still profitable fool combine ratio % isnothing really see also future be so far large cat year mightmake overall result get near breakeven point be good havebuffer happen apart again briefly look business still profitable hurdle over hurdle positive withgermany also well use be marine business big loss course very profitable aviation know happen there airport as well malaysian airline disaster course hit credit suretyprofitable market direct still have little bit problem somecasualty account where be look conservatively expect be farbetter future worldwide treaty edge cat course mention thatvery profitable course basis also overachievement structuredreinsurance very positive make margin far major loss mention see here very clearly year row add under amount last year where wereunder budget loss large number account so see here compare milliona compare then go back year see have save last year be go year regard always bear mind fool verypositive result segment go forever see large loss single one real single one be very major loss cat side clearly budget storm thenetherlands high large loss burden around account theaviation claim malaysian lose already mention overall mention budget so friendly pack picture althoughnot glamorous picture look reinsurance do various longevity deal take improved harden rate be major profitdriver do retrocede especially longevity deal be why netretention go down technical side mention australian businessdid really well fully line expectation even slightly well so explain theimprovement here mortality still slightly expectation badsurprise here as well be then basis remarkable improvement other income here also be usually well side do benefit also fromcurrency exchange rate here even also fee income depositedaccounte especially financial reinsurance contract have improve before margin wise think be rather happy financial solution impressive margin be thebusiness especially write where colleague do provide coverage balance sheet local balance sheet especially be improve andgrowe nicely longevity also over target mortality morbidity business mention mortality business ofthat business still fully line expectation here come back house contract mobility contract no long write where welooke reserve increase reserve incur loss especially thefourth quarter again no long write business reoccur be also reason why look very positive future even betternew turn page have very very brief look be hot offpress first time manage present market consistent embed valuenumber together year end result have demonstrate ourpresentation only major number find detail be interested youbelieve then find number appendix website especially very brand new website think be worth visitinganyway have increase % be now nearly think even moreimportantly value new business be even year row now havevery high level over threshold target metric again new record again be profit earn also long term until20 year year still more euro new business value lastthree year be very confident also result improve remarkably nextyear come perhaps mention page still important be market consistentembedde value recognize balance sheet increase be also increase more again believe number be off balance sheet value re carry so come investment side target point view i'mresponsible segment course look even little bit close be little bitunderrepresented underestimate when show here include technicalderivative see change fair value financial instrument be themodco derivative as well inflation swap back do ourtarget metric so always positive negative end % little bit over target come back very briefly impact subordinated bond redemption andreinvestment here do calculate asset begin year asset endof year divide of course month where do have thatmoney be include so also be little bit reason why number hereare little bit underrepresented realize gain loss again mention thatalready have turnover portfolio create loss apart be real surprise impairment appreciation drive regulardepreciation real estate portfolio so again extraordinary write off andwith nearly net investment income be happy again be little bit have expect be interesting look bottom page happen valuationreserve have address already various time have now here balancesheet valuation reserve be investment account available sale off balance sheet value be have hold maturity orother do account amortized cost altogether number have doubledfrom more nearly have take advantage realize more be buffer potential yield increase future brief look final look ask present then outlook theasset allocation be rather stable corporate portfolio have increase % alittle bit more be more be expect cover bond have gonedown little bit here competitive investor especially end last year be ease peak also compete buy issue have come little bita also price go remarkably real estate be develop as well private equity so keep portionsstable hear second reinvestment yield do invest today be amount expectation next year be roi withincreased asset own management estimate return thenet investment income again range previous year think conclude detail floor be target metric\""
      ]
     },
     "execution_count": 4,
     "metadata": {},
     "output_type": "execute_result"
    }
   ],
   "source": [
    "def lemmatization(texts, allowed_postags=[\"NOUN\", \"ADJ\", \"VERB\", \"ADV\"]):\n",
    "    nlp = spacy.load(\"en_core_web_sm\", disable=[\"parser\", \"ner\"])\n",
    "    texts_out = []\n",
    "\n",
    "    for row in range(len(data)):\n",
    "        for text in texts:\n",
    "            doc = nlp(data.loc[row,\"Participant\"])\n",
    "        \n",
    "        new_text = []\n",
    "        for token in doc:\n",
    "            if token.pos_ in allowed_postags:\n",
    "                new_text.append(token.lemma_)\n",
    "        final = \" \".join(new_text)\n",
    "        texts_out.append(final)\n",
    "    return (texts_out)\n",
    "\n",
    "lemmatized_texts = lemmatization(data)\n",
    "lemmatized_texts[0]"
   ]
  },
  {
   "cell_type": "code",
   "execution_count": 5,
   "metadata": {},
   "outputs": [
    {
     "name": "stdout",
     "output_type": "stream",
     "text": [
      "['thank', 'good', 'thing', 'be', 'have', 'interface', 'surrounding', 'again', 'somy', 'read', 'glass', 'break', 'minute', 'meeting', 'be', 'kind', 'of', 'enough', 'toget', 'quality']\n"
     ]
    }
   ],
   "source": [
    "def gen_words(texts):\n",
    "    final = []\n",
    "    for text in texts:\n",
    "        new = gensim.utils.simple_preprocess(text, deacc=True)\n",
    "        final.append(new)\n",
    "    return (final)\n",
    "\n",
    "data_words = gen_words(lemmatized_texts)\n",
    "\n",
    "print (data_words[0][0:20])"
   ]
  },
  {
   "cell_type": "code",
   "execution_count": 6,
   "metadata": {},
   "outputs": [
    {
     "name": "stdout",
     "output_type": "stream",
     "text": [
      "[(0, 1), (1, 6), (2, 3), (3, 2), (4, 2), (5, 1), (6, 1), (7, 1), (8, 16), (9, 4), (10, 1), (11, 1), (12, 1), (13, 2), (14, 1), (15, 8), (16, 1), (17, 27), (18, 1), (19, 1)]\n",
      "absolute\n"
     ]
    }
   ],
   "source": [
    "id2word = corpora.Dictionary(data_words)\n",
    "\n",
    "corpus = []\n",
    "for text in data_words:\n",
    "    new = id2word.doc2bow(text)\n",
    "    corpus.append(new)\n",
    "\n",
    "print (corpus[0][0:20])\n",
    "\n",
    "word = id2word[[0][:1][0]]\n",
    "print (word)"
   ]
  },
  {
   "cell_type": "code",
   "execution_count": 7,
   "metadata": {},
   "outputs": [],
   "source": [
    "lda_model = gensim.models.ldamodel.LdaModel(corpus=corpus,\n",
    "                                           id2word=id2word,\n",
    "                                           num_topics=5,\n",
    "                                           random_state=100,\n",
    "                                           update_every=1,\n",
    "                                           chunksize=100,\n",
    "                                           passes=10,\n",
    "                                           alpha=\"auto\")"
   ]
  },
  {
   "cell_type": "markdown",
   "metadata": {},
   "source": [
    "### Visualising data and topics"
   ]
  },
  {
   "cell_type": "code",
   "execution_count": 8,
   "metadata": {},
   "outputs": [
    {
     "name": "stderr",
     "output_type": "stream",
     "text": [
      "/Users/matheusmaciel/opt/anaconda3/envs/nlp_env/lib/python3.8/site-packages/pyLDAvis/_prepare.py:246: FutureWarning: In a future version of pandas all arguments of DataFrame.drop except for the argument 'labels' will be keyword-only.\n",
      "  default_term_info = default_term_info.sort_values(\n",
      "/Users/matheusmaciel/opt/anaconda3/envs/nlp_env/lib/python3.8/site-packages/past/builtins/misc.py:45: DeprecationWarning: the imp module is deprecated in favour of importlib; see the module's documentation for alternative uses\n",
      "  from imp import reload\n",
      "/Users/matheusmaciel/opt/anaconda3/envs/nlp_env/lib/python3.8/site-packages/past/builtins/misc.py:45: DeprecationWarning: the imp module is deprecated in favour of importlib; see the module's documentation for alternative uses\n",
      "  from imp import reload\n",
      "/Users/matheusmaciel/opt/anaconda3/envs/nlp_env/lib/python3.8/site-packages/past/builtins/misc.py:45: DeprecationWarning: the imp module is deprecated in favour of importlib; see the module's documentation for alternative uses\n",
      "  from imp import reload\n",
      "/Users/matheusmaciel/opt/anaconda3/envs/nlp_env/lib/python3.8/site-packages/past/builtins/misc.py:45: DeprecationWarning: the imp module is deprecated in favour of importlib; see the module's documentation for alternative uses\n",
      "  from imp import reload\n",
      "/Users/matheusmaciel/opt/anaconda3/envs/nlp_env/lib/python3.8/site-packages/past/builtins/misc.py:45: DeprecationWarning: the imp module is deprecated in favour of importlib; see the module's documentation for alternative uses\n",
      "  from imp import reload\n",
      "/Users/matheusmaciel/opt/anaconda3/envs/nlp_env/lib/python3.8/site-packages/past/builtins/misc.py:45: DeprecationWarning: the imp module is deprecated in favour of importlib; see the module's documentation for alternative uses\n",
      "  from imp import reload\n",
      "/Users/matheusmaciel/opt/anaconda3/envs/nlp_env/lib/python3.8/site-packages/past/builtins/misc.py:45: DeprecationWarning: the imp module is deprecated in favour of importlib; see the module's documentation for alternative uses\n",
      "  from imp import reload\n",
      "/Users/matheusmaciel/opt/anaconda3/envs/nlp_env/lib/python3.8/site-packages/past/builtins/misc.py:45: DeprecationWarning: the imp module is deprecated in favour of importlib; see the module's documentation for alternative uses\n",
      "  from imp import reload\n"
     ]
    },
    {
     "data": {
      "text/html": [
       "\n",
       "<link rel=\"stylesheet\" type=\"text/css\" href=\"https://cdn.jsdelivr.net/gh/bmabey/pyLDAvis@3.3.1/pyLDAvis/js/ldavis.v1.0.0.css\">\n",
       "\n",
       "\n",
       "<div id=\"ldavis_el485562605940485989242447\"></div>\n",
       "<script type=\"text/javascript\">\n",
       "\n",
       "var ldavis_el485562605940485989242447_data = {\"mdsDat\": {\"x\": [0.09684890532033674, -0.00753738202854759, -0.06473140949690402, -0.012846950304618921, -0.011733163490266211], \"y\": [-0.06710740706425451, 0.11796344465760787, -0.06272512402179063, 0.005835644419573037, 0.006033442008864217], \"topics\": [1, 2, 3, 4, 5], \"cluster\": [1, 1, 1, 1, 1], \"Freq\": [85.46595642896328, 8.716243589904952, 5.812596762125939, 0.002777611104194897, 0.002425607901642907]}, \"tinfo\": {\"Term\": [\"be\", \"have\", \"think\", \"also\", \"little\", \"year\", \"bit\", \"here\", \"increase\", \"so\", \"again\", \"mention\", \"look\", \"where\", \"very\", \"well\", \"result\", \"more\", \"reserve\", \"still\", \"side\", \"business\", \"course\", \"loss\", \"rate\", \"income\", \"back\", \"as\", \"future\", \"number\", \"little\", \"also\", \"mention\", \"where\", \"well\", \"reserve\", \"course\", \"back\", \"as\", \"income\", \"rate\", \"future\", \"currency\", \"why\", \"capital\", \"high\", \"positive\", \"bit\", \"value\", \"contract\", \"margin\", \"low\", \"write\", \"component\", \"line\", \"market\", \"expect\", \"so\", \"run\", \"major\", \"increase\", \"look\", \"year\", \"result\", \"be\", \"more\", \"side\", \"have\", \"still\", \"business\", \"very\", \"again\", \"loss\", \"think\", \"number\", \"even\", \"here\", \"see\", \"do\", \"come\", \"conference\", \"room\", \"like\", \"delighted\", \"dial\", \"reminder\", \"afternoon\", \"participant\", \"microphone\", \"participate\", \"question\", \"respond\", \"areoffere\", \"pleasure\", \"great\", \"kindly\", \"invitation\", \"mode\", \"feature\", \"afterwards\", \"note\", \"thenumber\", \"iwould\", \"onyour\", \"docheck\", \"depend\", \"length\", \"join\", \"move\", \"forget\", \"proceed\", \"call\", \"thank\", \"wait\", \"areminder\", \"financial\", \"disconnect\", \"come\", \"be\", \"then\", \"have\", \"here\", \"detail\", \"take\", \"present\", \"good\", \"hand\", \"first\", \"already\", \"do\", \"see\", \"very\", \"year\", \"how\", \"quick\", \"assumption\", \"variance\", \"hard\", \"just\", \"sort\", \"ve\", \"continue\", \"ofnegative\", \"ground\", \"express\", \"thenwhy\", \"lot\", \"book\", \"review\", \"short\", \"bad\", \"theamount\", \"implication\", \"proportion\", \"ev\", \"particularly\", \"disclosure\", \"thorough\", \"comfortable\", \"diversification\", \"andalso\", \"translate\", \"pass\", \"change\", \"question\", \"kind\", \"up\", \"be\", \"go\", \"think\", \"do\", \"last\", \"other\", \"have\", \"again\", \"year\", \"bit\", \"increase\", \"look\", \"come\", \"see\", \"business\", \"still\", \"result\", \"more\", \"loss\", \"ofnegative\", \"review\", \"ground\", \"ve\", \"continue\", \"express\", \"theamount\", \"thenwhy\", \"bad\", \"lot\", \"book\", \"proportion\", \"inreserve\", \"comfortable\", \"implication\", \"disclosure\", \"thorough\", \"particularly\", \"ev\", \"short\", \"pass\", \"diversification\", \"andalso\", \"hence\", \"translate\", \"reduce\", \"somaybe\", \"ofassumption\", \"andyour\", \"operating\", \"relate\", \"be\", \"year\", \"have\", \"here\", \"also\", \"little\", \"bit\", \"increase\", \"mention\", \"where\", \"so\", \"very\", \"loss\", \"look\", \"result\", \"number\", \"think\", \"well\", \"more\", \"side\", \"phone\", \"herephysically\", \"note\", \"length\", \"thenumber\", \"onyour\", \"feature\", \"morning\", \"line\", \"invitation\", \"income\", \"see\", \"again\", \"expect\", \"do\", \"rate\", \"currency\", \"even\", \"capital\", \"business\", \"especially\", \"still\", \"ofnegative\", \"ve\", \"bad\", \"thenwhy\", \"review\", \"ground\", \"lot\", \"ev\", \"theamount\", \"implication\", \"express\", \"particularly\", \"comfortable\", \"continue\", \"book\", \"proportion\", \"pass\", \"disclosure\", \"unusedbudget\", \"inreserve\", \"ofassumption\", \"somaybe\", \"andalso\", \"thorough\", \"diversification\", \"reduce\", \"short\", \"relate\", \"translate\", \"hence\", \"andyour\", \"be\", \"have\", \"willbe\", \"herephysically\", \"year\", \"also\", \"so\", \"join\", \"docheck\", \"somany\", \"mobile\", \"phone\", \"kick\", \"note\", \"little\", \"very\", \"think\", \"more\", \"increase\", \"number\", \"mention\", \"here\", \"still\", \"bit\", \"even\", \"again\", \"result\", \"business\", \"loss\", \"look\", \"side\", \"where\", \"value\", \"see\", \"course\", \"well\", \"rate\", \"already\", \"major\", \"go\"], \"Freq\": [125.0, 51.0, 20.0, 25.0, 24.0, 34.0, 24.0, 21.0, 19.0, 23.0, 16.0, 13.0, 17.0, 12.0, 19.0, 12.0, 14.0, 13.0, 10.0, 12.0, 14.0, 12.0, 9.0, 11.0, 8.0, 8.0, 8.0, 8.0, 8.0, 12.0, 24.253076030473114, 25.139584237750615, 13.133336391686022, 12.212690706722382, 12.207320594725502, 10.359090354190812, 9.437177268466606, 8.515376236928867, 8.513883878900016, 8.508696279403821, 8.50737200265467, 8.505321071484188, 7.58790288664893, 7.587492021298552, 7.58453277210141, 7.582349413256014, 7.581265373891484, 23.305124777616395, 6.660081489274664, 6.660392184973504, 6.660916377853376, 6.659272916451865, 6.657192273944064, 6.659749571192024, 6.655129882686331, 6.656103565655098, 6.65496604588339, 22.376519849832214, 5.735409069208718, 5.7346849614734445, 18.67553305874586, 16.83842334732263, 32.55326918019979, 14.0605330020812, 113.94222480583724, 13.139254890080306, 14.054432840081583, 46.471234452385964, 12.209093937115872, 12.20481465564634, 17.756347473787695, 14.973042025095726, 11.28094995950784, 18.683510977264145, 11.278733493743715, 11.281264050788087, 18.674758866184817, 14.06852535182047, 10.359678638669761, 9.434886948806856, 2.8740915877316002, 2.8740174798972458, 2.3195071676819308, 1.2160649758525064, 1.2153677908173932, 1.2157884566668427, 1.2151383681993566, 1.2154657932338528, 1.2152200080215485, 1.214878298182533, 3.9773349177672017, 0.6635223305287907, 0.6634634598192568, 0.6635426755534091, 0.6634828525235739, 0.663479173104228, 0.6633626004418934, 0.6633149844268292, 0.6631759456628417, 0.6632814367798522, 0.6630898039628619, 0.6631342600060173, 0.6631060799825566, 0.663055866730307, 0.6630659093807569, 0.6631415755574226, 0.66306889620352, 0.6629969094462002, 0.6631253428250143, 0.6631589770465642, 0.6638310554555527, 2.87466020952604, 2.3236518387822667, 1.2153538523111653, 0.6636113724769609, 1.771115426827796, 0.6635296893674825, 2.3315019016003284, 6.829952548450563, 1.7719138175385638, 3.4670848170235353, 2.3345988472201062, 1.2197793713258078, 1.219176379425949, 1.218489583339577, 1.2178510092902792, 1.2207264105781488, 1.2177948223925035, 1.2232687594842875, 1.2321302730368864, 1.2265469056850276, 1.2322833368816746, 1.2414451776274695, 0.9855399431052807, 0.985638668142161, 0.9850354639402165, 0.9848360509125063, 0.9847650381666802, 0.9847323607568121, 0.9843675977258124, 0.5377996155525262, 0.5377715568578338, 0.5376945975162191, 0.5377100124781179, 0.5377182684314944, 0.5377003131762489, 0.537664402665758, 0.5376486413002209, 0.5375697190046564, 0.5376156174867148, 0.5375232431832011, 0.5375062116709908, 0.5375451243463459, 0.5375279773662561, 0.5375141212207292, 0.537475381747193, 0.537419553027507, 0.5374463993094656, 0.5374001544237691, 0.5374003276255882, 0.537395247038895, 0.5373968058552667, 0.5373315087694704, 0.9865314657856209, 1.4457126972321859, 0.9884981147074277, 0.9883425794738865, 4.294058757913545, 1.4448544244846642, 1.9079529037396072, 1.4479874144562108, 0.9965149341057439, 0.9932805633360909, 1.4829294958427017, 1.0086660809256953, 0.5751998348894564, 0.5671461235036743, 0.5603110601169968, 0.5597109158138562, 0.5560316473049054, 0.5570657776327413, 0.555107962003708, 0.5531478947510267, 0.5518730716285978, 0.5507308056317112, 0.5496212747786322, 7.921219109573441e-05, 7.92226058588004e-05, 7.921289460953092e-05, 7.92140671325251e-05, 7.921083234849997e-05, 7.921343948786352e-05, 7.921751572956682e-05, 7.921460511366361e-05, 7.921634320657264e-05, 7.92135705345511e-05, 7.921146689035564e-05, 7.921394988022568e-05, 7.92260682502303e-05, 7.921246698349774e-05, 7.921304634780075e-05, 7.921325326362325e-05, 7.921722604741532e-05, 7.921675703821764e-05, 7.921595006650989e-05, 7.921401195497243e-05, 7.921363950649193e-05, 7.921606042161522e-05, 7.920884595660394e-05, 7.922392322287034e-05, 7.921194279674741e-05, 7.921684670174072e-05, 7.921635700096081e-05, 7.921021160103245e-05, 7.921566038435838e-05, 7.921326016081734e-05, 7.921707430914549e-05, 0.0001412767024107053, 0.00010408172107333416, 0.00010345548343933383, 9.320089391153408e-05, 9.384058107399713e-05, 9.261932940361222e-05, 9.135672905469706e-05, 9.047737819222253e-05, 8.83783137336437e-05, 8.729674403783668e-05, 8.891059089264528e-05, 8.83858523667769e-05, 8.687362876959377e-05, 8.785310619857766e-05, 8.733334744683752e-05, 8.656074445719244e-05, 8.796358545340625e-05, 8.657265591137454e-05, 8.644398185855382e-05, 8.658373970226664e-05, 7.957985292354644e-05, 7.955826470606527e-05, 7.95501674002113e-05, 7.954227701017984e-05, 7.952645484695242e-05, 7.952462019332623e-05, 7.952010942839565e-05, 7.950562532082043e-05, 8.438996297453396e-05, 7.950352857381906e-05, 8.482070653943317e-05, 8.568115219292499e-05, 8.556011333395464e-05, 8.394310066706174e-05, 8.497371389298028e-05, 8.423911444273497e-05, 8.384462942713242e-05, 8.454963991475976e-05, 8.376098025728842e-05, 8.435973947006031e-05, 8.400251309689653e-05, 8.409206626487596e-05, 6.957577794872838e-05, 6.958000015672515e-05, 6.95860835091884e-05, 6.958307797168427e-05, 6.957644651518721e-05, 6.956680952118604e-05, 6.957251341701049e-05, 6.958567996006459e-05, 6.95713870933366e-05, 6.957323619156057e-05, 6.956053342884277e-05, 6.957566953254587e-05, 6.956920672344382e-05, 6.955632929020975e-05, 6.955760016879365e-05, 6.955889513986256e-05, 6.95673756945836e-05, 6.955731105897362e-05, 6.958680026061723e-05, 6.956574342872466e-05, 6.957209179852293e-05, 6.957514552099705e-05, 6.956338236519436e-05, 6.955647986824102e-05, 6.956034068896274e-05, 6.956916456159507e-05, 6.955173967181669e-05, 6.957086910490903e-05, 6.955729901273112e-05, 6.956632767148598e-05, 6.955870842310379e-05, 0.00010818660522370978, 8.405375928525236e-05, 6.989041977974574e-05, 6.988179467011468e-05, 8.000294522679532e-05, 7.825801086172872e-05, 7.796154078752484e-05, 6.986128594225592e-05, 6.98445115495726e-05, 6.983551902954525e-05, 6.983404938796007e-05, 6.98269661973692e-05, 6.982017813971962e-05, 6.98195336657458e-05, 7.675230884962021e-05, 7.615698354519716e-05, 7.604298392928443e-05, 7.524603464099289e-05, 7.570635770570187e-05, 7.496423689015582e-05, 7.46859024340379e-05, 7.527171120688479e-05, 7.449352996441055e-05, 7.541071882223059e-05, 7.41887299135169e-05, 7.454369654130796e-05, 7.413437726735023e-05, 7.388994696075274e-05, 7.375094536852819e-05, 7.428828006154912e-05, 7.399254480813783e-05, 7.35856588751654e-05, 7.268200999391702e-05, 7.371682438664276e-05, 7.289821595433355e-05, 7.295366480856786e-05, 7.26007159263958e-05, 7.2455703259163e-05, 7.214425970552979e-05, 7.2476097547718e-05], \"Total\": [125.0, 51.0, 20.0, 25.0, 24.0, 34.0, 24.0, 21.0, 19.0, 23.0, 16.0, 13.0, 17.0, 12.0, 19.0, 12.0, 14.0, 13.0, 10.0, 12.0, 14.0, 12.0, 9.0, 11.0, 8.0, 8.0, 8.0, 8.0, 8.0, 12.0, 24.491104303327, 25.397426743055334, 13.356517672093878, 12.433977617963759, 12.433040819369964, 10.582947353132663, 9.655430609617532, 8.73089686771656, 8.729725197942527, 8.725841979564931, 8.724697872434916, 8.72601316849896, 7.801659649084002, 7.802469540070333, 7.800263941289525, 7.800898801781819, 7.799791349352602, 24.006104025794016, 6.872835475726807, 6.873185741779967, 6.874632631365291, 6.873423278705468, 6.871931466230931, 6.874644895618099, 6.87005196189867, 6.8718296213359515, 6.870974103783584, 23.179718977166292, 5.946901500671358, 5.946215979757799, 19.36560546889319, 17.520491035646792, 34.370098277383015, 14.737527537564342, 125.06648557550898, 13.810568525906028, 14.840971079736741, 51.42143627449493, 12.88421493210328, 12.882616580633886, 19.10174705790409, 16.110319141640097, 11.952860217149142, 20.720542707586876, 12.05500362796902, 12.05927701687833, 21.12999910001859, 15.85229743311482, 13.039953685290186, 12.32257672489945, 3.1607266335559356, 3.1617678350264957, 2.60646528708249, 1.4950161154975836, 1.4946336988191686, 1.4952833717668272, 1.4948339785939748, 1.4958538620331614, 1.496334556515978, 1.496084051991936, 5.619051887289932, 0.9410112100471126, 0.9409925220263146, 0.9411611566192397, 0.9411024690239927, 0.9411205061864859, 0.9410365743028347, 0.9410669282045799, 0.9408724059829513, 0.9410528185639757, 0.9408472543076519, 0.9409117835004314, 0.940893614349466, 0.9408370629504254, 0.9408596783343219, 0.9409875314435044, 0.940899914360385, 0.9408113130045603, 0.9410022983518589, 0.9410524005958534, 0.942209595494428, 6.870989564717849, 5.839795871219051, 2.4222859863121546, 0.9420834571801047, 4.8285913987683085, 0.9421090879088254, 12.32257672489945, 125.06648557550898, 8.538805354109659, 51.42143627449493, 21.12999910001859, 4.274664143699041, 4.2761731452692695, 4.274722240850701, 5.199612104424882, 6.12759382663818, 7.985211875748092, 8.912423577515758, 13.039953685290186, 15.85229743311482, 19.10174705790409, 34.370098277383015, 1.287849227228298, 1.2879883750156762, 1.2882821676068055, 1.2884253396830148, 1.2886101188369181, 1.288724015112106, 1.2886124189788513, 0.8374218438609328, 0.8374112298244534, 0.8373532908322292, 0.8373973774243139, 0.837448550340044, 0.8374913634303881, 0.8374867616238187, 0.8375359708426005, 0.8374820318416224, 0.8376484923453217, 0.8375123850271007, 0.8374941522700956, 0.8375703545249836, 0.8375626796802939, 0.8376493188150202, 0.8376391679473199, 0.837581717940314, 0.8376348392425993, 0.8375633026165056, 0.8376991058206418, 0.8377072745592382, 0.8377688972338532, 0.8376697376405752, 2.214235779422482, 5.619051887289932, 3.141044541952979, 3.140527058540699, 125.06648557550898, 9.707036687794286, 20.720542707586876, 13.039953685290186, 8.700377634363726, 9.25985588389772, 51.42143627449493, 16.110319141640097, 34.370098277383015, 24.006104025794016, 19.36560546889319, 17.520491035646792, 12.32257672489945, 15.85229743311482, 12.882616580633886, 12.88421493210328, 14.737527537564342, 13.810568525906028, 11.952860217149142, 0.8373532908322292, 0.8374820318416224, 0.8373973774243139, 0.8374218438609328, 0.8374112298244534, 0.837448550340044, 0.8374941522700956, 0.8374913634303881, 0.8375123850271007, 0.8374867616238187, 0.8375359708426005, 0.8375626796802939, 0.8377012716554978, 0.8375633026165056, 0.8375703545249836, 0.837581717940314, 0.8376348392425993, 0.8376391679473199, 0.8376493188150202, 0.8376484923453217, 0.8376697376405752, 0.8376991058206418, 0.8377072745592382, 0.8378792507579651, 0.8377688972338532, 0.8378412743749785, 0.837841375048729, 0.8377958879805514, 0.8378574206810367, 0.8378405465752286, 0.8379104726832627, 125.06648557550898, 34.370098277383015, 51.42143627449493, 21.12999910001859, 25.397426743055334, 24.491104303327, 24.006104025794016, 19.36560546889319, 13.356517672093878, 12.433977617963759, 23.179718977166292, 19.10174705790409, 11.952860217149142, 17.520491035646792, 14.737527537564342, 12.05500362796902, 20.720542707586876, 12.433040819369964, 13.810568525906028, 14.840971079736741, 0.9406944026891365, 0.940704803786126, 0.9408472543076519, 0.940899914360385, 0.9409117835004314, 0.9408370629504254, 0.9408724059829513, 0.9408730392396131, 6.87005196189867, 0.9410365743028347, 8.725841979564931, 15.85229743311482, 16.110319141640097, 6.870974103783584, 13.039953685290186, 8.724697872434916, 7.801659649084002, 12.05927701687833, 7.800263941289525, 12.882616580633886, 9.279636354733338, 12.88421493210328, 0.8373532908322292, 0.8374218438609328, 0.8375123850271007, 0.8374913634303881, 0.8374820318416224, 0.8373973774243139, 0.8374867616238187, 0.8376493188150202, 0.8374941522700956, 0.8375703545249836, 0.837448550340044, 0.8376391679473199, 0.8375633026165056, 0.8374112298244534, 0.8375359708426005, 0.8375626796802939, 0.8376697376405752, 0.837581717940314, 0.8379381235774178, 0.8377012716554978, 0.8377958879805514, 0.837841375048729, 0.8377072745592382, 0.8376348392425993, 0.8376991058206418, 0.8378412743749785, 0.8376484923453217, 0.8379104726832627, 0.8377688972338532, 0.8378792507579651, 0.8378574206810367, 125.06648557550898, 51.42143627449493, 0.9407566864597396, 0.940704803786126, 34.370098277383015, 25.397426743055334, 23.179718977166292, 0.9408113130045603, 0.9408596783343219, 0.9409203834760849, 0.9408754106945868, 0.9406944026891365, 0.9408749242712275, 0.9408472543076519, 24.491104303327, 19.10174705790409, 20.720542707586876, 13.810568525906028, 19.36560546889319, 12.05500362796902, 13.356517672093878, 21.12999910001859, 12.88421493210328, 24.006104025794016, 12.05927701687833, 16.110319141640097, 14.737527537564342, 12.882616580633886, 11.952860217149142, 17.520491035646792, 14.840971079736741, 12.433977617963759, 6.872835475726807, 15.85229743311482, 9.655430609617532, 12.433040819369964, 8.724697872434916, 8.912423577515758, 5.946215979757799, 9.707036687794286], \"Category\": [\"Default\", \"Default\", \"Default\", \"Default\", \"Default\", \"Default\", \"Default\", \"Default\", \"Default\", \"Default\", \"Default\", \"Default\", \"Default\", \"Default\", \"Default\", \"Default\", \"Default\", \"Default\", \"Default\", \"Default\", \"Default\", \"Default\", \"Default\", \"Default\", \"Default\", \"Default\", \"Default\", \"Default\", \"Default\", \"Default\", \"Topic1\", \"Topic1\", \"Topic1\", \"Topic1\", \"Topic1\", \"Topic1\", \"Topic1\", \"Topic1\", \"Topic1\", \"Topic1\", \"Topic1\", \"Topic1\", \"Topic1\", \"Topic1\", \"Topic1\", \"Topic1\", \"Topic1\", \"Topic1\", \"Topic1\", \"Topic1\", \"Topic1\", \"Topic1\", \"Topic1\", \"Topic1\", \"Topic1\", \"Topic1\", \"Topic1\", \"Topic1\", \"Topic1\", \"Topic1\", \"Topic1\", \"Topic1\", \"Topic1\", \"Topic1\", \"Topic1\", \"Topic1\", \"Topic1\", \"Topic1\", \"Topic1\", \"Topic1\", \"Topic1\", \"Topic1\", \"Topic1\", \"Topic1\", \"Topic1\", \"Topic1\", \"Topic1\", \"Topic1\", \"Topic1\", \"Topic1\", \"Topic2\", \"Topic2\", \"Topic2\", \"Topic2\", \"Topic2\", \"Topic2\", \"Topic2\", \"Topic2\", \"Topic2\", \"Topic2\", \"Topic2\", \"Topic2\", \"Topic2\", \"Topic2\", \"Topic2\", \"Topic2\", \"Topic2\", \"Topic2\", \"Topic2\", \"Topic2\", \"Topic2\", \"Topic2\", \"Topic2\", \"Topic2\", \"Topic2\", \"Topic2\", \"Topic2\", \"Topic2\", \"Topic2\", \"Topic2\", \"Topic2\", \"Topic2\", \"Topic2\", \"Topic2\", \"Topic2\", \"Topic2\", \"Topic2\", \"Topic2\", \"Topic2\", \"Topic2\", \"Topic2\", \"Topic2\", \"Topic2\", \"Topic2\", \"Topic2\", \"Topic2\", \"Topic2\", \"Topic2\", \"Topic2\", \"Topic2\", \"Topic2\", \"Topic2\", \"Topic2\", \"Topic3\", \"Topic3\", \"Topic3\", \"Topic3\", \"Topic3\", \"Topic3\", \"Topic3\", \"Topic3\", \"Topic3\", \"Topic3\", \"Topic3\", \"Topic3\", \"Topic3\", \"Topic3\", \"Topic3\", \"Topic3\", \"Topic3\", \"Topic3\", \"Topic3\", \"Topic3\", \"Topic3\", \"Topic3\", \"Topic3\", \"Topic3\", \"Topic3\", \"Topic3\", \"Topic3\", \"Topic3\", \"Topic3\", \"Topic3\", \"Topic3\", \"Topic3\", \"Topic3\", \"Topic3\", \"Topic3\", \"Topic3\", \"Topic3\", \"Topic3\", \"Topic3\", \"Topic3\", \"Topic3\", \"Topic3\", \"Topic3\", \"Topic3\", \"Topic3\", \"Topic3\", \"Topic3\", \"Topic3\", \"Topic3\", \"Topic3\", \"Topic3\", \"Topic3\", \"Topic3\", \"Topic4\", \"Topic4\", \"Topic4\", \"Topic4\", \"Topic4\", \"Topic4\", \"Topic4\", \"Topic4\", \"Topic4\", \"Topic4\", \"Topic4\", \"Topic4\", \"Topic4\", \"Topic4\", \"Topic4\", \"Topic4\", \"Topic4\", \"Topic4\", \"Topic4\", \"Topic4\", \"Topic4\", \"Topic4\", \"Topic4\", \"Topic4\", \"Topic4\", \"Topic4\", \"Topic4\", \"Topic4\", \"Topic4\", \"Topic4\", \"Topic4\", \"Topic4\", \"Topic4\", \"Topic4\", \"Topic4\", \"Topic4\", \"Topic4\", \"Topic4\", \"Topic4\", \"Topic4\", \"Topic4\", \"Topic4\", \"Topic4\", \"Topic4\", \"Topic4\", \"Topic4\", \"Topic4\", \"Topic4\", \"Topic4\", \"Topic4\", \"Topic4\", \"Topic4\", \"Topic4\", \"Topic4\", \"Topic4\", \"Topic4\", \"Topic4\", \"Topic4\", \"Topic4\", \"Topic4\", \"Topic4\", \"Topic4\", \"Topic4\", \"Topic4\", \"Topic4\", \"Topic4\", \"Topic4\", \"Topic4\", \"Topic4\", \"Topic4\", \"Topic4\", \"Topic4\", \"Topic4\", \"Topic5\", \"Topic5\", \"Topic5\", \"Topic5\", \"Topic5\", \"Topic5\", \"Topic5\", \"Topic5\", \"Topic5\", \"Topic5\", \"Topic5\", \"Topic5\", \"Topic5\", \"Topic5\", \"Topic5\", \"Topic5\", \"Topic5\", \"Topic5\", \"Topic5\", \"Topic5\", \"Topic5\", \"Topic5\", \"Topic5\", \"Topic5\", \"Topic5\", \"Topic5\", \"Topic5\", \"Topic5\", \"Topic5\", \"Topic5\", \"Topic5\", \"Topic5\", \"Topic5\", \"Topic5\", \"Topic5\", \"Topic5\", \"Topic5\", \"Topic5\", \"Topic5\", \"Topic5\", \"Topic5\", \"Topic5\", \"Topic5\", \"Topic5\", \"Topic5\", \"Topic5\", \"Topic5\", \"Topic5\", \"Topic5\", \"Topic5\", \"Topic5\", \"Topic5\", \"Topic5\", \"Topic5\", \"Topic5\", \"Topic5\", \"Topic5\", \"Topic5\", \"Topic5\", \"Topic5\", \"Topic5\", \"Topic5\", \"Topic5\", \"Topic5\", \"Topic5\", \"Topic5\", \"Topic5\", \"Topic5\", \"Topic5\", \"Topic5\", \"Topic5\"], \"logprob\": [30.0, 29.0, 28.0, 27.0, 26.0, 25.0, 24.0, 23.0, 22.0, 21.0, 20.0, 19.0, 18.0, 17.0, 16.0, 15.0, 14.0, 13.0, 12.0, 11.0, 10.0, 9.0, 8.0, 7.0, 6.0, 5.0, 4.0, 3.0, 2.0, 1.0, -4.3197, -4.2838, -4.9331, -5.0058, -5.0062, -5.1704, -5.2636, -5.3664, -5.3665, -5.3671, -5.3673, -5.3675, -5.4817, -5.4817, -5.4821, -5.4824, -5.4826, -4.3596, -5.6121, -5.6121, -5.612, -5.6122, -5.6125, -5.6122, -5.6128, -5.6127, -5.6129, -4.4002, -5.7616, -5.7617, -4.581, -4.6846, -4.0254, -4.8649, -2.7725, -4.9326, -4.8653, -3.6694, -5.0061, -5.0064, -4.6315, -4.802, -5.0851, -4.5806, -5.0853, -5.0851, -4.5811, -4.8643, -5.1703, -5.2638, -4.1696, -4.1696, -4.3839, -5.0297, -5.0303, -5.0299, -5.0304, -5.0302, -5.0304, -5.0307, -3.8447, -5.6355, -5.6356, -5.6355, -5.6356, -5.6356, -5.6357, -5.6358, -5.636, -5.6359, -5.6361, -5.6361, -5.6361, -5.6362, -5.6362, -5.6361, -5.6362, -5.6363, -5.6361, -5.636, -5.635, -4.1694, -4.3822, -5.0303, -5.6354, -4.6537, -5.6355, -4.3788, -3.304, -4.6532, -3.982, -4.3775, -5.0266, -5.0271, -5.0277, -5.0282, -5.0259, -5.0283, -5.0238, -5.0166, -5.0211, -5.0164, -5.009, -4.8347, -4.8346, -4.8352, -4.8354, -4.8355, -4.8355, -4.8359, -5.4404, -5.4405, -5.4406, -5.4406, -5.4406, -5.4406, -5.4407, -5.4407, -5.4408, -5.4408, -5.4409, -5.441, -5.4409, -5.4409, -5.4409, -5.441, -5.4411, -5.4411, -5.4412, -5.4412, -5.4412, -5.4412, -5.4413, -4.8337, -4.4515, -4.8317, -4.8319, -3.3629, -4.4521, -4.1741, -4.45, -4.8236, -4.8269, -4.4261, -4.8115, -5.3732, -5.3873, -5.3994, -5.4005, -5.4071, -5.4052, -5.4087, -5.4123, -5.4146, -5.4167, -5.4187, -6.6173, -6.6172, -6.6173, -6.6173, -6.6173, -6.6173, -6.6173, -6.6173, -6.6173, -6.6173, -6.6173, -6.6173, -6.6172, -6.6173, -6.6173, -6.6173, -6.6173, -6.6173, -6.6173, -6.6173, -6.6173, -6.6173, -6.6174, -6.6172, -6.6173, -6.6173, -6.6173, -6.6174, -6.6173, -6.6173, -6.6173, -6.0387, -6.3443, -6.3503, -6.4547, -6.4479, -6.461, -6.4747, -6.4844, -6.5078, -6.5201, -6.5018, -6.5077, -6.525, -6.5138, -6.5197, -6.5286, -6.5125, -6.5285, -6.53, -6.5283, -6.6127, -6.613, -6.6131, -6.6132, -6.6134, -6.6134, -6.6135, -6.6136, -6.554, -6.6137, -6.5489, -6.5388, -6.5402, -6.5593, -6.5471, -6.5558, -6.5605, -6.5521, -6.5615, -6.5544, -6.5586, -6.5575, -6.6115, -6.6115, -6.6114, -6.6114, -6.6115, -6.6117, -6.6116, -6.6114, -6.6116, -6.6116, -6.6118, -6.6115, -6.6116, -6.6118, -6.6118, -6.6118, -6.6117, -6.6118, -6.6114, -6.6117, -6.6116, -6.6115, -6.6117, -6.6118, -6.6118, -6.6116, -6.6119, -6.6116, -6.6118, -6.6117, -6.6118, -6.1701, -6.4225, -6.607, -6.6071, -6.4719, -6.4939, -6.4977, -6.6074, -6.6077, -6.6078, -6.6078, -6.6079, -6.608, -6.608, -6.5134, -6.5212, -6.5227, -6.5332, -6.5271, -6.5369, -6.5407, -6.5328, -6.5432, -6.531, -6.5473, -6.5426, -6.5481, -6.5514, -6.5533, -6.546, -6.55, -6.5555, -6.5679, -6.5537, -6.5649, -6.5641, -6.569, -6.571, -6.5753, -6.5707], \"loglift\": [30.0, 29.0, 28.0, 27.0, 26.0, 25.0, 24.0, 23.0, 22.0, 21.0, 20.0, 19.0, 18.0, 17.0, 16.0, 15.0, 14.0, 13.0, 12.0, 11.0, 10.0, 9.0, 8.0, 7.0, 6.0, 5.0, 4.0, 3.0, 2.0, 1.0, 0.1473, 0.1468, 0.1402, 0.1391, 0.1387, 0.1357, 0.1342, 0.1321, 0.132, 0.1319, 0.1318, 0.1314, 0.1293, 0.1291, 0.129, 0.1286, 0.1286, 0.1274, 0.1256, 0.1256, 0.1255, 0.1254, 0.1253, 0.1253, 0.1253, 0.1252, 0.1251, 0.1218, 0.1208, 0.1208, 0.1208, 0.1173, 0.1027, 0.11, 0.0639, 0.1072, 0.1026, 0.0558, 0.1032, 0.103, 0.084, 0.0838, 0.0992, 0.0536, 0.0905, 0.0904, 0.0335, 0.0377, -0.073, -0.11, 2.3449, 2.3446, 2.3233, 2.2335, 2.2331, 2.2331, 2.2328, 2.2324, 2.2319, 2.2318, 2.0944, 2.0906, 2.0905, 2.0905, 2.0904, 2.0904, 2.0903, 2.0902, 2.0902, 2.0902, 2.0901, 2.0901, 2.0901, 2.0901, 2.0901, 2.09, 2.09, 2.09, 2.09, 2.09, 2.0898, 1.5686, 1.5184, 1.7503, 2.0896, 1.437, 2.0894, 0.7751, -0.4675, 0.8674, -0.2568, 0.2371, 1.1859, 1.1851, 1.1849, 0.9885, 0.8266, 0.5594, 0.4541, 0.0807, -0.1191, -0.3009, -0.8809, 2.5776, 2.5776, 2.5768, 2.5764, 2.5762, 2.5761, 2.5758, 2.4023, 2.4023, 2.4022, 2.4022, 2.4021, 2.402, 2.402, 2.4019, 2.4018, 2.4017, 2.4017, 2.4017, 2.4017, 2.4016, 2.4015, 2.4014, 2.4014, 2.4014, 2.4014, 2.4012, 2.4012, 2.4011, 2.4011, 2.0367, 1.4876, 1.689, 1.689, -0.5265, 0.9403, 0.46, 0.6473, 0.6783, 0.6127, -0.7009, 0.0743, -1.2451, -0.9003, -0.6976, -0.5986, -0.2532, -0.5032, -0.2993, -0.303, -0.4397, -0.3768, -0.2344, 1.2255, 1.2254, 1.2254, 1.2254, 1.2254, 1.2254, 1.2254, 1.2253, 1.2253, 1.2253, 1.2252, 1.2252, 1.2252, 1.2252, 1.2252, 1.2252, 1.2252, 1.2252, 1.2252, 1.2251, 1.2251, 1.2251, 1.225, 1.225, 1.225, 1.2249, 1.2249, 1.2249, 1.2249, 1.2249, 1.2249, -3.2023, -2.2162, -2.6251, -1.8401, -2.0172, -1.994, -1.9877, -1.7826, -1.4346, -1.3753, -1.9798, -1.7922, -1.3407, -1.7119, -1.5448, -1.3528, -1.8784, -1.3835, -1.4901, -1.5605, 1.1137, 1.1134, 1.1132, 1.113, 1.1128, 1.1129, 1.1128, 1.1126, -0.8159, 1.1124, -1.0499, -1.6369, -1.6544, -0.8213, -1.4499, -1.0567, -0.9495, -1.3767, -0.9504, -1.445, -1.1212, -1.4483, 1.2313, 1.2312, 1.2312, 1.2312, 1.2311, 1.2311, 1.2311, 1.231, 1.231, 1.231, 1.2309, 1.2309, 1.2309, 1.2309, 1.2308, 1.2308, 1.2308, 1.2307, 1.2307, 1.2307, 1.2307, 1.2307, 1.2307, 1.2306, 1.2306, 1.2306, 1.2306, 1.2305, 1.2305, 1.2305, 1.2304, -3.3337, -2.6973, 1.1193, 1.1193, -2.3438, -2.0633, -1.9757, 1.1189, 1.1186, 1.1184, 1.1184, 1.1185, 1.1182, 1.1182, -2.0464, -1.8057, -1.8885, -1.4933, -1.8253, -1.3611, -1.4674, -1.9183, -1.434, -2.044, -1.3719, -1.6567, -1.5732, -1.442, -1.3689, -1.7441, -1.5821, -1.4106, -0.8302, -1.6518, -1.1671, -1.4192, -1.0699, -1.0931, -0.6928, -1.1783]}, \"token.table\": {\"Topic\": [2, 2, 1, 3, 1, 2, 1, 3, 3, 2, 2, 1, 3, 1, 3, 1, 2, 3, 1, 3, 3, 1, 3, 1, 2, 1, 1, 3, 1, 2, 3, 3, 1, 2, 3, 1, 1, 1, 2, 2, 1, 2, 2, 3, 2, 3, 1, 2, 3, 2, 1, 2, 3, 1, 2, 1, 3, 2, 1, 2, 1, 2, 2, 1, 1, 2, 3, 1, 2, 2, 3, 1, 2, 3, 1, 2, 3, 3, 1, 2, 2, 1, 3, 3, 1, 1, 3, 3, 2, 2, 2, 3, 2, 1, 3, 2, 1, 3, 2, 2, 1, 1, 1, 3, 1, 3, 3, 1, 1, 1, 1, 1, 2, 2, 2, 1, 3, 2, 2, 2, 1, 2, 3, 3, 2, 3, 1, 2, 3, 2, 2, 3, 3, 2, 2, 1, 1, 2, 2, 3, 2, 3, 3, 1, 3, 3, 2, 1, 2, 1, 3, 3, 2, 1, 1, 2, 3, 3, 1, 2, 1, 2, 2, 3, 3, 1, 3, 1, 2, 1, 2, 3, 3, 1, 2, 2, 3, 1, 3, 3, 3, 3, 1, 3, 1, 3, 3, 1, 2, 1, 2, 1, 1, 1, 2, 1, 1, 2, 3], \"Freq\": [0.6689706109976102, 1.062639609884997, 0.9310802516152351, 0.062072016774349, 0.8976234051736928, 0.1122029256467116, 0.984351692512943, 1.1937344110162498, 1.193520490857703, 1.061477082925598, 1.0627077012754786, 1.0309602875152557, 0.7762274640948135, 1.0308219346031309, 1.1940121935840287, 0.9115151791098537, 0.05597023029621909, 0.03198298874069662, 0.9580896581672319, 0.041656072094227475, 1.1939785690565063, 0.9314877862653538, 0.07762398218877949, 0.582157775430162, 0.4366183315726215, 1.0256063205314376, 0.45162308788128264, 0.45162308788128264, 0.7303667245028607, 0.16230371655619125, 0.08115185827809562, 1.193939606565916, 1.0182344115638327, 0.9491488343694209, 1.1941564244482727, 1.0184505792487417, 0.9321179307151072, 1.025422840759182, 0.6688891107151522, 1.0627133374083806, 0.7018095221403705, 0.2339365073801235, 0.6690602525488669, 1.1939133562502853, 1.061448204708091, 1.193746051597324, 0.7668738893820284, 0.07668738893820284, 0.07668738893820284, 1.0628577491708209, 0.9698655912749532, 0.1077628434749948, 1.1938170037727112, 0.9121608189781402, 0.08292371081619455, 1.0187783994332573, 1.1941032074077296, 1.06284337136583, 0.6212992055540771, 0.41419947036938476, 0.8766204465105952, 0.12523149235865647, 1.0626400818560393, 1.0313988560652345, 0.8241444075367791, 0.10301805094209739, 0.10301805094209739, 0.7692881545136782, 0.19232203862841954, 1.062583547397436, 1.1941761784301534, 0.8159809774374652, 0.16319619548749303, 0.7760299142323873, 0.8945685560871047, 0.058341427570898136, 0.01944714252363271, 1.1934893949162444, 0.8991954949957042, 0.09465215736796886, 1.0630327345786097, 1.0255228536194707, 0.7764884109549023, 1.1939295542129544, 1.0314190906822653, 0.9811208862289146, 0.051637941380469184, 1.1937429652264477, 1.0626579532690834, 1.0628194141708573, 1.0629123886769767, 0.7759613294030298, 1.0628405266242682, 0.6367308623890058, 0.3183654311945029, 1.0625631823198707, 0.9195003178255784, 0.1149375397281973, 1.0628122978199979, 0.7673227070822308, 1.018915146322331, 0.9799476455922698, 0.9702924401726063, 0.05707602589250625, 0.9202818237778734, 0.08366198397980666, 1.194048725093972, 1.018415382868487, 1.0090450835330054, 1.018236228080425, 1.0186515652637982, 0.9733075880370555, 0.6682997432929512, 1.0628399771461403, 1.0626236774762194, 0.9413080986213164, 0.0724083152785628, 1.062842656016769, 1.0626966605198245, 1.0628717843640594, 0.9124841716744665, 0.08295310651586059, 1.1936081500834652, 1.1942390517222659, 1.062883297628648, 1.1935445283564006, 0.8639443313487712, 0.1079930414185964, 0.1079930414185964, 0.6685145022394113, 0.6684116434959432, 1.1938314709549152, 1.193787903591519, 1.063044488349594, 1.0625172883166112, 1.0256684623575238, 0.7017999839453846, 0.23393332798179484, 1.0613349776757965, 1.1939404945570284, 0.7118638660461275, 0.17796596651153188, 0.77640452305156, 1.0315543451005773, 1.193543491571229, 1.1934449235342217, 0.668769558253296, 0.9449163514018517, 1.0626865964220915, 0.9499558161513548, 0.06785398686795391, 1.1940554686301754, 0.9488362702553902, 1.0089287672450347, 0.8831527454660645, 0.06308233896186174, 0.06308233896186174, 1.1938181816576932, 0.9433344977752184, 0.06738103555537274, 0.9491055530773086, 0.043141161503514026, 1.062789177024367, 1.1935433481568511, 0.7760285290378006, 0.9313722305345821, 0.0776143525445485, 0.7015618633962238, 0.23385395446540794, 0.5137165863596792, 0.3424777242397862, 0.1712388621198931, 1.1940381879556043, 0.819786809712316, 0.23422480277494742, 1.0627988909648314, 1.1940421640934564, 0.9169643994432204, 0.09652256836244426, 1.1938376404021274, 1.1936466050503924, 1.193405541367052, 0.6368357803385191, 0.31841789016925953, 1.0185024833960172, 0.7761412083419792, 1.1941412889225587, 0.9423221836953285, 0.05235123242751825, 0.41283316901918127, 0.41283316901918127, 0.9651701602479008, 0.965097442564415, 1.025316402571677, 1.0629741083884348, 1.018636468422074, 0.9601369112672978, 0.02909505791719084, 0.02909505791719084], \"Term\": [\"afternoon\", \"afterwards\", \"again\", \"again\", \"already\", \"already\", \"also\", \"andalso\", \"andyour\", \"areminder\", \"areoffere\", \"as\", \"assumption\", \"back\", \"bad\", \"be\", \"be\", \"be\", \"bit\", \"bit\", \"book\", \"business\", \"business\", \"call\", \"call\", \"capital\", \"change\", \"change\", \"come\", \"come\", \"come\", \"comfortable\", \"component\", \"conference\", \"continue\", \"contract\", \"course\", \"currency\", \"delighted\", \"depend\", \"detail\", \"detail\", \"dial\", \"disclosure\", \"disconnect\", \"diversification\", \"do\", \"do\", \"do\", \"docheck\", \"especially\", \"especially\", \"ev\", \"even\", \"even\", \"expect\", \"express\", \"feature\", \"financial\", \"financial\", \"first\", \"first\", \"forget\", \"future\", \"go\", \"go\", \"go\", \"good\", \"good\", \"great\", \"ground\", \"hand\", \"hand\", \"hard\", \"have\", \"have\", \"have\", \"hence\", \"here\", \"here\", \"herephysically\", \"high\", \"how\", \"implication\", \"income\", \"increase\", \"increase\", \"inreserve\", \"invitation\", \"iwould\", \"join\", \"just\", \"kick\", \"kind\", \"kind\", \"kindly\", \"last\", \"last\", \"length\", \"like\", \"line\", \"little\", \"look\", \"look\", \"loss\", \"loss\", \"lot\", \"low\", \"major\", \"margin\", \"market\", \"mention\", \"microphone\", \"mobile\", \"mode\", \"more\", \"more\", \"morning\", \"move\", \"note\", \"number\", \"number\", \"ofassumption\", \"ofnegative\", \"onyour\", \"operating\", \"other\", \"other\", \"other\", \"participant\", \"participate\", \"particularly\", \"pass\", \"phone\", \"pleasure\", \"positive\", \"present\", \"present\", \"proceed\", \"proportion\", \"question\", \"question\", \"quick\", \"rate\", \"reduce\", \"relate\", \"reminder\", \"reserve\", \"respond\", \"result\", \"result\", \"review\", \"room\", \"run\", \"see\", \"see\", \"see\", \"short\", \"side\", \"side\", \"so\", \"so\", \"somany\", \"somaybe\", \"sort\", \"still\", \"still\", \"take\", \"take\", \"thank\", \"thank\", \"thank\", \"theamount\", \"then\", \"then\", \"thenumber\", \"thenwhy\", \"think\", \"think\", \"thorough\", \"translate\", \"unusedbudget\", \"up\", \"up\", \"value\", \"variance\", \"ve\", \"very\", \"very\", \"wait\", \"wait\", \"well\", \"where\", \"why\", \"willbe\", \"write\", \"year\", \"year\", \"year\"]}, \"R\": 30, \"lambda.step\": 0.01, \"plot.opts\": {\"xlab\": \"PC1\", \"ylab\": \"PC2\"}, \"topic.order\": [4, 1, 5, 3, 2]};\n",
       "\n",
       "function LDAvis_load_lib(url, callback){\n",
       "  var s = document.createElement('script');\n",
       "  s.src = url;\n",
       "  s.async = true;\n",
       "  s.onreadystatechange = s.onload = callback;\n",
       "  s.onerror = function(){console.warn(\"failed to load library \" + url);};\n",
       "  document.getElementsByTagName(\"head\")[0].appendChild(s);\n",
       "}\n",
       "\n",
       "if(typeof(LDAvis) !== \"undefined\"){\n",
       "   // already loaded: just create the visualization\n",
       "   !function(LDAvis){\n",
       "       new LDAvis(\"#\" + \"ldavis_el485562605940485989242447\", ldavis_el485562605940485989242447_data);\n",
       "   }(LDAvis);\n",
       "}else if(typeof define === \"function\" && define.amd){\n",
       "   // require.js is available: use it to load d3/LDAvis\n",
       "   require.config({paths: {d3: \"https://d3js.org/d3.v5\"}});\n",
       "   require([\"d3\"], function(d3){\n",
       "      window.d3 = d3;\n",
       "      LDAvis_load_lib(\"https://cdn.jsdelivr.net/gh/bmabey/pyLDAvis@3.3.1/pyLDAvis/js/ldavis.v3.0.0.js\", function(){\n",
       "        new LDAvis(\"#\" + \"ldavis_el485562605940485989242447\", ldavis_el485562605940485989242447_data);\n",
       "      });\n",
       "    });\n",
       "}else{\n",
       "    // require.js not available: dynamically load d3 & LDAvis\n",
       "    LDAvis_load_lib(\"https://d3js.org/d3.v5.js\", function(){\n",
       "         LDAvis_load_lib(\"https://cdn.jsdelivr.net/gh/bmabey/pyLDAvis@3.3.1/pyLDAvis/js/ldavis.v3.0.0.js\", function(){\n",
       "                 new LDAvis(\"#\" + \"ldavis_el485562605940485989242447\", ldavis_el485562605940485989242447_data);\n",
       "            })\n",
       "         });\n",
       "}\n",
       "</script>"
      ],
      "text/plain": [
       "PreparedData(topic_coordinates=              x         y  topics  cluster       Freq\n",
       "topic                                                \n",
       "3      0.096849 -0.067107       1        1  85.465956\n",
       "0     -0.007537  0.117963       2        1   8.716244\n",
       "4     -0.064731 -0.062725       3        1   5.812597\n",
       "2     -0.012847  0.005836       4        1   0.002778\n",
       "1     -0.011733  0.006033       5        1   0.002426, topic_info=        Term        Freq       Total Category  logprob  loglift\n",
       "56        be  125.000000  125.000000  Default  30.0000  30.0000\n",
       "241     have   51.000000   51.000000  Default  29.0000  29.0000\n",
       "562    think   20.000000   20.000000  Default  28.0000  28.0000\n",
       "17      also   25.000000   25.000000  Default  27.0000  27.0000\n",
       "308   little   24.000000   24.000000  Default  26.0000  26.0000\n",
       "..       ...         ...         ...      ...      ...      ...\n",
       "604     well    0.000073   12.433041   Topic5  -6.5641  -1.4192\n",
       "439     rate    0.000073    8.724698   Topic5  -6.5690  -1.0699\n",
       "15   already    0.000072    8.912424   Topic5  -6.5710  -1.0931\n",
       "320    major    0.000072    5.946216   Topic5  -6.5753  -0.6928\n",
       "223       go    0.000072    9.707037   Topic5  -6.5707  -1.1783\n",
       "\n",
       "[330 rows x 6 columns], token_table=      Topic      Freq        Term\n",
       "term                             \n",
       "672       2  0.668971   afternoon\n",
       "673       2  1.062640  afterwards\n",
       "8         1  0.931080       again\n",
       "8         3  0.062072       again\n",
       "15        1  0.897623     already\n",
       "...     ...       ...         ...\n",
       "716       2  1.062974      willbe\n",
       "623       1  1.018636       write\n",
       "624       1  0.960137        year\n",
       "624       2  0.029095        year\n",
       "624       3  0.029095        year\n",
       "\n",
       "[199 rows x 3 columns], R=30, lambda_step=0.01, plot_opts={'xlab': 'PC1', 'ylab': 'PC2'}, topic_order=[4, 1, 5, 3, 2])"
      ]
     },
     "execution_count": 8,
     "metadata": {},
     "output_type": "execute_result"
    }
   ],
   "source": [
    "pyLDAvis.enable_notebook()\n",
    "vis = pyLDAvis.gensim_models.prepare(lda_model, corpus, id2word, mds=\"mmds\", R=30)\n",
    "vis"
   ]
  },
  {
   "cell_type": "markdown",
   "metadata": {},
   "source": [
    "Initial attempt at LDA topic modelling using 4 sample texts from earnings calls \n",
    "\n",
    "**ToDo**\n",
    "- clean text to better categorise topics \n",
    "\n",
    "source: https://github.com/wjbmattingly/topic_modeling_textbook/blob/main/03_03_lda_model_demo.ipynb"
   ]
  }
 ],
 "metadata": {
  "interpreter": {
   "hash": "f58268aa8342540d55d27eb204047a9081022c1a084adc0113a3cd587c254134"
  },
  "kernelspec": {
   "display_name": "Python 3.8.13 ('nlp_env')",
   "language": "python",
   "name": "python3"
  },
  "language_info": {
   "codemirror_mode": {
    "name": "ipython",
    "version": 3
   },
   "file_extension": ".py",
   "mimetype": "text/x-python",
   "name": "python",
   "nbconvert_exporter": "python",
   "pygments_lexer": "ipython3",
   "version": "3.8.13"
  },
  "orig_nbformat": 4
 },
 "nbformat": 4,
 "nbformat_minor": 2
}
